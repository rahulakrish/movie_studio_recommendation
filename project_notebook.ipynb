{
 "cells": [
  {
   "cell_type": "markdown",
   "metadata": {},
   "source": [
    "# Phase1_Project"
   ]
  },
  {
   "cell_type": "markdown",
   "metadata": {},
   "source": [
    "> #### Objective : To provide to Microsoft Studio information on the kinds of movies that are doing well at the box office"
   ]
  },
  {
   "cell_type": "code",
   "execution_count": 1,
   "metadata": {},
   "outputs": [],
   "source": [
    "# Importing relevant libraries\n",
    "\n",
    "import pandas as pd\n",
    "import numpy as np\n",
    "import sqlite3\n",
    "import matplotlib.pyplot as plt\n",
    "%matplotlib inline\n",
    "conn = sqlite3.connect('im.db')"
   ]
  },
  {
   "cell_type": "code",
   "execution_count": 2,
   "metadata": {},
   "outputs": [
    {
     "data": {
      "text/html": [
       "<div>\n",
       "<style scoped>\n",
       "    .dataframe tbody tr th:only-of-type {\n",
       "        vertical-align: middle;\n",
       "    }\n",
       "\n",
       "    .dataframe tbody tr th {\n",
       "        vertical-align: top;\n",
       "    }\n",
       "\n",
       "    .dataframe thead th {\n",
       "        text-align: right;\n",
       "    }\n",
       "</style>\n",
       "<table border=\"1\" class=\"dataframe\">\n",
       "  <thead>\n",
       "    <tr style=\"text-align: right;\">\n",
       "      <th></th>\n",
       "      <th>movie_id</th>\n",
       "      <th>primary_title</th>\n",
       "      <th>original_title</th>\n",
       "      <th>start_year</th>\n",
       "      <th>runtime_minutes</th>\n",
       "      <th>genres</th>\n",
       "    </tr>\n",
       "  </thead>\n",
       "  <tbody>\n",
       "    <tr>\n",
       "      <th>0</th>\n",
       "      <td>tt0063540</td>\n",
       "      <td>Sunghursh</td>\n",
       "      <td>Sunghursh</td>\n",
       "      <td>2013</td>\n",
       "      <td>175.0</td>\n",
       "      <td>Action,Crime,Drama</td>\n",
       "    </tr>\n",
       "    <tr>\n",
       "      <th>1</th>\n",
       "      <td>tt0066787</td>\n",
       "      <td>One Day Before the Rainy Season</td>\n",
       "      <td>Ashad Ka Ek Din</td>\n",
       "      <td>2019</td>\n",
       "      <td>114.0</td>\n",
       "      <td>Biography,Drama</td>\n",
       "    </tr>\n",
       "    <tr>\n",
       "      <th>2</th>\n",
       "      <td>tt0069049</td>\n",
       "      <td>The Other Side of the Wind</td>\n",
       "      <td>The Other Side of the Wind</td>\n",
       "      <td>2018</td>\n",
       "      <td>122.0</td>\n",
       "      <td>Drama</td>\n",
       "    </tr>\n",
       "    <tr>\n",
       "      <th>3</th>\n",
       "      <td>tt0069204</td>\n",
       "      <td>Sabse Bada Sukh</td>\n",
       "      <td>Sabse Bada Sukh</td>\n",
       "      <td>2018</td>\n",
       "      <td>NaN</td>\n",
       "      <td>Comedy,Drama</td>\n",
       "    </tr>\n",
       "    <tr>\n",
       "      <th>4</th>\n",
       "      <td>tt0100275</td>\n",
       "      <td>The Wandering Soap Opera</td>\n",
       "      <td>La Telenovela Errante</td>\n",
       "      <td>2017</td>\n",
       "      <td>80.0</td>\n",
       "      <td>Comedy,Drama,Fantasy</td>\n",
       "    </tr>\n",
       "  </tbody>\n",
       "</table>\n",
       "</div>"
      ],
      "text/plain": [
       "    movie_id                    primary_title              original_title  \\\n",
       "0  tt0063540                        Sunghursh                   Sunghursh   \n",
       "1  tt0066787  One Day Before the Rainy Season             Ashad Ka Ek Din   \n",
       "2  tt0069049       The Other Side of the Wind  The Other Side of the Wind   \n",
       "3  tt0069204                  Sabse Bada Sukh             Sabse Bada Sukh   \n",
       "4  tt0100275         The Wandering Soap Opera       La Telenovela Errante   \n",
       "\n",
       "   start_year  runtime_minutes                genres  \n",
       "0        2013            175.0    Action,Crime,Drama  \n",
       "1        2019            114.0       Biography,Drama  \n",
       "2        2018            122.0                 Drama  \n",
       "3        2018              NaN          Comedy,Drama  \n",
       "4        2017             80.0  Comedy,Drama,Fantasy  "
      ]
     },
     "execution_count": 2,
     "metadata": {},
     "output_type": "execute_result"
    }
   ],
   "source": [
    "# initial look at the different tables\n",
    "# converting all the tables into a df using the dataframe constructor \n",
    "\n",
    "movie_basics = pd.DataFrame(pd.read_sql('SELECT * FROM movie_basics',conn))\n",
    "movie_basics.head()\n"
   ]
  },
  {
   "cell_type": "code",
   "execution_count": 3,
   "metadata": {},
   "outputs": [
    {
     "data": {
      "text/html": [
       "<div>\n",
       "<style scoped>\n",
       "    .dataframe tbody tr th:only-of-type {\n",
       "        vertical-align: middle;\n",
       "    }\n",
       "\n",
       "    .dataframe tbody tr th {\n",
       "        vertical-align: top;\n",
       "    }\n",
       "\n",
       "    .dataframe thead th {\n",
       "        text-align: right;\n",
       "    }\n",
       "</style>\n",
       "<table border=\"1\" class=\"dataframe\">\n",
       "  <thead>\n",
       "    <tr style=\"text-align: right;\">\n",
       "      <th></th>\n",
       "      <th>movie_id</th>\n",
       "      <th>averagerating</th>\n",
       "      <th>numvotes</th>\n",
       "    </tr>\n",
       "  </thead>\n",
       "  <tbody>\n",
       "    <tr>\n",
       "      <th>0</th>\n",
       "      <td>tt10356526</td>\n",
       "      <td>8.3</td>\n",
       "      <td>31</td>\n",
       "    </tr>\n",
       "    <tr>\n",
       "      <th>1</th>\n",
       "      <td>tt10384606</td>\n",
       "      <td>8.9</td>\n",
       "      <td>559</td>\n",
       "    </tr>\n",
       "    <tr>\n",
       "      <th>2</th>\n",
       "      <td>tt1042974</td>\n",
       "      <td>6.4</td>\n",
       "      <td>20</td>\n",
       "    </tr>\n",
       "    <tr>\n",
       "      <th>3</th>\n",
       "      <td>tt1043726</td>\n",
       "      <td>4.2</td>\n",
       "      <td>50352</td>\n",
       "    </tr>\n",
       "    <tr>\n",
       "      <th>4</th>\n",
       "      <td>tt1060240</td>\n",
       "      <td>6.5</td>\n",
       "      <td>21</td>\n",
       "    </tr>\n",
       "  </tbody>\n",
       "</table>\n",
       "</div>"
      ],
      "text/plain": [
       "     movie_id  averagerating  numvotes\n",
       "0  tt10356526            8.3        31\n",
       "1  tt10384606            8.9       559\n",
       "2   tt1042974            6.4        20\n",
       "3   tt1043726            4.2     50352\n",
       "4   tt1060240            6.5        21"
      ]
     },
     "execution_count": 3,
     "metadata": {},
     "output_type": "execute_result"
    }
   ],
   "source": [
    "movie_ratings = pd.DataFrame(pd.read_sql('SELECT * FROM movie_ratings',conn))\n",
    "movie_ratings.head()"
   ]
  },
  {
   "cell_type": "code",
   "execution_count": 4,
   "metadata": {},
   "outputs": [
    {
     "data": {
      "text/html": [
       "<div>\n",
       "<style scoped>\n",
       "    .dataframe tbody tr th:only-of-type {\n",
       "        vertical-align: middle;\n",
       "    }\n",
       "\n",
       "    .dataframe tbody tr th {\n",
       "        vertical-align: top;\n",
       "    }\n",
       "\n",
       "    .dataframe thead th {\n",
       "        text-align: right;\n",
       "    }\n",
       "</style>\n",
       "<table border=\"1\" class=\"dataframe\">\n",
       "  <thead>\n",
       "    <tr style=\"text-align: right;\">\n",
       "      <th></th>\n",
       "      <th>movie_id</th>\n",
       "      <th>ordering</th>\n",
       "      <th>title</th>\n",
       "      <th>region</th>\n",
       "      <th>language</th>\n",
       "      <th>types</th>\n",
       "      <th>attributes</th>\n",
       "      <th>is_original_title</th>\n",
       "    </tr>\n",
       "  </thead>\n",
       "  <tbody>\n",
       "    <tr>\n",
       "      <th>0</th>\n",
       "      <td>tt0369610</td>\n",
       "      <td>10</td>\n",
       "      <td>Джурасик свят</td>\n",
       "      <td>BG</td>\n",
       "      <td>bg</td>\n",
       "      <td>None</td>\n",
       "      <td>None</td>\n",
       "      <td>0.0</td>\n",
       "    </tr>\n",
       "    <tr>\n",
       "      <th>1</th>\n",
       "      <td>tt0369610</td>\n",
       "      <td>11</td>\n",
       "      <td>Jurashikku warudo</td>\n",
       "      <td>JP</td>\n",
       "      <td>None</td>\n",
       "      <td>imdbDisplay</td>\n",
       "      <td>None</td>\n",
       "      <td>0.0</td>\n",
       "    </tr>\n",
       "    <tr>\n",
       "      <th>2</th>\n",
       "      <td>tt0369610</td>\n",
       "      <td>12</td>\n",
       "      <td>Jurassic World: O Mundo dos Dinossauros</td>\n",
       "      <td>BR</td>\n",
       "      <td>None</td>\n",
       "      <td>imdbDisplay</td>\n",
       "      <td>None</td>\n",
       "      <td>0.0</td>\n",
       "    </tr>\n",
       "    <tr>\n",
       "      <th>3</th>\n",
       "      <td>tt0369610</td>\n",
       "      <td>13</td>\n",
       "      <td>O Mundo dos Dinossauros</td>\n",
       "      <td>BR</td>\n",
       "      <td>None</td>\n",
       "      <td>None</td>\n",
       "      <td>short title</td>\n",
       "      <td>0.0</td>\n",
       "    </tr>\n",
       "    <tr>\n",
       "      <th>4</th>\n",
       "      <td>tt0369610</td>\n",
       "      <td>14</td>\n",
       "      <td>Jurassic World</td>\n",
       "      <td>FR</td>\n",
       "      <td>None</td>\n",
       "      <td>imdbDisplay</td>\n",
       "      <td>None</td>\n",
       "      <td>0.0</td>\n",
       "    </tr>\n",
       "  </tbody>\n",
       "</table>\n",
       "</div>"
      ],
      "text/plain": [
       "    movie_id  ordering                                    title region  \\\n",
       "0  tt0369610        10                            Джурасик свят     BG   \n",
       "1  tt0369610        11                        Jurashikku warudo     JP   \n",
       "2  tt0369610        12  Jurassic World: O Mundo dos Dinossauros     BR   \n",
       "3  tt0369610        13                  O Mundo dos Dinossauros     BR   \n",
       "4  tt0369610        14                           Jurassic World     FR   \n",
       "\n",
       "  language        types   attributes  is_original_title  \n",
       "0       bg         None         None                0.0  \n",
       "1     None  imdbDisplay         None                0.0  \n",
       "2     None  imdbDisplay         None                0.0  \n",
       "3     None         None  short title                0.0  \n",
       "4     None  imdbDisplay         None                0.0  "
      ]
     },
     "execution_count": 4,
     "metadata": {},
     "output_type": "execute_result"
    }
   ],
   "source": [
    "movie_akas = pd.DataFrame(pd.read_sql('SELECT * FROM movie_akas',conn))\n",
    "movie_akas.head()"
   ]
  },
  {
   "cell_type": "code",
   "execution_count": 5,
   "metadata": {},
   "outputs": [
    {
     "name": "stdout",
     "output_type": "stream",
     "text": [
      "Shape of movie_basics table : (146144, 6)\n",
      "Shape of movie_ratings table : (73856, 3)\n",
      "Shape of movie_akas table :  (331703, 8)\n"
     ]
    }
   ],
   "source": [
    "# Getting an idea of the size of the tables\n",
    "\n",
    "print('Shape of movie_basics table :',movie_basics.shape)\n",
    "print('Shape of movie_ratings table :',movie_ratings.shape)\n",
    "print('Shape of movie_akas table : ',movie_akas.shape)\n"
   ]
  },
  {
   "cell_type": "markdown",
   "metadata": {},
   "source": [
    "> **From the shapes of the tables, we can see that there is a** ***disparity in the amount of data between the tables.***\n",
    "**Let's start by analyzing the movie_basics table**"
   ]
  },
  {
   "cell_type": "code",
   "execution_count": 6,
   "metadata": {},
   "outputs": [
    {
     "name": "stdout",
     "output_type": "stream",
     "text": [
      "<class 'pandas.core.frame.DataFrame'>\n",
      "RangeIndex: 146144 entries, 0 to 146143\n",
      "Data columns (total 6 columns):\n",
      " #   Column           Non-Null Count   Dtype  \n",
      "---  ------           --------------   -----  \n",
      " 0   movie_id         146144 non-null  object \n",
      " 1   primary_title    146144 non-null  object \n",
      " 2   original_title   146123 non-null  object \n",
      " 3   start_year       146144 non-null  int64  \n",
      " 4   runtime_minutes  114405 non-null  float64\n",
      " 5   genres           140736 non-null  object \n",
      "dtypes: float64(1), int64(1), object(4)\n",
      "memory usage: 6.7+ MB\n"
     ]
    }
   ],
   "source": [
    "movie_basics.info()"
   ]
  },
  {
   "cell_type": "markdown",
   "metadata": {},
   "source": [
    ">We can see that ***original_title, runtime_minutes and genres have missing values.***\n",
    " Getting an idea of the amount of missing data:"
   ]
  },
  {
   "cell_type": "code",
   "execution_count": 32,
   "metadata": {},
   "outputs": [
    {
     "name": "stdout",
     "output_type": "stream",
     "text": [
      "Number of rows missing in the original_title column : 21\n",
      "Number of rows missing in the runtime_miutes column : 31739\n",
      "Number of rows missing in the genres column : 5408\n"
     ]
    }
   ],
   "source": [
    "print('Number of rows missing in the original_title column :',len(movie_basics[movie_basics['original_title'].isna()]))\n",
    "print('Number of rows missing in the runtime_miutes column :',len(movie_basics[movie_basics['runtime_minutes'].isna()]))\n",
    "print('Number of rows missing in the genres column :',len(movie_basics[movie_basics['genres'].isna()]))\n"
   ]
  },
  {
   "cell_type": "markdown",
   "metadata": {},
   "source": [
    "> ***Since the missing data in the 'original_title' is < 1%, we can delete those rows without suffering any consequences.***\n"
   ]
  },
  {
   "cell_type": "code",
   "execution_count": 33,
   "metadata": {},
   "outputs": [],
   "source": [
    "# using .dropna to remove rows with NaN values in the 'original_title' columns\n",
    "\n",
    "movie_basics.dropna(subset=['original_title'], inplace = True)"
   ]
  },
  {
   "cell_type": "code",
   "execution_count": 34,
   "metadata": {},
   "outputs": [
    {
     "name": "stdout",
     "output_type": "stream",
     "text": [
      "<class 'pandas.core.frame.DataFrame'>\n",
      "Int64Index: 146123 entries, 0 to 146143\n",
      "Data columns (total 6 columns):\n",
      " #   Column           Non-Null Count   Dtype  \n",
      "---  ------           --------------   -----  \n",
      " 0   movie_id         146123 non-null  object \n",
      " 1   primary_title    146123 non-null  object \n",
      " 2   original_title   146123 non-null  object \n",
      " 3   start_year       146123 non-null  int64  \n",
      " 4   runtime_minutes  114401 non-null  float64\n",
      " 5   genres           140734 non-null  object \n",
      "dtypes: float64(1), int64(1), object(4)\n",
      "memory usage: 7.8+ MB\n"
     ]
    }
   ],
   "source": [
    "# check to the see the if the numbers have changed\n",
    "\n",
    "movie_basics.info()\n",
    "\n",
    "# can see the number of rows have reduced from 146144 to 146123"
   ]
  },
  {
   "cell_type": "markdown",
   "metadata": {},
   "source": [
    "> ***Since we will not be examining the runtime_minutes for our analysis, we can remove the column from the dataset.***"
   ]
  },
  {
   "cell_type": "code",
   "execution_count": 35,
   "metadata": {},
   "outputs": [
    {
     "name": "stdout",
     "output_type": "stream",
     "text": [
      "<class 'pandas.core.frame.DataFrame'>\n",
      "Int64Index: 146123 entries, 0 to 146143\n",
      "Data columns (total 5 columns):\n",
      " #   Column          Non-Null Count   Dtype \n",
      "---  ------          --------------   ----- \n",
      " 0   movie_id        146123 non-null  object\n",
      " 1   primary_title   146123 non-null  object\n",
      " 2   original_title  146123 non-null  object\n",
      " 3   start_year      146123 non-null  int64 \n",
      " 4   genres          140734 non-null  object\n",
      "dtypes: int64(1), object(4)\n",
      "memory usage: 6.7+ MB\n"
     ]
    }
   ],
   "source": [
    "movie_basics.drop('runtime_minutes', axis=1, inplace = True)\n",
    "movie_basics.info()"
   ]
  },
  {
   "cell_type": "markdown",
   "metadata": {},
   "source": [
    "> ***Examining the 'genres' column:***"
   ]
  },
  {
   "cell_type": "code",
   "execution_count": 36,
   "metadata": {},
   "outputs": [
    {
     "data": {
      "text/plain": [
       "Documentary                 32185\n",
       "Drama                       21486\n",
       "Comedy                       9177\n",
       "Horror                       4372\n",
       "Comedy,Drama                 3519\n",
       "                            ...  \n",
       "Crime,Family,Fantasy            1\n",
       "Biography,Drama,Western         1\n",
       "Family,History,Mystery          1\n",
       "Comedy,History,Thriller         1\n",
       "Adventure,History,Sci-Fi        1\n",
       "Name: genres, Length: 1085, dtype: int64"
      ]
     },
     "execution_count": 36,
     "metadata": {},
     "output_type": "execute_result"
    }
   ],
   "source": [
    "movie_basics['genres'].value_counts()"
   ]
  },
  {
   "cell_type": "code",
   "execution_count": 37,
   "metadata": {},
   "outputs": [
    {
     "data": {
      "text/html": [
       "<div>\n",
       "<style scoped>\n",
       "    .dataframe tbody tr th:only-of-type {\n",
       "        vertical-align: middle;\n",
       "    }\n",
       "\n",
       "    .dataframe tbody tr th {\n",
       "        vertical-align: top;\n",
       "    }\n",
       "\n",
       "    .dataframe thead th {\n",
       "        text-align: right;\n",
       "    }\n",
       "</style>\n",
       "<table border=\"1\" class=\"dataframe\">\n",
       "  <thead>\n",
       "    <tr style=\"text-align: right;\">\n",
       "      <th></th>\n",
       "      <th>movie_id</th>\n",
       "      <th>primary_title</th>\n",
       "      <th>original_title</th>\n",
       "      <th>start_year</th>\n",
       "      <th>genres</th>\n",
       "      <th>genres_split</th>\n",
       "    </tr>\n",
       "  </thead>\n",
       "  <tbody>\n",
       "    <tr>\n",
       "      <th>0</th>\n",
       "      <td>tt0063540</td>\n",
       "      <td>Sunghursh</td>\n",
       "      <td>Sunghursh</td>\n",
       "      <td>2013</td>\n",
       "      <td>Action,Crime,Drama</td>\n",
       "      <td>[Action, Crime, Drama]</td>\n",
       "    </tr>\n",
       "    <tr>\n",
       "      <th>1</th>\n",
       "      <td>tt0066787</td>\n",
       "      <td>One Day Before the Rainy Season</td>\n",
       "      <td>Ashad Ka Ek Din</td>\n",
       "      <td>2019</td>\n",
       "      <td>Biography,Drama</td>\n",
       "      <td>[Biography, Drama]</td>\n",
       "    </tr>\n",
       "    <tr>\n",
       "      <th>2</th>\n",
       "      <td>tt0069049</td>\n",
       "      <td>The Other Side of the Wind</td>\n",
       "      <td>The Other Side of the Wind</td>\n",
       "      <td>2018</td>\n",
       "      <td>Drama</td>\n",
       "      <td>[Drama]</td>\n",
       "    </tr>\n",
       "    <tr>\n",
       "      <th>3</th>\n",
       "      <td>tt0069204</td>\n",
       "      <td>Sabse Bada Sukh</td>\n",
       "      <td>Sabse Bada Sukh</td>\n",
       "      <td>2018</td>\n",
       "      <td>Comedy,Drama</td>\n",
       "      <td>[Comedy, Drama]</td>\n",
       "    </tr>\n",
       "    <tr>\n",
       "      <th>4</th>\n",
       "      <td>tt0100275</td>\n",
       "      <td>The Wandering Soap Opera</td>\n",
       "      <td>La Telenovela Errante</td>\n",
       "      <td>2017</td>\n",
       "      <td>Comedy,Drama,Fantasy</td>\n",
       "      <td>[Comedy, Drama, Fantasy]</td>\n",
       "    </tr>\n",
       "  </tbody>\n",
       "</table>\n",
       "</div>"
      ],
      "text/plain": [
       "    movie_id                    primary_title              original_title  \\\n",
       "0  tt0063540                        Sunghursh                   Sunghursh   \n",
       "1  tt0066787  One Day Before the Rainy Season             Ashad Ka Ek Din   \n",
       "2  tt0069049       The Other Side of the Wind  The Other Side of the Wind   \n",
       "3  tt0069204                  Sabse Bada Sukh             Sabse Bada Sukh   \n",
       "4  tt0100275         The Wandering Soap Opera       La Telenovela Errante   \n",
       "\n",
       "   start_year                genres              genres_split  \n",
       "0        2013    Action,Crime,Drama    [Action, Crime, Drama]  \n",
       "1        2019       Biography,Drama        [Biography, Drama]  \n",
       "2        2018                 Drama                   [Drama]  \n",
       "3        2018          Comedy,Drama           [Comedy, Drama]  \n",
       "4        2017  Comedy,Drama,Fantasy  [Comedy, Drama, Fantasy]  "
      ]
     },
     "execution_count": 37,
     "metadata": {},
     "output_type": "execute_result"
    }
   ],
   "source": [
    "#creating a new column that splits the genres\n",
    "\n",
    "movie_basics[\"genres_split\"] = movie_basics['genres'].str.split(\",\")\n",
    "movie_basics.head()"
   ]
  },
  {
   "cell_type": "code",
   "execution_count": 38,
   "metadata": {},
   "outputs": [
    {
     "data": {
      "text/html": [
       "<div>\n",
       "<style scoped>\n",
       "    .dataframe tbody tr th:only-of-type {\n",
       "        vertical-align: middle;\n",
       "    }\n",
       "\n",
       "    .dataframe tbody tr th {\n",
       "        vertical-align: top;\n",
       "    }\n",
       "\n",
       "    .dataframe thead th {\n",
       "        text-align: right;\n",
       "    }\n",
       "</style>\n",
       "<table border=\"1\" class=\"dataframe\">\n",
       "  <thead>\n",
       "    <tr style=\"text-align: right;\">\n",
       "      <th></th>\n",
       "      <th>movie_id</th>\n",
       "      <th>primary_title</th>\n",
       "      <th>original_title</th>\n",
       "      <th>start_year</th>\n",
       "      <th>genres</th>\n",
       "      <th>genres_split</th>\n",
       "    </tr>\n",
       "  </thead>\n",
       "  <tbody>\n",
       "    <tr>\n",
       "      <th>0</th>\n",
       "      <td>tt0063540</td>\n",
       "      <td>Sunghursh</td>\n",
       "      <td>Sunghursh</td>\n",
       "      <td>2013</td>\n",
       "      <td>Action,Crime,Drama</td>\n",
       "      <td>Action</td>\n",
       "    </tr>\n",
       "    <tr>\n",
       "      <th>0</th>\n",
       "      <td>tt0063540</td>\n",
       "      <td>Sunghursh</td>\n",
       "      <td>Sunghursh</td>\n",
       "      <td>2013</td>\n",
       "      <td>Action,Crime,Drama</td>\n",
       "      <td>Crime</td>\n",
       "    </tr>\n",
       "    <tr>\n",
       "      <th>0</th>\n",
       "      <td>tt0063540</td>\n",
       "      <td>Sunghursh</td>\n",
       "      <td>Sunghursh</td>\n",
       "      <td>2013</td>\n",
       "      <td>Action,Crime,Drama</td>\n",
       "      <td>Drama</td>\n",
       "    </tr>\n",
       "    <tr>\n",
       "      <th>1</th>\n",
       "      <td>tt0066787</td>\n",
       "      <td>One Day Before the Rainy Season</td>\n",
       "      <td>Ashad Ka Ek Din</td>\n",
       "      <td>2019</td>\n",
       "      <td>Biography,Drama</td>\n",
       "      <td>Biography</td>\n",
       "    </tr>\n",
       "    <tr>\n",
       "      <th>1</th>\n",
       "      <td>tt0066787</td>\n",
       "      <td>One Day Before the Rainy Season</td>\n",
       "      <td>Ashad Ka Ek Din</td>\n",
       "      <td>2019</td>\n",
       "      <td>Biography,Drama</td>\n",
       "      <td>Drama</td>\n",
       "    </tr>\n",
       "  </tbody>\n",
       "</table>\n",
       "</div>"
      ],
      "text/plain": [
       "    movie_id                    primary_title   original_title  start_year  \\\n",
       "0  tt0063540                        Sunghursh        Sunghursh        2013   \n",
       "0  tt0063540                        Sunghursh        Sunghursh        2013   \n",
       "0  tt0063540                        Sunghursh        Sunghursh        2013   \n",
       "1  tt0066787  One Day Before the Rainy Season  Ashad Ka Ek Din        2019   \n",
       "1  tt0066787  One Day Before the Rainy Season  Ashad Ka Ek Din        2019   \n",
       "\n",
       "               genres genres_split  \n",
       "0  Action,Crime,Drama       Action  \n",
       "0  Action,Crime,Drama        Crime  \n",
       "0  Action,Crime,Drama        Drama  \n",
       "1     Biography,Drama    Biography  \n",
       "1     Biography,Drama        Drama  "
      ]
     },
     "execution_count": 38,
     "metadata": {},
     "output_type": "execute_result"
    }
   ],
   "source": [
    "# with the exolode method you have to create a new df for it to take effect\n",
    "\n",
    "movie_basics2 = movie_basics.explode(\"genres_split\")\n",
    "movie_basics2.head()"
   ]
  },
  {
   "cell_type": "markdown",
   "metadata": {},
   "source": [
    "> ***We can see that the values are varied(1085). Also, some movies are classified under 2-3 genres making it difficult for us to predict what the missing genres might be. \n",
    "Since the amount of missing data for the genres is also quite large i.e 5389 rows, filling in missing values with guesswork can skew the analysis in any number of ways. So the best way would be to just classify the data as 'missing'***\n"
   ]
  },
  {
   "cell_type": "code",
   "execution_count": 39,
   "metadata": {},
   "outputs": [],
   "source": [
    "movie_basics['genres'].fillna('missing',inplace = True)"
   ]
  },
  {
   "cell_type": "code",
   "execution_count": 40,
   "metadata": {},
   "outputs": [
    {
     "name": "stdout",
     "output_type": "stream",
     "text": [
      "<class 'pandas.core.frame.DataFrame'>\n",
      "Int64Index: 146123 entries, 0 to 146143\n",
      "Data columns (total 6 columns):\n",
      " #   Column          Non-Null Count   Dtype \n",
      "---  ------          --------------   ----- \n",
      " 0   movie_id        146123 non-null  object\n",
      " 1   primary_title   146123 non-null  object\n",
      " 2   original_title  146123 non-null  object\n",
      " 3   start_year      146123 non-null  int64 \n",
      " 4   genres          146123 non-null  object\n",
      " 5   genres_split    140734 non-null  object\n",
      "dtypes: int64(1), object(5)\n",
      "memory usage: 7.8+ MB\n"
     ]
    }
   ],
   "source": [
    "movie_basics.info()"
   ]
  },
  {
   "cell_type": "markdown",
   "metadata": {},
   "source": [
    "> ***Since the 'movie_id' is the primary key in the movie_basics table and the foreign key in the movie_ratings and movie_akas table, let's check to see if there are any duplicate values in the movie_basics table.***"
   ]
  },
  {
   "cell_type": "code",
   "execution_count": 41,
   "metadata": {},
   "outputs": [
    {
     "data": {
      "text/plain": [
       "False    146123\n",
       "dtype: int64"
      ]
     },
     "execution_count": 41,
     "metadata": {},
     "output_type": "execute_result"
    }
   ],
   "source": [
    "movie_basics.duplicated(subset = ['movie_id']).value_counts()"
   ]
  },
  {
   "cell_type": "code",
   "execution_count": 85,
   "metadata": {},
   "outputs": [
    {
     "data": {
      "text/plain": [
       "False    136056\n",
       "True      10067\n",
       "dtype: int64"
      ]
     },
     "execution_count": 85,
     "metadata": {},
     "output_type": "execute_result"
    }
   ],
   "source": [
    "movie_basics.duplicated(subset = ['primary_title']).value_counts()"
   ]
  },
  {
   "cell_type": "markdown",
   "metadata": {},
   "source": [
    ">***We have now cleaned up the movie_basics table by:***\n",
    "- ***Removing null values from the original_title columns***\n",
    "- ***Removing the runtime_minutes column entirely***\n",
    "- ***Classifying null values in the 'genres' column as 'missing***"
   ]
  },
  {
   "cell_type": "markdown",
   "metadata": {},
   "source": [
    "> ***Next up is the movie_ratings table:***"
   ]
  },
  {
   "cell_type": "code",
   "execution_count": 50,
   "metadata": {},
   "outputs": [
    {
     "name": "stdout",
     "output_type": "stream",
     "text": [
      "<class 'pandas.core.frame.DataFrame'>\n",
      "RangeIndex: 73856 entries, 0 to 73855\n",
      "Data columns (total 3 columns):\n",
      " #   Column         Non-Null Count  Dtype  \n",
      "---  ------         --------------  -----  \n",
      " 0   movie_id       73856 non-null  object \n",
      " 1   averagerating  73856 non-null  float64\n",
      " 2   numvotes       73856 non-null  int64  \n",
      "dtypes: float64(1), int64(1), object(1)\n",
      "memory usage: 1.7+ MB\n"
     ]
    }
   ],
   "source": [
    "# Getting info about the movie_ratings table\n",
    "movie_ratings.info()"
   ]
  },
  {
   "cell_type": "markdown",
   "metadata": {},
   "source": [
    "> ***From the above we can see that there no null values.\n",
    "But there is a difference in the number of rows: The movie_ratings table has 73,856 rows while the movie_basics has 146,123 rows indicating that not all movies listed in the movie_basics table are listed in the ratings table as well.***"
   ]
  },
  {
   "cell_type": "code",
   "execution_count": 51,
   "metadata": {},
   "outputs": [
    {
     "data": {
      "text/plain": [
       "movie_id         False\n",
       "averagerating    False\n",
       "numvotes         False\n",
       "dtype: bool"
      ]
     },
     "execution_count": 51,
     "metadata": {},
     "output_type": "execute_result"
    }
   ],
   "source": [
    "# Checking to see if there are any missing values\n",
    "movie_ratings.isna().any()\n",
    "\n",
    "# from the results, we can see that movie_ratings table has no missing values"
   ]
  },
  {
   "cell_type": "code",
   "execution_count": 52,
   "metadata": {},
   "outputs": [
    {
     "data": {
      "text/html": [
       "<div>\n",
       "<style scoped>\n",
       "    .dataframe tbody tr th:only-of-type {\n",
       "        vertical-align: middle;\n",
       "    }\n",
       "\n",
       "    .dataframe tbody tr th {\n",
       "        vertical-align: top;\n",
       "    }\n",
       "\n",
       "    .dataframe thead th {\n",
       "        text-align: right;\n",
       "    }\n",
       "</style>\n",
       "<table border=\"1\" class=\"dataframe\">\n",
       "  <thead>\n",
       "    <tr style=\"text-align: right;\">\n",
       "      <th></th>\n",
       "      <th>movie_id</th>\n",
       "      <th>averagerating</th>\n",
       "      <th>numvotes</th>\n",
       "    </tr>\n",
       "  </thead>\n",
       "  <tbody>\n",
       "    <tr>\n",
       "      <th>0</th>\n",
       "      <td>tt10356526</td>\n",
       "      <td>8.3</td>\n",
       "      <td>31</td>\n",
       "    </tr>\n",
       "    <tr>\n",
       "      <th>1</th>\n",
       "      <td>tt10384606</td>\n",
       "      <td>8.9</td>\n",
       "      <td>559</td>\n",
       "    </tr>\n",
       "    <tr>\n",
       "      <th>2</th>\n",
       "      <td>tt1042974</td>\n",
       "      <td>6.4</td>\n",
       "      <td>20</td>\n",
       "    </tr>\n",
       "    <tr>\n",
       "      <th>3</th>\n",
       "      <td>tt1043726</td>\n",
       "      <td>4.2</td>\n",
       "      <td>50352</td>\n",
       "    </tr>\n",
       "    <tr>\n",
       "      <th>4</th>\n",
       "      <td>tt1060240</td>\n",
       "      <td>6.5</td>\n",
       "      <td>21</td>\n",
       "    </tr>\n",
       "  </tbody>\n",
       "</table>\n",
       "</div>"
      ],
      "text/plain": [
       "     movie_id  averagerating  numvotes\n",
       "0  tt10356526            8.3        31\n",
       "1  tt10384606            8.9       559\n",
       "2   tt1042974            6.4        20\n",
       "3   tt1043726            4.2     50352\n",
       "4   tt1060240            6.5        21"
      ]
     },
     "execution_count": 52,
     "metadata": {},
     "output_type": "execute_result"
    }
   ],
   "source": [
    "# Let's check the contents of the movie_ratings table\n",
    "movie_ratings.head()"
   ]
  },
  {
   "cell_type": "markdown",
   "metadata": {},
   "source": [
    "> ***Since ratings are not a focus of the analysis, let's ignore the movie_ratings table. The rating is an avergae value derived from the numvotes. Since the numvotes are not consistent, one cannot conclude that the ratings are a true reflection of audience approval/disapproval.***"
   ]
  },
  {
   "cell_type": "markdown",
   "metadata": {},
   "source": [
    ">***Since the ultimate goal is to make money, the info from the movie_gross is table is paramount for the analysis.***"
   ]
  },
  {
   "cell_type": "code",
   "execution_count": 53,
   "metadata": {},
   "outputs": [
    {
     "data": {
      "text/html": [
       "<div>\n",
       "<style scoped>\n",
       "    .dataframe tbody tr th:only-of-type {\n",
       "        vertical-align: middle;\n",
       "    }\n",
       "\n",
       "    .dataframe tbody tr th {\n",
       "        vertical-align: top;\n",
       "    }\n",
       "\n",
       "    .dataframe thead th {\n",
       "        text-align: right;\n",
       "    }\n",
       "</style>\n",
       "<table border=\"1\" class=\"dataframe\">\n",
       "  <thead>\n",
       "    <tr style=\"text-align: right;\">\n",
       "      <th></th>\n",
       "      <th>title</th>\n",
       "      <th>studio</th>\n",
       "      <th>domestic_gross</th>\n",
       "      <th>foreign_gross</th>\n",
       "      <th>year</th>\n",
       "    </tr>\n",
       "  </thead>\n",
       "  <tbody>\n",
       "    <tr>\n",
       "      <th>0</th>\n",
       "      <td>Toy Story 3</td>\n",
       "      <td>BV</td>\n",
       "      <td>415000000.0</td>\n",
       "      <td>652000000</td>\n",
       "      <td>2010</td>\n",
       "    </tr>\n",
       "    <tr>\n",
       "      <th>1</th>\n",
       "      <td>Alice in Wonderland (2010)</td>\n",
       "      <td>BV</td>\n",
       "      <td>334200000.0</td>\n",
       "      <td>691300000</td>\n",
       "      <td>2010</td>\n",
       "    </tr>\n",
       "    <tr>\n",
       "      <th>2</th>\n",
       "      <td>Harry Potter and the Deathly Hallows Part 1</td>\n",
       "      <td>WB</td>\n",
       "      <td>296000000.0</td>\n",
       "      <td>664300000</td>\n",
       "      <td>2010</td>\n",
       "    </tr>\n",
       "    <tr>\n",
       "      <th>3</th>\n",
       "      <td>Inception</td>\n",
       "      <td>WB</td>\n",
       "      <td>292600000.0</td>\n",
       "      <td>535700000</td>\n",
       "      <td>2010</td>\n",
       "    </tr>\n",
       "    <tr>\n",
       "      <th>4</th>\n",
       "      <td>Shrek Forever After</td>\n",
       "      <td>P/DW</td>\n",
       "      <td>238700000.0</td>\n",
       "      <td>513900000</td>\n",
       "      <td>2010</td>\n",
       "    </tr>\n",
       "  </tbody>\n",
       "</table>\n",
       "</div>"
      ],
      "text/plain": [
       "                                         title studio  domestic_gross  \\\n",
       "0                                  Toy Story 3     BV     415000000.0   \n",
       "1                   Alice in Wonderland (2010)     BV     334200000.0   \n",
       "2  Harry Potter and the Deathly Hallows Part 1     WB     296000000.0   \n",
       "3                                    Inception     WB     292600000.0   \n",
       "4                          Shrek Forever After   P/DW     238700000.0   \n",
       "\n",
       "  foreign_gross  year  \n",
       "0     652000000  2010  \n",
       "1     691300000  2010  \n",
       "2     664300000  2010  \n",
       "3     535700000  2010  \n",
       "4     513900000  2010  "
      ]
     },
     "execution_count": 53,
     "metadata": {},
     "output_type": "execute_result"
    }
   ],
   "source": [
    "# converting the movie_gross table into a dataframe\n",
    "\n",
    "movie_gross = pd.DataFrame(pd.read_csv('bom.movie_gross.csv'))\n",
    "movie_gross.head()"
   ]
  },
  {
   "cell_type": "markdown",
   "metadata": {},
   "source": [
    ">***Let's combine movie_basics and the movie_gross tables to get information on how much money each movie has made***"
   ]
  },
  {
   "cell_type": "code",
   "execution_count": 58,
   "metadata": {},
   "outputs": [
    {
     "data": {
      "text/html": [
       "<div>\n",
       "<style scoped>\n",
       "    .dataframe tbody tr th:only-of-type {\n",
       "        vertical-align: middle;\n",
       "    }\n",
       "\n",
       "    .dataframe tbody tr th {\n",
       "        vertical-align: top;\n",
       "    }\n",
       "\n",
       "    .dataframe thead th {\n",
       "        text-align: right;\n",
       "    }\n",
       "</style>\n",
       "<table border=\"1\" class=\"dataframe\">\n",
       "  <thead>\n",
       "    <tr style=\"text-align: right;\">\n",
       "      <th></th>\n",
       "      <th>movie_id</th>\n",
       "      <th>primary_title</th>\n",
       "      <th>original_title</th>\n",
       "      <th>start_year</th>\n",
       "      <th>genres</th>\n",
       "      <th>genres_split</th>\n",
       "      <th>title</th>\n",
       "      <th>studio</th>\n",
       "      <th>domestic_gross</th>\n",
       "      <th>foreign_gross</th>\n",
       "      <th>year</th>\n",
       "    </tr>\n",
       "  </thead>\n",
       "  <tbody>\n",
       "    <tr>\n",
       "      <th>0</th>\n",
       "      <td>tt0315642</td>\n",
       "      <td>Wazir</td>\n",
       "      <td>Wazir</td>\n",
       "      <td>2016</td>\n",
       "      <td>Action,Crime,Drama</td>\n",
       "      <td>[Action, Crime, Drama]</td>\n",
       "      <td>Wazir</td>\n",
       "      <td>Relbig.</td>\n",
       "      <td>1100000.0</td>\n",
       "      <td>NaN</td>\n",
       "      <td>2016</td>\n",
       "    </tr>\n",
       "    <tr>\n",
       "      <th>1</th>\n",
       "      <td>tt0337692</td>\n",
       "      <td>On the Road</td>\n",
       "      <td>On the Road</td>\n",
       "      <td>2012</td>\n",
       "      <td>Adventure,Drama,Romance</td>\n",
       "      <td>[Adventure, Drama, Romance]</td>\n",
       "      <td>On the Road</td>\n",
       "      <td>IFC</td>\n",
       "      <td>744000.0</td>\n",
       "      <td>8000000</td>\n",
       "      <td>2012</td>\n",
       "    </tr>\n",
       "    <tr>\n",
       "      <th>2</th>\n",
       "      <td>tt2404548</td>\n",
       "      <td>On the Road</td>\n",
       "      <td>On the Road</td>\n",
       "      <td>2011</td>\n",
       "      <td>Drama</td>\n",
       "      <td>[Drama]</td>\n",
       "      <td>On the Road</td>\n",
       "      <td>IFC</td>\n",
       "      <td>744000.0</td>\n",
       "      <td>8000000</td>\n",
       "      <td>2012</td>\n",
       "    </tr>\n",
       "    <tr>\n",
       "      <th>3</th>\n",
       "      <td>tt3872966</td>\n",
       "      <td>On the Road</td>\n",
       "      <td>On the Road</td>\n",
       "      <td>2013</td>\n",
       "      <td>Documentary</td>\n",
       "      <td>[Documentary]</td>\n",
       "      <td>On the Road</td>\n",
       "      <td>IFC</td>\n",
       "      <td>744000.0</td>\n",
       "      <td>8000000</td>\n",
       "      <td>2012</td>\n",
       "    </tr>\n",
       "    <tr>\n",
       "      <th>4</th>\n",
       "      <td>tt4339118</td>\n",
       "      <td>On the Road</td>\n",
       "      <td>On the Road</td>\n",
       "      <td>2014</td>\n",
       "      <td>Drama</td>\n",
       "      <td>[Drama]</td>\n",
       "      <td>On the Road</td>\n",
       "      <td>IFC</td>\n",
       "      <td>744000.0</td>\n",
       "      <td>8000000</td>\n",
       "      <td>2012</td>\n",
       "    </tr>\n",
       "  </tbody>\n",
       "</table>\n",
       "</div>"
      ],
      "text/plain": [
       "    movie_id primary_title original_title  start_year  \\\n",
       "0  tt0315642         Wazir          Wazir        2016   \n",
       "1  tt0337692   On the Road    On the Road        2012   \n",
       "2  tt2404548   On the Road    On the Road        2011   \n",
       "3  tt3872966   On the Road    On the Road        2013   \n",
       "4  tt4339118   On the Road    On the Road        2014   \n",
       "\n",
       "                    genres                 genres_split        title   studio  \\\n",
       "0       Action,Crime,Drama       [Action, Crime, Drama]        Wazir  Relbig.   \n",
       "1  Adventure,Drama,Romance  [Adventure, Drama, Romance]  On the Road      IFC   \n",
       "2                    Drama                      [Drama]  On the Road      IFC   \n",
       "3              Documentary                [Documentary]  On the Road      IFC   \n",
       "4                    Drama                      [Drama]  On the Road      IFC   \n",
       "\n",
       "   domestic_gross foreign_gross  year  \n",
       "0       1100000.0           NaN  2016  \n",
       "1        744000.0       8000000  2012  \n",
       "2        744000.0       8000000  2012  \n",
       "3        744000.0       8000000  2012  \n",
       "4        744000.0       8000000  2012  "
      ]
     },
     "execution_count": 58,
     "metadata": {},
     "output_type": "execute_result"
    }
   ],
   "source": [
    "# using the merge method to combine the movie_basics and the movie_gross df's\n",
    "# using the inner merge will give us only movie_titles that have gross amounts listed.\n",
    "# any other merge method will result in a lot of redundant data\n",
    "\n",
    "movie_gross_df = movie_basics.merge(movie_gross, how = 'inner', left_on = 'primary_title', right_on = 'title')\n",
    "movie_gross_df.head()"
   ]
  },
  {
   "cell_type": "code",
   "execution_count": 59,
   "metadata": {},
   "outputs": [
    {
     "name": "stdout",
     "output_type": "stream",
     "text": [
      "<class 'pandas.core.frame.DataFrame'>\n",
      "Int64Index: 3366 entries, 0 to 3365\n",
      "Data columns (total 11 columns):\n",
      " #   Column          Non-Null Count  Dtype  \n",
      "---  ------          --------------  -----  \n",
      " 0   movie_id        3366 non-null   object \n",
      " 1   primary_title   3366 non-null   object \n",
      " 2   original_title  3366 non-null   object \n",
      " 3   start_year      3366 non-null   int64  \n",
      " 4   genres          3366 non-null   object \n",
      " 5   genres_split    3326 non-null   object \n",
      " 6   title           3366 non-null   object \n",
      " 7   studio          3363 non-null   object \n",
      " 8   domestic_gross  3342 non-null   float64\n",
      " 9   foreign_gross   2043 non-null   object \n",
      " 10  year            3366 non-null   int64  \n",
      "dtypes: float64(1), int64(2), object(8)\n",
      "memory usage: 315.6+ KB\n"
     ]
    }
   ],
   "source": [
    "movie_gross_df.info()"
   ]
  },
  {
   "cell_type": "markdown",
   "metadata": {},
   "source": [
    "> ***To look at total_gross, need to sum domestic_gross and foreign_gross. From the above we can see that foreign_gross is listed as an object data type. Need to convert this to float64 to be able to compute the sum***"
   ]
  },
  {
   "cell_type": "code",
   "execution_count": 60,
   "metadata": {},
   "outputs": [],
   "source": [
    "# removing the ',' from the string\n",
    "movie_gross_df['foreign_gross'] = movie_gross_df['foreign_gross'].str.replace(',','') \n",
    "\n",
    "# converting 'foreign_gross' to float datatype\n",
    "movie_gross_df['foreign_gross'] = movie_gross_df['foreign_gross'].astype('float64')\n"
   ]
  },
  {
   "cell_type": "code",
   "execution_count": 61,
   "metadata": {},
   "outputs": [
    {
     "name": "stdout",
     "output_type": "stream",
     "text": [
      "<class 'pandas.core.frame.DataFrame'>\n",
      "Int64Index: 3366 entries, 0 to 3365\n",
      "Data columns (total 11 columns):\n",
      " #   Column          Non-Null Count  Dtype  \n",
      "---  ------          --------------  -----  \n",
      " 0   movie_id        3366 non-null   object \n",
      " 1   primary_title   3366 non-null   object \n",
      " 2   original_title  3366 non-null   object \n",
      " 3   start_year      3366 non-null   int64  \n",
      " 4   genres          3366 non-null   object \n",
      " 5   genres_split    3326 non-null   object \n",
      " 6   title           3366 non-null   object \n",
      " 7   studio          3363 non-null   object \n",
      " 8   domestic_gross  3342 non-null   float64\n",
      " 9   foreign_gross   2043 non-null   float64\n",
      " 10  year            3366 non-null   int64  \n",
      "dtypes: float64(2), int64(2), object(7)\n",
      "memory usage: 315.6+ KB\n"
     ]
    }
   ],
   "source": [
    "movie_gross_df.info()"
   ]
  },
  {
   "cell_type": "markdown",
   "metadata": {},
   "source": [
    "> ***We can also see that there are some missing values in the domestic and foreign gross columns. Let's examine them:***"
   ]
  },
  {
   "cell_type": "code",
   "execution_count": 62,
   "metadata": {},
   "outputs": [
    {
     "name": "stdout",
     "output_type": "stream",
     "text": [
      "False    3342\n",
      "True       24\n",
      "Name: domestic_gross, dtype: int64\n",
      "False    2043\n",
      "True     1323\n",
      "Name: foreign_gross, dtype: int64\n"
     ]
    }
   ],
   "source": [
    "# going back to the movie_gross table\n",
    "\n",
    "print(movie_gross_df['domestic_gross'].isna().value_counts())\n",
    "print(movie_gross_df['foreign_gross'].isna().value_counts())"
   ]
  },
  {
   "cell_type": "markdown",
   "metadata": {},
   "source": [
    "> ***Getting some stats of the domestic_gross column to see if we can impute values:***"
   ]
  },
  {
   "cell_type": "code",
   "execution_count": 64,
   "metadata": {},
   "outputs": [],
   "source": [
    "# we can create a function to compute the stats of any a pandas series\n",
    "# we can just have the pass the series name as an argument into the function\n",
    "\n",
    "def stats(column):\n",
    "    \n",
    "    mean_value = round(column.mean())\n",
    "    median_value = round(column.median())\n",
    "    std_dev = round(column.std())\n",
    "    \n",
    "    return mean_value, median_value,std_dev       "
   ]
  },
  {
   "cell_type": "code",
   "execution_count": 65,
   "metadata": {},
   "outputs": [
    {
     "data": {
      "text/plain": [
       "(29865597.0, 1950000.0, 65323288.0)"
      ]
     },
     "execution_count": 65,
     "metadata": {},
     "output_type": "execute_result"
    }
   ],
   "source": [
    "stat_values = stats(movie_gross_df['domestic_gross'])\n",
    "stat_values"
   ]
  },
  {
   "cell_type": "markdown",
   "metadata": {},
   "source": [
    "> ***Let's impute the median value for the missing data in the domestic_gross column and re-compute the stats to see if there is any discernible change***"
   ]
  },
  {
   "cell_type": "code",
   "execution_count": 66,
   "metadata": {},
   "outputs": [],
   "source": [
    "# Imputing the median value\n",
    "movie_gross_df['domestic_gross'] = movie_gross_df['domestic_gross'].fillna(stat_values[1])"
   ]
  },
  {
   "cell_type": "code",
   "execution_count": 67,
   "metadata": {},
   "outputs": [
    {
     "name": "stdout",
     "output_type": "stream",
     "text": [
      "<class 'pandas.core.frame.DataFrame'>\n",
      "Int64Index: 3366 entries, 0 to 3365\n",
      "Data columns (total 11 columns):\n",
      " #   Column          Non-Null Count  Dtype  \n",
      "---  ------          --------------  -----  \n",
      " 0   movie_id        3366 non-null   object \n",
      " 1   primary_title   3366 non-null   object \n",
      " 2   original_title  3366 non-null   object \n",
      " 3   start_year      3366 non-null   int64  \n",
      " 4   genres          3366 non-null   object \n",
      " 5   genres_split    3326 non-null   object \n",
      " 6   title           3366 non-null   object \n",
      " 7   studio          3363 non-null   object \n",
      " 8   domestic_gross  3366 non-null   float64\n",
      " 9   foreign_gross   2043 non-null   float64\n",
      " 10  year            3366 non-null   int64  \n",
      "dtypes: float64(2), int64(2), object(7)\n",
      "memory usage: 315.6+ KB\n"
     ]
    }
   ],
   "source": [
    "# checking to see if any missing data \n",
    "movie_gross_df.info()"
   ]
  },
  {
   "cell_type": "markdown",
   "metadata": {},
   "source": [
    "> ***We can see that the domestic_gross has no more null values***"
   ]
  },
  {
   "cell_type": "code",
   "execution_count": 68,
   "metadata": {},
   "outputs": [
    {
     "data": {
      "text/plain": [
       "(29666555.0, 1950000.0, 65132297.0)"
      ]
     },
     "execution_count": 68,
     "metadata": {},
     "output_type": "execute_result"
    }
   ],
   "source": [
    "# re-computing the stats\n",
    "new_stat_values = stats(movie_gross_df['domestic_gross'])\n",
    "new_stat_values"
   ]
  },
  {
   "cell_type": "code",
   "execution_count": 69,
   "metadata": {},
   "outputs": [
    {
     "name": "stdout",
     "output_type": "stream",
     "text": [
      "-0.6664591369126155  0.0  -0.2923781178926572\n"
     ]
    }
   ],
   "source": [
    "# Calculating percentage change:\n",
    "\n",
    "mean_change = ((new_stat_values[0]-stat_values[0])/stat_values[0]) * 100\n",
    "median_change = ((new_stat_values[1]-stat_values[1])/stat_values[1]) * 100\n",
    "std_dev_change = ((new_stat_values[2]-stat_values[2])/stat_values[2]) * 100\n",
    "\n",
    "print(mean_change, \"\", median_change, \"\", std_dev_change)"
   ]
  },
  {
   "cell_type": "markdown",
   "metadata": {},
   "source": [
    "> ***We can see that there is less than 1% change if we impute the median value. So, let's keep this***"
   ]
  },
  {
   "cell_type": "markdown",
   "metadata": {},
   "source": [
    "Let's examine the foreign gross column"
   ]
  },
  {
   "cell_type": "code",
   "execution_count": 73,
   "metadata": {},
   "outputs": [
    {
     "data": {
      "text/plain": [
       "False    2043\n",
       "True     1323\n",
       "Name: foreign_gross, dtype: int64"
      ]
     },
     "execution_count": 73,
     "metadata": {},
     "output_type": "execute_result"
    }
   ],
   "source": [
    "movie_gross_df['foreign_gross'].isna().value_counts()"
   ]
  },
  {
   "cell_type": "markdown",
   "metadata": {},
   "source": [
    "> ***We can that there are 1323 empty values. Let's compute the stats again to get an idea of what we can impute.\n",
    "First, we need to convert it to the float data type***"
   ]
  },
  {
   "cell_type": "code",
   "execution_count": 78,
   "metadata": {},
   "outputs": [],
   "source": [
    "# converting 'foreign_gross' to float datatype\n",
    "movie_gross_df['foreign_gross'] = movie_gross_df['foreign_gross'].astype('float64')\n"
   ]
  },
  {
   "cell_type": "code",
   "execution_count": 79,
   "metadata": {},
   "outputs": [
    {
     "data": {
      "text/plain": [
       "(74551466.0, 19600000.0, 134783459.0)"
      ]
     },
     "execution_count": 79,
     "metadata": {},
     "output_type": "execute_result"
    }
   ],
   "source": [
    "# compute the stats \n",
    "fd_stats = stats(movie_gross_df['foreign_gross'])\n",
    "fd_stats"
   ]
  },
  {
   "cell_type": "markdown",
   "metadata": {},
   "source": [
    "> ***Note about the data : None of the stats can be considered to be accurate due to large volume of missing data ( ~ 40%). But, this is what we have to work with. We can exclude the foreign_gross data if we choose to do so later***"
   ]
  },
  {
   "cell_type": "code",
   "execution_count": 81,
   "metadata": {},
   "outputs": [],
   "source": [
    "#imputing the median value\n",
    "movie_gross_df['foreign_gross'] = movie_gross_df['foreign_gross'].fillna(fd_stats[1])"
   ]
  },
  {
   "cell_type": "code",
   "execution_count": 83,
   "metadata": {},
   "outputs": [
    {
     "name": "stdout",
     "output_type": "stream",
     "text": [
      "<class 'pandas.core.frame.DataFrame'>\n",
      "Int64Index: 3366 entries, 0 to 3365\n",
      "Data columns (total 11 columns):\n",
      " #   Column          Non-Null Count  Dtype  \n",
      "---  ------          --------------  -----  \n",
      " 0   movie_id        3366 non-null   object \n",
      " 1   primary_title   3366 non-null   object \n",
      " 2   original_title  3366 non-null   object \n",
      " 3   start_year      3366 non-null   int64  \n",
      " 4   genres          3366 non-null   object \n",
      " 5   genres_split    3326 non-null   object \n",
      " 6   title           3366 non-null   object \n",
      " 7   studio          3363 non-null   object \n",
      " 8   domestic_gross  3366 non-null   float64\n",
      " 9   foreign_gross   3366 non-null   float64\n",
      " 10  year            3366 non-null   int64  \n",
      "dtypes: float64(2), int64(2), object(7)\n",
      "memory usage: 315.6+ KB\n"
     ]
    }
   ],
   "source": [
    "# check the table\n",
    "movie_gross_df.info()"
   ]
  },
  {
   "cell_type": "code",
   "execution_count": 84,
   "metadata": {},
   "outputs": [
    {
     "data": {
      "text/plain": [
       "(52952895.0, 19600000.0, 108373000.0)"
      ]
     },
     "execution_count": 84,
     "metadata": {},
     "output_type": "execute_result"
    }
   ],
   "source": [
    "#re-compute stats\n",
    "fd_new_stats = stats(movie_gross_df['foreign_gross'])\n",
    "fd_new_stats"
   ]
  },
  {
   "cell_type": "markdown",
   "metadata": {},
   "source": [
    "> ***Let's add a new column to see how much each movie grossed totally: domestic + overseas***"
   ]
  },
  {
   "cell_type": "code",
   "execution_count": 92,
   "metadata": {},
   "outputs": [],
   "source": [
    "movie_gross_df['total_gross'] = movie_gross_df['domestic_gross'] + movie_gross_df['foreign_gross']"
   ]
  },
  {
   "cell_type": "code",
   "execution_count": 93,
   "metadata": {},
   "outputs": [
    {
     "name": "stdout",
     "output_type": "stream",
     "text": [
      "<class 'pandas.core.frame.DataFrame'>\n",
      "Int64Index: 3366 entries, 0 to 3365\n",
      "Data columns (total 12 columns):\n",
      " #   Column          Non-Null Count  Dtype  \n",
      "---  ------          --------------  -----  \n",
      " 0   movie_id        3366 non-null   object \n",
      " 1   primary_title   3366 non-null   object \n",
      " 2   original_title  3366 non-null   object \n",
      " 3   start_year      3366 non-null   int64  \n",
      " 4   genres          3366 non-null   object \n",
      " 5   genres_split    3326 non-null   object \n",
      " 6   title           3366 non-null   object \n",
      " 7   studio          3363 non-null   object \n",
      " 8   domestic_gross  3366 non-null   float64\n",
      " 9   foreign_gross   3366 non-null   float64\n",
      " 10  year            3366 non-null   int64  \n",
      " 11  total_gross     3366 non-null   float64\n",
      "dtypes: float64(3), int64(2), object(7)\n",
      "memory usage: 341.9+ KB\n"
     ]
    }
   ],
   "source": [
    "# check to see if the total_gross column is created\n",
    "movie_gross_df.info()"
   ]
  },
  {
   "cell_type": "code",
   "execution_count": 94,
   "metadata": {},
   "outputs": [
    {
     "data": {
      "text/plain": [
       "movie_id          False\n",
       "primary_title     False\n",
       "original_title    False\n",
       "start_year        False\n",
       "genres            False\n",
       "genres_split       True\n",
       "title             False\n",
       "studio             True\n",
       "domestic_gross    False\n",
       "foreign_gross     False\n",
       "year              False\n",
       "total_gross       False\n",
       "dtype: bool"
      ]
     },
     "execution_count": 94,
     "metadata": {},
     "output_type": "execute_result"
    }
   ],
   "source": [
    "# check to see if there are any more missing values\n",
    "movie_gross_df.isna().any()"
   ]
  },
  {
   "cell_type": "markdown",
   "metadata": {},
   "source": [
    "> ***Let's plot to see how much genres grossed***"
   ]
  },
  {
   "cell_type": "code",
   "execution_count": 101,
   "metadata": {},
   "outputs": [
    {
     "data": {
      "text/plain": [
       "Drama                      392\n",
       "Documentary                168\n",
       "Comedy,Drama,Romance       138\n",
       "Comedy,Drama               137\n",
       "Drama,Romance              115\n",
       "                          ... \n",
       "Action,History,Thriller      1\n",
       "Fantasy,Mystery,Romance      1\n",
       "Comedy,Mystery,Sci-Fi        1\n",
       "Action,Comedy,Western        1\n",
       "History                      1\n",
       "Name: genres, Length: 332, dtype: int64"
      ]
     },
     "execution_count": 101,
     "metadata": {},
     "output_type": "execute_result"
    }
   ],
   "source": [
    "# looking at the genres columns\n",
    "movie_gross_df['genres'].value_counts()"
   ]
  },
  {
   "cell_type": "code",
   "execution_count": 102,
   "metadata": {},
   "outputs": [
    {
     "data": {
      "text/html": [
       "<div>\n",
       "<style scoped>\n",
       "    .dataframe tbody tr th:only-of-type {\n",
       "        vertical-align: middle;\n",
       "    }\n",
       "\n",
       "    .dataframe tbody tr th {\n",
       "        vertical-align: top;\n",
       "    }\n",
       "\n",
       "    .dataframe thead th {\n",
       "        text-align: right;\n",
       "    }\n",
       "</style>\n",
       "<table border=\"1\" class=\"dataframe\">\n",
       "  <thead>\n",
       "    <tr style=\"text-align: right;\">\n",
       "      <th></th>\n",
       "      <th></th>\n",
       "      <th>start_year</th>\n",
       "      <th>domestic_gross</th>\n",
       "      <th>foreign_gross</th>\n",
       "      <th>year</th>\n",
       "    </tr>\n",
       "    <tr>\n",
       "      <th>genres</th>\n",
       "      <th>total_gross</th>\n",
       "      <th></th>\n",
       "      <th></th>\n",
       "      <th></th>\n",
       "      <th></th>\n",
       "    </tr>\n",
       "  </thead>\n",
       "  <tbody>\n",
       "    <tr>\n",
       "      <th rowspan=\"5\" valign=\"top\">Action</th>\n",
       "      <th>3302500.0</th>\n",
       "      <td>2013</td>\n",
       "      <td>2500.0</td>\n",
       "      <td>3.300000e+06</td>\n",
       "      <td>2014</td>\n",
       "    </tr>\n",
       "    <tr>\n",
       "      <th>4800000.0</th>\n",
       "      <td>2010</td>\n",
       "      <td>2300000.0</td>\n",
       "      <td>2.500000e+06</td>\n",
       "      <td>2017</td>\n",
       "    </tr>\n",
       "    <tr>\n",
       "      <th>4817500.0</th>\n",
       "      <td>2010</td>\n",
       "      <td>17500.0</td>\n",
       "      <td>4.800000e+06</td>\n",
       "      <td>2015</td>\n",
       "    </tr>\n",
       "    <tr>\n",
       "      <th>5434000.0</th>\n",
       "      <td>2013</td>\n",
       "      <td>134000.0</td>\n",
       "      <td>5.300000e+06</td>\n",
       "      <td>2013</td>\n",
       "    </tr>\n",
       "    <tr>\n",
       "      <th>19602800.0</th>\n",
       "      <td>2017</td>\n",
       "      <td>2800.0</td>\n",
       "      <td>1.960000e+07</td>\n",
       "      <td>2011</td>\n",
       "    </tr>\n",
       "    <tr>\n",
       "      <th>...</th>\n",
       "      <th>...</th>\n",
       "      <td>...</td>\n",
       "      <td>...</td>\n",
       "      <td>...</td>\n",
       "      <td>...</td>\n",
       "    </tr>\n",
       "    <tr>\n",
       "      <th rowspan=\"5\" valign=\"top\">missing</th>\n",
       "      <th>194600000.0</th>\n",
       "      <td>2010</td>\n",
       "      <td>75800000.0</td>\n",
       "      <td>1.188000e+08</td>\n",
       "      <td>2015</td>\n",
       "    </tr>\n",
       "    <tr>\n",
       "      <th>286200000.0</th>\n",
       "      <td>2018</td>\n",
       "      <td>89100000.0</td>\n",
       "      <td>1.971000e+08</td>\n",
       "      <td>2013</td>\n",
       "    </tr>\n",
       "    <tr>\n",
       "      <th>321700000.0</th>\n",
       "      <td>2018</td>\n",
       "      <td>105300000.0</td>\n",
       "      <td>2.164000e+08</td>\n",
       "      <td>2010</td>\n",
       "    </tr>\n",
       "    <tr>\n",
       "      <th>807100000.0</th>\n",
       "      <td>2018</td>\n",
       "      <td>209700000.0</td>\n",
       "      <td>5.974000e+08</td>\n",
       "      <td>2017</td>\n",
       "    </tr>\n",
       "    <tr>\n",
       "      <th>857600000.0</th>\n",
       "      <td>4029</td>\n",
       "      <td>713000000.0</td>\n",
       "      <td>1.002200e+09</td>\n",
       "      <td>4030</td>\n",
       "    </tr>\n",
       "  </tbody>\n",
       "</table>\n",
       "<p>3207 rows × 4 columns</p>\n",
       "</div>"
      ],
      "text/plain": [
       "                     start_year  domestic_gross  foreign_gross  year\n",
       "genres  total_gross                                                 \n",
       "Action  3302500.0          2013          2500.0   3.300000e+06  2014\n",
       "        4800000.0          2010       2300000.0   2.500000e+06  2017\n",
       "        4817500.0          2010         17500.0   4.800000e+06  2015\n",
       "        5434000.0          2013        134000.0   5.300000e+06  2013\n",
       "        19602800.0         2017          2800.0   1.960000e+07  2011\n",
       "...                         ...             ...            ...   ...\n",
       "missing 194600000.0        2010      75800000.0   1.188000e+08  2015\n",
       "        286200000.0        2018      89100000.0   1.971000e+08  2013\n",
       "        321700000.0        2018     105300000.0   2.164000e+08  2010\n",
       "        807100000.0        2018     209700000.0   5.974000e+08  2017\n",
       "        857600000.0        4029     713000000.0   1.002200e+09  4030\n",
       "\n",
       "[3207 rows x 4 columns]"
      ]
     },
     "execution_count": 102,
     "metadata": {},
     "output_type": "execute_result"
    }
   ],
   "source": [
    "movie_gross_df.groupby(['genres','total_gross']).sum()"
   ]
  },
  {
   "cell_type": "code",
   "execution_count": 125,
   "metadata": {},
   "outputs": [],
   "source": [
    "new_df = movie_gross_df.groupby(['genres','total_gross']).sum()\n",
    "new_df.reset_index(inplace = True)"
   ]
  },
  {
   "cell_type": "code",
   "execution_count": 126,
   "metadata": {},
   "outputs": [
    {
     "data": {
      "text/html": [
       "<div>\n",
       "<style scoped>\n",
       "    .dataframe tbody tr th:only-of-type {\n",
       "        vertical-align: middle;\n",
       "    }\n",
       "\n",
       "    .dataframe tbody tr th {\n",
       "        vertical-align: top;\n",
       "    }\n",
       "\n",
       "    .dataframe thead th {\n",
       "        text-align: right;\n",
       "    }\n",
       "</style>\n",
       "<table border=\"1\" class=\"dataframe\">\n",
       "  <thead>\n",
       "    <tr style=\"text-align: right;\">\n",
       "      <th></th>\n",
       "      <th>genres</th>\n",
       "      <th>total_gross</th>\n",
       "      <th>start_year</th>\n",
       "      <th>domestic_gross</th>\n",
       "      <th>foreign_gross</th>\n",
       "      <th>year</th>\n",
       "    </tr>\n",
       "  </thead>\n",
       "  <tbody>\n",
       "    <tr>\n",
       "      <th>0</th>\n",
       "      <td>Action</td>\n",
       "      <td>3.302500e+06</td>\n",
       "      <td>2013</td>\n",
       "      <td>2500.0</td>\n",
       "      <td>3300000.0</td>\n",
       "      <td>2014</td>\n",
       "    </tr>\n",
       "    <tr>\n",
       "      <th>1</th>\n",
       "      <td>Action</td>\n",
       "      <td>4.800000e+06</td>\n",
       "      <td>2010</td>\n",
       "      <td>2300000.0</td>\n",
       "      <td>2500000.0</td>\n",
       "      <td>2017</td>\n",
       "    </tr>\n",
       "    <tr>\n",
       "      <th>2</th>\n",
       "      <td>Action</td>\n",
       "      <td>4.817500e+06</td>\n",
       "      <td>2010</td>\n",
       "      <td>17500.0</td>\n",
       "      <td>4800000.0</td>\n",
       "      <td>2015</td>\n",
       "    </tr>\n",
       "    <tr>\n",
       "      <th>3</th>\n",
       "      <td>Action</td>\n",
       "      <td>5.434000e+06</td>\n",
       "      <td>2013</td>\n",
       "      <td>134000.0</td>\n",
       "      <td>5300000.0</td>\n",
       "      <td>2013</td>\n",
       "    </tr>\n",
       "    <tr>\n",
       "      <th>4</th>\n",
       "      <td>Action</td>\n",
       "      <td>1.960280e+07</td>\n",
       "      <td>2017</td>\n",
       "      <td>2800.0</td>\n",
       "      <td>19600000.0</td>\n",
       "      <td>2011</td>\n",
       "    </tr>\n",
       "    <tr>\n",
       "      <th>5</th>\n",
       "      <td>Action</td>\n",
       "      <td>1.961680e+07</td>\n",
       "      <td>2013</td>\n",
       "      <td>16800.0</td>\n",
       "      <td>19600000.0</td>\n",
       "      <td>2015</td>\n",
       "    </tr>\n",
       "    <tr>\n",
       "      <th>6</th>\n",
       "      <td>Action</td>\n",
       "      <td>1.967190e+07</td>\n",
       "      <td>2016</td>\n",
       "      <td>71900.0</td>\n",
       "      <td>19600000.0</td>\n",
       "      <td>2016</td>\n",
       "    </tr>\n",
       "    <tr>\n",
       "      <th>7</th>\n",
       "      <td>Action</td>\n",
       "      <td>1.970000e+07</td>\n",
       "      <td>2012</td>\n",
       "      <td>15600000.0</td>\n",
       "      <td>4099999.0</td>\n",
       "      <td>2012</td>\n",
       "    </tr>\n",
       "    <tr>\n",
       "      <th>8</th>\n",
       "      <td>Action</td>\n",
       "      <td>1.971200e+07</td>\n",
       "      <td>2018</td>\n",
       "      <td>112000.0</td>\n",
       "      <td>19600000.0</td>\n",
       "      <td>2018</td>\n",
       "    </tr>\n",
       "    <tr>\n",
       "      <th>9</th>\n",
       "      <td>Action</td>\n",
       "      <td>1.976700e+07</td>\n",
       "      <td>2013</td>\n",
       "      <td>167000.0</td>\n",
       "      <td>19600000.0</td>\n",
       "      <td>2013</td>\n",
       "    </tr>\n",
       "    <tr>\n",
       "      <th>10</th>\n",
       "      <td>Action</td>\n",
       "      <td>2.013500e+07</td>\n",
       "      <td>2015</td>\n",
       "      <td>535000.0</td>\n",
       "      <td>19600000.0</td>\n",
       "      <td>2015</td>\n",
       "    </tr>\n",
       "    <tr>\n",
       "      <th>11</th>\n",
       "      <td>Action</td>\n",
       "      <td>2.070000e+07</td>\n",
       "      <td>2019</td>\n",
       "      <td>1100000.0</td>\n",
       "      <td>19600000.0</td>\n",
       "      <td>2011</td>\n",
       "    </tr>\n",
       "    <tr>\n",
       "      <th>12</th>\n",
       "      <td>Action</td>\n",
       "      <td>2.240000e+07</td>\n",
       "      <td>2010</td>\n",
       "      <td>2800000.0</td>\n",
       "      <td>19600000.0</td>\n",
       "      <td>2017</td>\n",
       "    </tr>\n",
       "    <tr>\n",
       "      <th>13</th>\n",
       "      <td>Action</td>\n",
       "      <td>2.937700e+07</td>\n",
       "      <td>2012</td>\n",
       "      <td>777000.0</td>\n",
       "      <td>28600000.0</td>\n",
       "      <td>2012</td>\n",
       "    </tr>\n",
       "    <tr>\n",
       "      <th>14</th>\n",
       "      <td>Action</td>\n",
       "      <td>3.360000e+07</td>\n",
       "      <td>2010</td>\n",
       "      <td>14000000.0</td>\n",
       "      <td>19600000.0</td>\n",
       "      <td>2016</td>\n",
       "    </tr>\n",
       "    <tr>\n",
       "      <th>15</th>\n",
       "      <td>Action</td>\n",
       "      <td>4.605100e+07</td>\n",
       "      <td>2011</td>\n",
       "      <td>251000.0</td>\n",
       "      <td>45800000.0</td>\n",
       "      <td>2011</td>\n",
       "    </tr>\n",
       "    <tr>\n",
       "      <th>16</th>\n",
       "      <td>Action</td>\n",
       "      <td>5.597600e+07</td>\n",
       "      <td>2017</td>\n",
       "      <td>476000.0</td>\n",
       "      <td>55500000.0</td>\n",
       "      <td>2017</td>\n",
       "    </tr>\n",
       "    <tr>\n",
       "      <th>17</th>\n",
       "      <td>Action</td>\n",
       "      <td>9.750000e+07</td>\n",
       "      <td>2019</td>\n",
       "      <td>1300000.0</td>\n",
       "      <td>96200000.0</td>\n",
       "      <td>2016</td>\n",
       "    </tr>\n",
       "    <tr>\n",
       "      <th>18</th>\n",
       "      <td>Action</td>\n",
       "      <td>1.454000e+08</td>\n",
       "      <td>2011</td>\n",
       "      <td>34400000.0</td>\n",
       "      <td>111000000.0</td>\n",
       "      <td>2017</td>\n",
       "    </tr>\n",
       "    <tr>\n",
       "      <th>19</th>\n",
       "      <td>Action</td>\n",
       "      <td>1.544000e+08</td>\n",
       "      <td>2012</td>\n",
       "      <td>134900000.0</td>\n",
       "      <td>19500000.0</td>\n",
       "      <td>2014</td>\n",
       "    </tr>\n",
       "    <tr>\n",
       "      <th>20</th>\n",
       "      <td>Action</td>\n",
       "      <td>2.081000e+08</td>\n",
       "      <td>2019</td>\n",
       "      <td>126400000.0</td>\n",
       "      <td>81700000.0</td>\n",
       "      <td>2012</td>\n",
       "    </tr>\n",
       "    <tr>\n",
       "      <th>21</th>\n",
       "      <td>Action</td>\n",
       "      <td>3.029000e+08</td>\n",
       "      <td>2013</td>\n",
       "      <td>12400000.0</td>\n",
       "      <td>290500000.0</td>\n",
       "      <td>2016</td>\n",
       "    </tr>\n",
       "    <tr>\n",
       "      <th>22</th>\n",
       "      <td>Action,Adventure</td>\n",
       "      <td>3.821000e+05</td>\n",
       "      <td>2012</td>\n",
       "      <td>35100.0</td>\n",
       "      <td>347000.0</td>\n",
       "      <td>2013</td>\n",
       "    </tr>\n",
       "    <tr>\n",
       "      <th>23</th>\n",
       "      <td>Action,Adventure</td>\n",
       "      <td>3.701400e+06</td>\n",
       "      <td>2013</td>\n",
       "      <td>1400.0</td>\n",
       "      <td>3700000.0</td>\n",
       "      <td>2014</td>\n",
       "    </tr>\n",
       "    <tr>\n",
       "      <th>24</th>\n",
       "      <td>Action,Adventure</td>\n",
       "      <td>1.960520e+07</td>\n",
       "      <td>2014</td>\n",
       "      <td>5200.0</td>\n",
       "      <td>19600000.0</td>\n",
       "      <td>2015</td>\n",
       "    </tr>\n",
       "    <tr>\n",
       "      <th>25</th>\n",
       "      <td>Action,Adventure</td>\n",
       "      <td>1.961180e+07</td>\n",
       "      <td>2014</td>\n",
       "      <td>11800.0</td>\n",
       "      <td>19600000.0</td>\n",
       "      <td>2014</td>\n",
       "    </tr>\n",
       "    <tr>\n",
       "      <th>26</th>\n",
       "      <td>Action,Adventure</td>\n",
       "      <td>1.970100e+07</td>\n",
       "      <td>2012</td>\n",
       "      <td>101000.0</td>\n",
       "      <td>19600000.0</td>\n",
       "      <td>2012</td>\n",
       "    </tr>\n",
       "    <tr>\n",
       "      <th>27</th>\n",
       "      <td>Action,Adventure</td>\n",
       "      <td>1.977000e+07</td>\n",
       "      <td>2011</td>\n",
       "      <td>170000.0</td>\n",
       "      <td>19600000.0</td>\n",
       "      <td>2012</td>\n",
       "    </tr>\n",
       "    <tr>\n",
       "      <th>28</th>\n",
       "      <td>Action,Adventure,Animation</td>\n",
       "      <td>2.191000e+06</td>\n",
       "      <td>2015</td>\n",
       "      <td>491000.0</td>\n",
       "      <td>1700000.0</td>\n",
       "      <td>2018</td>\n",
       "    </tr>\n",
       "    <tr>\n",
       "      <th>29</th>\n",
       "      <td>Action,Adventure,Animation</td>\n",
       "      <td>1.963440e+07</td>\n",
       "      <td>2015</td>\n",
       "      <td>34400.0</td>\n",
       "      <td>19600000.0</td>\n",
       "      <td>2016</td>\n",
       "    </tr>\n",
       "    <tr>\n",
       "      <th>30</th>\n",
       "      <td>Action,Adventure,Animation</td>\n",
       "      <td>2.009100e+07</td>\n",
       "      <td>2015</td>\n",
       "      <td>491000.0</td>\n",
       "      <td>19600000.0</td>\n",
       "      <td>2016</td>\n",
       "    </tr>\n",
       "    <tr>\n",
       "      <th>31</th>\n",
       "      <td>Action,Adventure,Animation</td>\n",
       "      <td>2.052000e+07</td>\n",
       "      <td>2015</td>\n",
       "      <td>920000.0</td>\n",
       "      <td>19600000.0</td>\n",
       "      <td>2015</td>\n",
       "    </tr>\n",
       "    <tr>\n",
       "      <th>32</th>\n",
       "      <td>Action,Adventure,Animation</td>\n",
       "      <td>2.070000e+07</td>\n",
       "      <td>2017</td>\n",
       "      <td>1500000.0</td>\n",
       "      <td>19200000.0</td>\n",
       "      <td>2017</td>\n",
       "    </tr>\n",
       "    <tr>\n",
       "      <th>33</th>\n",
       "      <td>Action,Adventure,Animation</td>\n",
       "      <td>2.540000e+07</td>\n",
       "      <td>2018</td>\n",
       "      <td>5800000.0</td>\n",
       "      <td>19600000.0</td>\n",
       "      <td>2018</td>\n",
       "    </tr>\n",
       "    <tr>\n",
       "      <th>34</th>\n",
       "      <td>Action,Adventure,Animation</td>\n",
       "      <td>2.840000e+07</td>\n",
       "      <td>2016</td>\n",
       "      <td>8800000.0</td>\n",
       "      <td>19600000.0</td>\n",
       "      <td>2016</td>\n",
       "    </tr>\n",
       "    <tr>\n",
       "      <th>35</th>\n",
       "      <td>Action,Adventure,Animation</td>\n",
       "      <td>5.040000e+07</td>\n",
       "      <td>2013</td>\n",
       "      <td>2600000.0</td>\n",
       "      <td>47800000.0</td>\n",
       "      <td>2014</td>\n",
       "    </tr>\n",
       "    <tr>\n",
       "      <th>36</th>\n",
       "      <td>Action,Adventure,Animation</td>\n",
       "      <td>6.180000e+07</td>\n",
       "      <td>2015</td>\n",
       "      <td>8000000.0</td>\n",
       "      <td>53800000.0</td>\n",
       "      <td>2015</td>\n",
       "    </tr>\n",
       "    <tr>\n",
       "      <th>37</th>\n",
       "      <td>Action,Adventure,Animation</td>\n",
       "      <td>6.622400e+07</td>\n",
       "      <td>2016</td>\n",
       "      <td>424000.0</td>\n",
       "      <td>65800000.0</td>\n",
       "      <td>2017</td>\n",
       "    </tr>\n",
       "    <tr>\n",
       "      <th>38</th>\n",
       "      <td>Action,Adventure,Animation</td>\n",
       "      <td>6.990000e+07</td>\n",
       "      <td>2016</td>\n",
       "      <td>48000000.0</td>\n",
       "      <td>21900000.0</td>\n",
       "      <td>2016</td>\n",
       "    </tr>\n",
       "    <tr>\n",
       "      <th>39</th>\n",
       "      <td>Action,Adventure,Animation</td>\n",
       "      <td>1.401000e+08</td>\n",
       "      <td>2010</td>\n",
       "      <td>55700000.0</td>\n",
       "      <td>84400000.0</td>\n",
       "      <td>2010</td>\n",
       "    </tr>\n",
       "    <tr>\n",
       "      <th>40</th>\n",
       "      <td>Action,Adventure,Animation</td>\n",
       "      <td>3.069000e+08</td>\n",
       "      <td>2012</td>\n",
       "      <td>103400000.0</td>\n",
       "      <td>203500000.0</td>\n",
       "      <td>2012</td>\n",
       "    </tr>\n",
       "    <tr>\n",
       "      <th>41</th>\n",
       "      <td>Action,Adventure,Animation</td>\n",
       "      <td>3.740000e+08</td>\n",
       "      <td>2011</td>\n",
       "      <td>77600000.0</td>\n",
       "      <td>296400000.0</td>\n",
       "      <td>2011</td>\n",
       "    </tr>\n",
       "    <tr>\n",
       "      <th>42</th>\n",
       "      <td>Action,Adventure,Animation</td>\n",
       "      <td>4.949000e+08</td>\n",
       "      <td>2010</td>\n",
       "      <td>217600000.0</td>\n",
       "      <td>277300000.0</td>\n",
       "      <td>2010</td>\n",
       "    </tr>\n",
       "    <tr>\n",
       "      <th>43</th>\n",
       "      <td>Action,Adventure,Animation</td>\n",
       "      <td>5.211000e+08</td>\n",
       "      <td>2016</td>\n",
       "      <td>143500000.0</td>\n",
       "      <td>377600000.0</td>\n",
       "      <td>2016</td>\n",
       "    </tr>\n",
       "    <tr>\n",
       "      <th>44</th>\n",
       "      <td>Action,Adventure,Animation</td>\n",
       "      <td>5.550000e+08</td>\n",
       "      <td>2011</td>\n",
       "      <td>149300000.0</td>\n",
       "      <td>405700000.0</td>\n",
       "      <td>2011</td>\n",
       "    </tr>\n",
       "    <tr>\n",
       "      <th>45</th>\n",
       "      <td>Action,Adventure,Animation</td>\n",
       "      <td>5.872000e+08</td>\n",
       "      <td>2013</td>\n",
       "      <td>187200000.0</td>\n",
       "      <td>400000000.0</td>\n",
       "      <td>2013</td>\n",
       "    </tr>\n",
       "    <tr>\n",
       "      <th>46</th>\n",
       "      <td>Action,Adventure,Animation</td>\n",
       "      <td>6.215000e+08</td>\n",
       "      <td>2014</td>\n",
       "      <td>177000000.0</td>\n",
       "      <td>444500000.0</td>\n",
       "      <td>2014</td>\n",
       "    </tr>\n",
       "    <tr>\n",
       "      <th>47</th>\n",
       "      <td>Action,Adventure,Animation</td>\n",
       "      <td>6.578000e+08</td>\n",
       "      <td>2014</td>\n",
       "      <td>222500000.0</td>\n",
       "      <td>435300000.0</td>\n",
       "      <td>2014</td>\n",
       "    </tr>\n",
       "    <tr>\n",
       "      <th>48</th>\n",
       "      <td>Action,Adventure,Animation</td>\n",
       "      <td>6.656000e+08</td>\n",
       "      <td>2011</td>\n",
       "      <td>165200000.0</td>\n",
       "      <td>500400000.0</td>\n",
       "      <td>2011</td>\n",
       "    </tr>\n",
       "    <tr>\n",
       "      <th>49</th>\n",
       "      <td>Action,Adventure,Animation</td>\n",
       "      <td>1.242800e+09</td>\n",
       "      <td>2018</td>\n",
       "      <td>608600000.0</td>\n",
       "      <td>634200000.0</td>\n",
       "      <td>2018</td>\n",
       "    </tr>\n",
       "  </tbody>\n",
       "</table>\n",
       "</div>"
      ],
      "text/plain": [
       "                        genres   total_gross  start_year  domestic_gross  \\\n",
       "0                       Action  3.302500e+06        2013          2500.0   \n",
       "1                       Action  4.800000e+06        2010       2300000.0   \n",
       "2                       Action  4.817500e+06        2010         17500.0   \n",
       "3                       Action  5.434000e+06        2013        134000.0   \n",
       "4                       Action  1.960280e+07        2017          2800.0   \n",
       "5                       Action  1.961680e+07        2013         16800.0   \n",
       "6                       Action  1.967190e+07        2016         71900.0   \n",
       "7                       Action  1.970000e+07        2012      15600000.0   \n",
       "8                       Action  1.971200e+07        2018        112000.0   \n",
       "9                       Action  1.976700e+07        2013        167000.0   \n",
       "10                      Action  2.013500e+07        2015        535000.0   \n",
       "11                      Action  2.070000e+07        2019       1100000.0   \n",
       "12                      Action  2.240000e+07        2010       2800000.0   \n",
       "13                      Action  2.937700e+07        2012        777000.0   \n",
       "14                      Action  3.360000e+07        2010      14000000.0   \n",
       "15                      Action  4.605100e+07        2011        251000.0   \n",
       "16                      Action  5.597600e+07        2017        476000.0   \n",
       "17                      Action  9.750000e+07        2019       1300000.0   \n",
       "18                      Action  1.454000e+08        2011      34400000.0   \n",
       "19                      Action  1.544000e+08        2012     134900000.0   \n",
       "20                      Action  2.081000e+08        2019     126400000.0   \n",
       "21                      Action  3.029000e+08        2013      12400000.0   \n",
       "22            Action,Adventure  3.821000e+05        2012         35100.0   \n",
       "23            Action,Adventure  3.701400e+06        2013          1400.0   \n",
       "24            Action,Adventure  1.960520e+07        2014          5200.0   \n",
       "25            Action,Adventure  1.961180e+07        2014         11800.0   \n",
       "26            Action,Adventure  1.970100e+07        2012        101000.0   \n",
       "27            Action,Adventure  1.977000e+07        2011        170000.0   \n",
       "28  Action,Adventure,Animation  2.191000e+06        2015        491000.0   \n",
       "29  Action,Adventure,Animation  1.963440e+07        2015         34400.0   \n",
       "30  Action,Adventure,Animation  2.009100e+07        2015        491000.0   \n",
       "31  Action,Adventure,Animation  2.052000e+07        2015        920000.0   \n",
       "32  Action,Adventure,Animation  2.070000e+07        2017       1500000.0   \n",
       "33  Action,Adventure,Animation  2.540000e+07        2018       5800000.0   \n",
       "34  Action,Adventure,Animation  2.840000e+07        2016       8800000.0   \n",
       "35  Action,Adventure,Animation  5.040000e+07        2013       2600000.0   \n",
       "36  Action,Adventure,Animation  6.180000e+07        2015       8000000.0   \n",
       "37  Action,Adventure,Animation  6.622400e+07        2016        424000.0   \n",
       "38  Action,Adventure,Animation  6.990000e+07        2016      48000000.0   \n",
       "39  Action,Adventure,Animation  1.401000e+08        2010      55700000.0   \n",
       "40  Action,Adventure,Animation  3.069000e+08        2012     103400000.0   \n",
       "41  Action,Adventure,Animation  3.740000e+08        2011      77600000.0   \n",
       "42  Action,Adventure,Animation  4.949000e+08        2010     217600000.0   \n",
       "43  Action,Adventure,Animation  5.211000e+08        2016     143500000.0   \n",
       "44  Action,Adventure,Animation  5.550000e+08        2011     149300000.0   \n",
       "45  Action,Adventure,Animation  5.872000e+08        2013     187200000.0   \n",
       "46  Action,Adventure,Animation  6.215000e+08        2014     177000000.0   \n",
       "47  Action,Adventure,Animation  6.578000e+08        2014     222500000.0   \n",
       "48  Action,Adventure,Animation  6.656000e+08        2011     165200000.0   \n",
       "49  Action,Adventure,Animation  1.242800e+09        2018     608600000.0   \n",
       "\n",
       "    foreign_gross  year  \n",
       "0       3300000.0  2014  \n",
       "1       2500000.0  2017  \n",
       "2       4800000.0  2015  \n",
       "3       5300000.0  2013  \n",
       "4      19600000.0  2011  \n",
       "5      19600000.0  2015  \n",
       "6      19600000.0  2016  \n",
       "7       4099999.0  2012  \n",
       "8      19600000.0  2018  \n",
       "9      19600000.0  2013  \n",
       "10     19600000.0  2015  \n",
       "11     19600000.0  2011  \n",
       "12     19600000.0  2017  \n",
       "13     28600000.0  2012  \n",
       "14     19600000.0  2016  \n",
       "15     45800000.0  2011  \n",
       "16     55500000.0  2017  \n",
       "17     96200000.0  2016  \n",
       "18    111000000.0  2017  \n",
       "19     19500000.0  2014  \n",
       "20     81700000.0  2012  \n",
       "21    290500000.0  2016  \n",
       "22       347000.0  2013  \n",
       "23      3700000.0  2014  \n",
       "24     19600000.0  2015  \n",
       "25     19600000.0  2014  \n",
       "26     19600000.0  2012  \n",
       "27     19600000.0  2012  \n",
       "28      1700000.0  2018  \n",
       "29     19600000.0  2016  \n",
       "30     19600000.0  2016  \n",
       "31     19600000.0  2015  \n",
       "32     19200000.0  2017  \n",
       "33     19600000.0  2018  \n",
       "34     19600000.0  2016  \n",
       "35     47800000.0  2014  \n",
       "36     53800000.0  2015  \n",
       "37     65800000.0  2017  \n",
       "38     21900000.0  2016  \n",
       "39     84400000.0  2010  \n",
       "40    203500000.0  2012  \n",
       "41    296400000.0  2011  \n",
       "42    277300000.0  2010  \n",
       "43    377600000.0  2016  \n",
       "44    405700000.0  2011  \n",
       "45    400000000.0  2013  \n",
       "46    444500000.0  2014  \n",
       "47    435300000.0  2014  \n",
       "48    500400000.0  2011  \n",
       "49    634200000.0  2018  "
      ]
     },
     "execution_count": 126,
     "metadata": {},
     "output_type": "execute_result"
    }
   ],
   "source": [
    "new_df.head(50)"
   ]
  },
  {
   "cell_type": "code",
   "execution_count": 135,
   "metadata": {},
   "outputs": [
    {
     "data": {
      "text/html": [
       "<div>\n",
       "<style scoped>\n",
       "    .dataframe tbody tr th:only-of-type {\n",
       "        vertical-align: middle;\n",
       "    }\n",
       "\n",
       "    .dataframe tbody tr th {\n",
       "        vertical-align: top;\n",
       "    }\n",
       "\n",
       "    .dataframe thead th {\n",
       "        text-align: right;\n",
       "    }\n",
       "</style>\n",
       "<table border=\"1\" class=\"dataframe\">\n",
       "  <thead>\n",
       "    <tr style=\"text-align: right;\">\n",
       "      <th></th>\n",
       "      <th>total_gross</th>\n",
       "      <th>start_year</th>\n",
       "      <th>domestic_gross</th>\n",
       "      <th>foreign_gross</th>\n",
       "      <th>year</th>\n",
       "    </tr>\n",
       "    <tr>\n",
       "      <th>genres</th>\n",
       "      <th></th>\n",
       "      <th></th>\n",
       "      <th></th>\n",
       "      <th></th>\n",
       "      <th></th>\n",
       "    </tr>\n",
       "  </thead>\n",
       "  <tbody>\n",
       "    <tr>\n",
       "      <th>False</th>\n",
       "      <td>2.705160e+11</td>\n",
       "      <td>6734678</td>\n",
       "      <td>9.950986e+10</td>\n",
       "      <td>1.773142e+11</td>\n",
       "      <td>6735004</td>\n",
       "    </tr>\n",
       "    <tr>\n",
       "      <th>True</th>\n",
       "      <td>1.272963e+09</td>\n",
       "      <td>44303</td>\n",
       "      <td>3.477635e+08</td>\n",
       "      <td>9.252000e+08</td>\n",
       "      <td>44318</td>\n",
       "    </tr>\n",
       "  </tbody>\n",
       "</table>\n",
       "</div>"
      ],
      "text/plain": [
       "         total_gross  start_year  domestic_gross  foreign_gross     year\n",
       "genres                                                                  \n",
       "False   2.705160e+11     6734678    9.950986e+10   1.773142e+11  6735004\n",
       "True    1.272963e+09       44303    3.477635e+08   9.252000e+08    44318"
      ]
     },
     "execution_count": 135,
     "metadata": {},
     "output_type": "execute_result"
    }
   ],
   "source": [
    "new_df.groupby(new_df['genres'] == 'Action').sum()"
   ]
  },
  {
   "cell_type": "code",
   "execution_count": 132,
   "metadata": {},
   "outputs": [
    {
     "data": {
      "image/png": "[encoded data removed]",
      "text/plain": [
       "<Figure size 1080x1080 with 1 Axes>"
      ]
     },
     "metadata": {
      "needs_background": "light"
     },
     "output_type": "display_data"
    }
   ],
   "source": [
    "fig,ax = plt.subplots(figsize = (15,15))\n",
    "\n",
    "ax.bar(x = new_df.loc[:100,'genres'], height = new_df.loc[:100,'total_gross'])\n",
    "ax.tick_params(axis='x', rotation=45)\n",
    "plt.show()"
   ]
  },
  {
   "cell_type": "code",
   "execution_count": null,
   "metadata": {},
   "outputs": [],
   "source": []
  }
 ],
 "metadata": {
  "kernelspec": {
   "display_name": "Python (learn-env)",
   "language": "python",
   "name": "learn-env"
  },
  "language_info": {
   "codemirror_mode": {
    "name": "ipython",
    "version": 3
   },
   "file_extension": ".py",
   "mimetype": "text/x-python",
   "name": "python",
   "nbconvert_exporter": "python",
   "pygments_lexer": "ipython3",
   "version": "3.8.5"
  }
 },
 "nbformat": 4,
 "nbformat_minor": 4
}
