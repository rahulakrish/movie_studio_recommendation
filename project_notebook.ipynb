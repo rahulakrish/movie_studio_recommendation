{
 "cells": [
  {
   "cell_type": "markdown",
   "metadata": {},
   "source": [
    "# Phase1_Project"
   ]
  },
  {
   "cell_type": "markdown",
   "metadata": {},
   "source": [
    "### Objective : To provide to Microsoft Studio information on the kinds of movies that are doing well at the box office"
   ]
  },
  {
   "cell_type": "code",
   "execution_count": 1,
   "metadata": {},
   "outputs": [],
   "source": [
    "# Importing relevant libraries for our analysis\n",
    "\n",
    "import pandas as pd\n",
    "import numpy as np\n",
    "import sqlite3\n",
    "import matplotlib.pyplot as plt\n",
    "from matplotlib.ticker import FuncFormatter\n",
    "%matplotlib inline\n",
    "\n",
    "# creating a connection to the im.db database which serves as the data source\n",
    "conn = sqlite3.connect('im.db')"
   ]
  },
  {
   "cell_type": "markdown",
   "metadata": {},
   "source": [
    "## Getting a feel for the data"
   ]
  },
  {
   "cell_type": "code",
   "execution_count": 2,
   "metadata": {},
   "outputs": [
    {
     "data": {
      "text/html": [
       "<div>\n",
       "<style scoped>\n",
       "    .dataframe tbody tr th:only-of-type {\n",
       "        vertical-align: middle;\n",
       "    }\n",
       "\n",
       "    .dataframe tbody tr th {\n",
       "        vertical-align: top;\n",
       "    }\n",
       "\n",
       "    .dataframe thead th {\n",
       "        text-align: right;\n",
       "    }\n",
       "</style>\n",
       "<table border=\"1\" class=\"dataframe\">\n",
       "  <thead>\n",
       "    <tr style=\"text-align: right;\">\n",
       "      <th></th>\n",
       "      <th>movie_id</th>\n",
       "      <th>primary_title</th>\n",
       "      <th>original_title</th>\n",
       "      <th>start_year</th>\n",
       "      <th>runtime_minutes</th>\n",
       "      <th>genres</th>\n",
       "    </tr>\n",
       "  </thead>\n",
       "  <tbody>\n",
       "    <tr>\n",
       "      <th>0</th>\n",
       "      <td>tt0063540</td>\n",
       "      <td>Sunghursh</td>\n",
       "      <td>Sunghursh</td>\n",
       "      <td>2013</td>\n",
       "      <td>175.0</td>\n",
       "      <td>Action,Crime,Drama</td>\n",
       "    </tr>\n",
       "    <tr>\n",
       "      <th>1</th>\n",
       "      <td>tt0066787</td>\n",
       "      <td>One Day Before the Rainy Season</td>\n",
       "      <td>Ashad Ka Ek Din</td>\n",
       "      <td>2019</td>\n",
       "      <td>114.0</td>\n",
       "      <td>Biography,Drama</td>\n",
       "    </tr>\n",
       "    <tr>\n",
       "      <th>2</th>\n",
       "      <td>tt0069049</td>\n",
       "      <td>The Other Side of the Wind</td>\n",
       "      <td>The Other Side of the Wind</td>\n",
       "      <td>2018</td>\n",
       "      <td>122.0</td>\n",
       "      <td>Drama</td>\n",
       "    </tr>\n",
       "    <tr>\n",
       "      <th>3</th>\n",
       "      <td>tt0069204</td>\n",
       "      <td>Sabse Bada Sukh</td>\n",
       "      <td>Sabse Bada Sukh</td>\n",
       "      <td>2018</td>\n",
       "      <td>NaN</td>\n",
       "      <td>Comedy,Drama</td>\n",
       "    </tr>\n",
       "    <tr>\n",
       "      <th>4</th>\n",
       "      <td>tt0100275</td>\n",
       "      <td>The Wandering Soap Opera</td>\n",
       "      <td>La Telenovela Errante</td>\n",
       "      <td>2017</td>\n",
       "      <td>80.0</td>\n",
       "      <td>Comedy,Drama,Fantasy</td>\n",
       "    </tr>\n",
       "  </tbody>\n",
       "</table>\n",
       "</div>"
      ],
      "text/plain": [
       "    movie_id                    primary_title              original_title  \\\n",
       "0  tt0063540                        Sunghursh                   Sunghursh   \n",
       "1  tt0066787  One Day Before the Rainy Season             Ashad Ka Ek Din   \n",
       "2  tt0069049       The Other Side of the Wind  The Other Side of the Wind   \n",
       "3  tt0069204                  Sabse Bada Sukh             Sabse Bada Sukh   \n",
       "4  tt0100275         The Wandering Soap Opera       La Telenovela Errante   \n",
       "\n",
       "   start_year  runtime_minutes                genres  \n",
       "0        2013            175.0    Action,Crime,Drama  \n",
       "1        2019            114.0       Biography,Drama  \n",
       "2        2018            122.0                 Drama  \n",
       "3        2018              NaN          Comedy,Drama  \n",
       "4        2017             80.0  Comedy,Drama,Fantasy  "
      ]
     },
     "execution_count": 2,
     "metadata": {},
     "output_type": "execute_result"
    }
   ],
   "source": [
    "# initial look at the different tables\n",
    "# converting all the tables into a df using the dataframe constructor \n",
    "\n",
    "movie_basics = pd.DataFrame(pd.read_sql('SELECT * FROM movie_basics',conn))\n",
    "movie_basics.head()\n"
   ]
  },
  {
   "cell_type": "code",
   "execution_count": 3,
   "metadata": {},
   "outputs": [
    {
     "data": {
      "text/html": [
       "<div>\n",
       "<style scoped>\n",
       "    .dataframe tbody tr th:only-of-type {\n",
       "        vertical-align: middle;\n",
       "    }\n",
       "\n",
       "    .dataframe tbody tr th {\n",
       "        vertical-align: top;\n",
       "    }\n",
       "\n",
       "    .dataframe thead th {\n",
       "        text-align: right;\n",
       "    }\n",
       "</style>\n",
       "<table border=\"1\" class=\"dataframe\">\n",
       "  <thead>\n",
       "    <tr style=\"text-align: right;\">\n",
       "      <th></th>\n",
       "      <th>movie_id</th>\n",
       "      <th>averagerating</th>\n",
       "      <th>numvotes</th>\n",
       "    </tr>\n",
       "  </thead>\n",
       "  <tbody>\n",
       "    <tr>\n",
       "      <th>0</th>\n",
       "      <td>tt10356526</td>\n",
       "      <td>8.3</td>\n",
       "      <td>31</td>\n",
       "    </tr>\n",
       "    <tr>\n",
       "      <th>1</th>\n",
       "      <td>tt10384606</td>\n",
       "      <td>8.9</td>\n",
       "      <td>559</td>\n",
       "    </tr>\n",
       "    <tr>\n",
       "      <th>2</th>\n",
       "      <td>tt1042974</td>\n",
       "      <td>6.4</td>\n",
       "      <td>20</td>\n",
       "    </tr>\n",
       "    <tr>\n",
       "      <th>3</th>\n",
       "      <td>tt1043726</td>\n",
       "      <td>4.2</td>\n",
       "      <td>50352</td>\n",
       "    </tr>\n",
       "    <tr>\n",
       "      <th>4</th>\n",
       "      <td>tt1060240</td>\n",
       "      <td>6.5</td>\n",
       "      <td>21</td>\n",
       "    </tr>\n",
       "  </tbody>\n",
       "</table>\n",
       "</div>"
      ],
      "text/plain": [
       "     movie_id  averagerating  numvotes\n",
       "0  tt10356526            8.3        31\n",
       "1  tt10384606            8.9       559\n",
       "2   tt1042974            6.4        20\n",
       "3   tt1043726            4.2     50352\n",
       "4   tt1060240            6.5        21"
      ]
     },
     "execution_count": 3,
     "metadata": {},
     "output_type": "execute_result"
    }
   ],
   "source": [
    "movie_ratings = pd.DataFrame(pd.read_sql('SELECT * FROM movie_ratings',conn))\n",
    "movie_ratings.head()"
   ]
  },
  {
   "cell_type": "code",
   "execution_count": 4,
   "metadata": {},
   "outputs": [
    {
     "data": {
      "text/html": [
       "<div>\n",
       "<style scoped>\n",
       "    .dataframe tbody tr th:only-of-type {\n",
       "        vertical-align: middle;\n",
       "    }\n",
       "\n",
       "    .dataframe tbody tr th {\n",
       "        vertical-align: top;\n",
       "    }\n",
       "\n",
       "    .dataframe thead th {\n",
       "        text-align: right;\n",
       "    }\n",
       "</style>\n",
       "<table border=\"1\" class=\"dataframe\">\n",
       "  <thead>\n",
       "    <tr style=\"text-align: right;\">\n",
       "      <th></th>\n",
       "      <th>movie_id</th>\n",
       "      <th>ordering</th>\n",
       "      <th>title</th>\n",
       "      <th>region</th>\n",
       "      <th>language</th>\n",
       "      <th>types</th>\n",
       "      <th>attributes</th>\n",
       "      <th>is_original_title</th>\n",
       "    </tr>\n",
       "  </thead>\n",
       "  <tbody>\n",
       "    <tr>\n",
       "      <th>0</th>\n",
       "      <td>tt0369610</td>\n",
       "      <td>10</td>\n",
       "      <td>Джурасик свят</td>\n",
       "      <td>BG</td>\n",
       "      <td>bg</td>\n",
       "      <td>None</td>\n",
       "      <td>None</td>\n",
       "      <td>0.0</td>\n",
       "    </tr>\n",
       "    <tr>\n",
       "      <th>1</th>\n",
       "      <td>tt0369610</td>\n",
       "      <td>11</td>\n",
       "      <td>Jurashikku warudo</td>\n",
       "      <td>JP</td>\n",
       "      <td>None</td>\n",
       "      <td>imdbDisplay</td>\n",
       "      <td>None</td>\n",
       "      <td>0.0</td>\n",
       "    </tr>\n",
       "    <tr>\n",
       "      <th>2</th>\n",
       "      <td>tt0369610</td>\n",
       "      <td>12</td>\n",
       "      <td>Jurassic World: O Mundo dos Dinossauros</td>\n",
       "      <td>BR</td>\n",
       "      <td>None</td>\n",
       "      <td>imdbDisplay</td>\n",
       "      <td>None</td>\n",
       "      <td>0.0</td>\n",
       "    </tr>\n",
       "    <tr>\n",
       "      <th>3</th>\n",
       "      <td>tt0369610</td>\n",
       "      <td>13</td>\n",
       "      <td>O Mundo dos Dinossauros</td>\n",
       "      <td>BR</td>\n",
       "      <td>None</td>\n",
       "      <td>None</td>\n",
       "      <td>short title</td>\n",
       "      <td>0.0</td>\n",
       "    </tr>\n",
       "    <tr>\n",
       "      <th>4</th>\n",
       "      <td>tt0369610</td>\n",
       "      <td>14</td>\n",
       "      <td>Jurassic World</td>\n",
       "      <td>FR</td>\n",
       "      <td>None</td>\n",
       "      <td>imdbDisplay</td>\n",
       "      <td>None</td>\n",
       "      <td>0.0</td>\n",
       "    </tr>\n",
       "  </tbody>\n",
       "</table>\n",
       "</div>"
      ],
      "text/plain": [
       "    movie_id  ordering                                    title region  \\\n",
       "0  tt0369610        10                            Джурасик свят     BG   \n",
       "1  tt0369610        11                        Jurashikku warudo     JP   \n",
       "2  tt0369610        12  Jurassic World: O Mundo dos Dinossauros     BR   \n",
       "3  tt0369610        13                  O Mundo dos Dinossauros     BR   \n",
       "4  tt0369610        14                           Jurassic World     FR   \n",
       "\n",
       "  language        types   attributes  is_original_title  \n",
       "0       bg         None         None                0.0  \n",
       "1     None  imdbDisplay         None                0.0  \n",
       "2     None  imdbDisplay         None                0.0  \n",
       "3     None         None  short title                0.0  \n",
       "4     None  imdbDisplay         None                0.0  "
      ]
     },
     "execution_count": 4,
     "metadata": {},
     "output_type": "execute_result"
    }
   ],
   "source": [
    "movie_akas = pd.DataFrame(pd.read_sql('SELECT * FROM movie_akas',conn))\n",
    "movie_akas.head()"
   ]
  },
  {
   "cell_type": "code",
   "execution_count": 5,
   "metadata": {
    "scrolled": true
   },
   "outputs": [
    {
     "name": "stdout",
     "output_type": "stream",
     "text": [
      "Shape of movie_basics table : (146144, 6)\n",
      "Shape of movie_ratings table : (73856, 3)\n",
      "Shape of movie_akas table :  (331703, 8)\n"
     ]
    }
   ],
   "source": [
    "# Getting an idea of the size of the tables\n",
    "\n",
    "print('Shape of movie_basics table :',movie_basics.shape)\n",
    "print('Shape of movie_ratings table :',movie_ratings.shape)\n",
    "print('Shape of movie_akas table : ',movie_akas.shape)\n"
   ]
  },
  {
   "cell_type": "markdown",
   "metadata": {},
   "source": [
    "## Cleaning up data - movie_basics table"
   ]
  },
  {
   "cell_type": "markdown",
   "metadata": {},
   "source": [
    "> From the shapes of the tables, it is evident that there is a ***disparity in the amount of data between the tables.*** "
   ]
  },
  {
   "cell_type": "markdown",
   "metadata": {},
   "source": [
    "> I started my analysis by looking at the **movie_basics** table first"
   ]
  },
  {
   "cell_type": "code",
   "execution_count": 6,
   "metadata": {},
   "outputs": [
    {
     "name": "stdout",
     "output_type": "stream",
     "text": [
      "<class 'pandas.core.frame.DataFrame'>\n",
      "RangeIndex: 146144 entries, 0 to 146143\n",
      "Data columns (total 6 columns):\n",
      " #   Column           Non-Null Count   Dtype  \n",
      "---  ------           --------------   -----  \n",
      " 0   movie_id         146144 non-null  object \n",
      " 1   primary_title    146144 non-null  object \n",
      " 2   original_title   146123 non-null  object \n",
      " 3   start_year       146144 non-null  int64  \n",
      " 4   runtime_minutes  114405 non-null  float64\n",
      " 5   genres           140736 non-null  object \n",
      "dtypes: float64(1), int64(1), object(4)\n",
      "memory usage: 6.7+ MB\n"
     ]
    }
   ],
   "source": [
    "movie_basics.info()"
   ]
  },
  {
   "cell_type": "markdown",
   "metadata": {},
   "source": [
    "> **original_title, runtime_minutes and genres have missing values.**\n",
    " Getting an idea of the amount of missing data:"
   ]
  },
  {
   "cell_type": "code",
   "execution_count": 7,
   "metadata": {},
   "outputs": [
    {
     "name": "stdout",
     "output_type": "stream",
     "text": [
      "Number of rows missing in the original_title column : 21\n",
      "Number of rows missing in the runtime_miutes column : 31739\n",
      "Number of rows missing in the genres column : 5408\n"
     ]
    }
   ],
   "source": [
    "print('Number of rows missing in the original_title column :',len(movie_basics[movie_basics['original_title'].isna()]))\n",
    "print('Number of rows missing in the runtime_miutes column :',len(movie_basics[movie_basics['runtime_minutes'].isna()]))\n",
    "print('Number of rows missing in the genres column :',len(movie_basics[movie_basics['genres'].isna()]))\n"
   ]
  },
  {
   "cell_type": "markdown",
   "metadata": {},
   "source": [
    "> Since the missing data in the **'original_title' is < 1%**, I deleted the rows with missing data\n"
   ]
  },
  {
   "cell_type": "code",
   "execution_count": 8,
   "metadata": {},
   "outputs": [],
   "source": [
    "# using .dropna to remove rows with NaN values in the 'original_title' columns\n",
    "\n",
    "movie_basics.dropna(subset=['original_title'], inplace = True)"
   ]
  },
  {
   "cell_type": "code",
   "execution_count": 9,
   "metadata": {},
   "outputs": [
    {
     "name": "stdout",
     "output_type": "stream",
     "text": [
      "<class 'pandas.core.frame.DataFrame'>\n",
      "Int64Index: 146123 entries, 0 to 146143\n",
      "Data columns (total 6 columns):\n",
      " #   Column           Non-Null Count   Dtype  \n",
      "---  ------           --------------   -----  \n",
      " 0   movie_id         146123 non-null  object \n",
      " 1   primary_title    146123 non-null  object \n",
      " 2   original_title   146123 non-null  object \n",
      " 3   start_year       146123 non-null  int64  \n",
      " 4   runtime_minutes  114401 non-null  float64\n",
      " 5   genres           140734 non-null  object \n",
      "dtypes: float64(1), int64(1), object(4)\n",
      "memory usage: 7.8+ MB\n"
     ]
    }
   ],
   "source": [
    "# check to the see the if the numbers have changed\n",
    "\n",
    "movie_basics.info()\n",
    "\n",
    "# can see the number of rows have reduced from 146144 to 146123"
   ]
  },
  {
   "cell_type": "markdown",
   "metadata": {},
   "source": [
    "> Since we will not be examining the runtime_minutes for our analysis, we can remove the column from the dataset."
   ]
  },
  {
   "cell_type": "code",
   "execution_count": 10,
   "metadata": {},
   "outputs": [
    {
     "name": "stdout",
     "output_type": "stream",
     "text": [
      "<class 'pandas.core.frame.DataFrame'>\n",
      "Int64Index: 146123 entries, 0 to 146143\n",
      "Data columns (total 5 columns):\n",
      " #   Column          Non-Null Count   Dtype \n",
      "---  ------          --------------   ----- \n",
      " 0   movie_id        146123 non-null  object\n",
      " 1   primary_title   146123 non-null  object\n",
      " 2   original_title  146123 non-null  object\n",
      " 3   start_year      146123 non-null  int64 \n",
      " 4   genres          140734 non-null  object\n",
      "dtypes: int64(1), object(4)\n",
      "memory usage: 6.7+ MB\n"
     ]
    }
   ],
   "source": [
    "# deleting the runtime column\n",
    "\n",
    "movie_basics.drop('runtime_minutes', axis=1, inplace = True)\n",
    "movie_basics.info()"
   ]
  },
  {
   "cell_type": "markdown",
   "metadata": {},
   "source": [
    "> Next,examining the **genres** column:"
   ]
  },
  {
   "cell_type": "code",
   "execution_count": 11,
   "metadata": {},
   "outputs": [
    {
     "data": {
      "text/plain": [
       "False    140734\n",
       "True       5389\n",
       "Name: genres, dtype: int64"
      ]
     },
     "execution_count": 11,
     "metadata": {},
     "output_type": "execute_result"
    }
   ],
   "source": [
    "movie_basics['genres'].isna().value_counts()"
   ]
  },
  {
   "cell_type": "markdown",
   "metadata": {},
   "source": [
    "> It looks like genres column has **5389 missing values**. Checking the different values of the genres column"
   ]
  },
  {
   "cell_type": "code",
   "execution_count": 12,
   "metadata": {},
   "outputs": [
    {
     "data": {
      "text/plain": [
       "Documentary                    32185\n",
       "Drama                          21486\n",
       "Comedy                          9177\n",
       "Horror                          4372\n",
       "Comedy,Drama                    3519\n",
       "                               ...  \n",
       "Documentary,Mystery,War            1\n",
       "Biography,Comedy,Sci-Fi            1\n",
       "Documentary,Mystery,Romance        1\n",
       "Adult,Horror                       1\n",
       "History,Romance,Thriller           1\n",
       "Name: genres, Length: 1085, dtype: int64"
      ]
     },
     "execution_count": 12,
     "metadata": {},
     "output_type": "execute_result"
    }
   ],
   "source": [
    "movie_basics['genres'].value_counts()"
   ]
  },
  {
   "cell_type": "markdown",
   "metadata": {},
   "source": [
    "> We can see that the values are varied(1085). Also, **some movies are classified under 2-3 genres** making it difficult to predict what the missing genres might be. \n",
    "\n",
    "> Since the amount of missing data for the genres is also quite large i.e 5389 rows, filling in missing values with guesswork can skew the analysis in any number of ways. So the best way would be to just classify the data as **'missing'**"
   ]
  },
  {
   "cell_type": "code",
   "execution_count": 49,
   "metadata": {},
   "outputs": [],
   "source": [
    "# filling the missing data with 'missing'\n",
    "movie_basics['genres'].fillna('missing',inplace = True)"
   ]
  },
  {
   "cell_type": "code",
   "execution_count": 14,
   "metadata": {},
   "outputs": [
    {
     "name": "stdout",
     "output_type": "stream",
     "text": [
      "<class 'pandas.core.frame.DataFrame'>\n",
      "Int64Index: 146123 entries, 0 to 146143\n",
      "Data columns (total 5 columns):\n",
      " #   Column          Non-Null Count   Dtype \n",
      "---  ------          --------------   ----- \n",
      " 0   movie_id        146123 non-null  object\n",
      " 1   primary_title   146123 non-null  object\n",
      " 2   original_title  146123 non-null  object\n",
      " 3   start_year      146123 non-null  int64 \n",
      " 4   genres          146123 non-null  object\n",
      "dtypes: int64(1), object(4)\n",
      "memory usage: 6.7+ MB\n"
     ]
    }
   ],
   "source": [
    "movie_basics.info()"
   ]
  },
  {
   "cell_type": "markdown",
   "metadata": {},
   "source": [
    "> The **movie_basics** table has now **no missing values**"
   ]
  },
  {
   "cell_type": "markdown",
   "metadata": {},
   "source": [
    "> Next, since the **bom.movie_gross.csv** table has the gross amounts for each movie, I created a new df titled **movie_gross** to use in my analysis"
   ]
  },
  {
   "cell_type": "code",
   "execution_count": 15,
   "metadata": {
    "scrolled": true
   },
   "outputs": [
    {
     "data": {
      "text/html": [
       "<div>\n",
       "<style scoped>\n",
       "    .dataframe tbody tr th:only-of-type {\n",
       "        vertical-align: middle;\n",
       "    }\n",
       "\n",
       "    .dataframe tbody tr th {\n",
       "        vertical-align: top;\n",
       "    }\n",
       "\n",
       "    .dataframe thead th {\n",
       "        text-align: right;\n",
       "    }\n",
       "</style>\n",
       "<table border=\"1\" class=\"dataframe\">\n",
       "  <thead>\n",
       "    <tr style=\"text-align: right;\">\n",
       "      <th></th>\n",
       "      <th>title</th>\n",
       "      <th>studio</th>\n",
       "      <th>domestic_gross</th>\n",
       "      <th>foreign_gross</th>\n",
       "      <th>year</th>\n",
       "    </tr>\n",
       "  </thead>\n",
       "  <tbody>\n",
       "    <tr>\n",
       "      <th>0</th>\n",
       "      <td>Toy Story 3</td>\n",
       "      <td>BV</td>\n",
       "      <td>415000000.0</td>\n",
       "      <td>652000000</td>\n",
       "      <td>2010</td>\n",
       "    </tr>\n",
       "    <tr>\n",
       "      <th>1</th>\n",
       "      <td>Alice in Wonderland (2010)</td>\n",
       "      <td>BV</td>\n",
       "      <td>334200000.0</td>\n",
       "      <td>691300000</td>\n",
       "      <td>2010</td>\n",
       "    </tr>\n",
       "    <tr>\n",
       "      <th>2</th>\n",
       "      <td>Harry Potter and the Deathly Hallows Part 1</td>\n",
       "      <td>WB</td>\n",
       "      <td>296000000.0</td>\n",
       "      <td>664300000</td>\n",
       "      <td>2010</td>\n",
       "    </tr>\n",
       "    <tr>\n",
       "      <th>3</th>\n",
       "      <td>Inception</td>\n",
       "      <td>WB</td>\n",
       "      <td>292600000.0</td>\n",
       "      <td>535700000</td>\n",
       "      <td>2010</td>\n",
       "    </tr>\n",
       "    <tr>\n",
       "      <th>4</th>\n",
       "      <td>Shrek Forever After</td>\n",
       "      <td>P/DW</td>\n",
       "      <td>238700000.0</td>\n",
       "      <td>513900000</td>\n",
       "      <td>2010</td>\n",
       "    </tr>\n",
       "  </tbody>\n",
       "</table>\n",
       "</div>"
      ],
      "text/plain": [
       "                                         title studio  domestic_gross  \\\n",
       "0                                  Toy Story 3     BV     415000000.0   \n",
       "1                   Alice in Wonderland (2010)     BV     334200000.0   \n",
       "2  Harry Potter and the Deathly Hallows Part 1     WB     296000000.0   \n",
       "3                                    Inception     WB     292600000.0   \n",
       "4                          Shrek Forever After   P/DW     238700000.0   \n",
       "\n",
       "  foreign_gross  year  \n",
       "0     652000000  2010  \n",
       "1     691300000  2010  \n",
       "2     664300000  2010  \n",
       "3     535700000  2010  \n",
       "4     513900000  2010  "
      ]
     },
     "execution_count": 15,
     "metadata": {},
     "output_type": "execute_result"
    }
   ],
   "source": [
    "# converting the movie_gross table into a dataframe\n",
    "movie_gross = pd.DataFrame(pd.read_csv('bom.movie_gross.csv'))\n",
    "movie_gross.head()"
   ]
  },
  {
   "cell_type": "markdown",
   "metadata": {},
   "source": [
    "## Creating a new dataframe for analysis - movie_gross"
   ]
  },
  {
   "cell_type": "markdown",
   "metadata": {},
   "source": [
    ">  **combining movie_basics and the movie_gross tables** to get information on how much money each movie has made:"
   ]
  },
  {
   "cell_type": "code",
   "execution_count": 16,
   "metadata": {},
   "outputs": [
    {
     "data": {
      "text/html": [
       "<div>\n",
       "<style scoped>\n",
       "    .dataframe tbody tr th:only-of-type {\n",
       "        vertical-align: middle;\n",
       "    }\n",
       "\n",
       "    .dataframe tbody tr th {\n",
       "        vertical-align: top;\n",
       "    }\n",
       "\n",
       "    .dataframe thead th {\n",
       "        text-align: right;\n",
       "    }\n",
       "</style>\n",
       "<table border=\"1\" class=\"dataframe\">\n",
       "  <thead>\n",
       "    <tr style=\"text-align: right;\">\n",
       "      <th></th>\n",
       "      <th>movie_id</th>\n",
       "      <th>primary_title</th>\n",
       "      <th>original_title</th>\n",
       "      <th>start_year</th>\n",
       "      <th>genres</th>\n",
       "      <th>title</th>\n",
       "      <th>studio</th>\n",
       "      <th>domestic_gross</th>\n",
       "      <th>foreign_gross</th>\n",
       "      <th>year</th>\n",
       "    </tr>\n",
       "  </thead>\n",
       "  <tbody>\n",
       "    <tr>\n",
       "      <th>0</th>\n",
       "      <td>tt0315642</td>\n",
       "      <td>Wazir</td>\n",
       "      <td>Wazir</td>\n",
       "      <td>2016</td>\n",
       "      <td>Action,Crime,Drama</td>\n",
       "      <td>Wazir</td>\n",
       "      <td>Relbig.</td>\n",
       "      <td>1100000.0</td>\n",
       "      <td>NaN</td>\n",
       "      <td>2016</td>\n",
       "    </tr>\n",
       "    <tr>\n",
       "      <th>1</th>\n",
       "      <td>tt0337692</td>\n",
       "      <td>On the Road</td>\n",
       "      <td>On the Road</td>\n",
       "      <td>2012</td>\n",
       "      <td>Adventure,Drama,Romance</td>\n",
       "      <td>On the Road</td>\n",
       "      <td>IFC</td>\n",
       "      <td>744000.0</td>\n",
       "      <td>8000000</td>\n",
       "      <td>2012</td>\n",
       "    </tr>\n",
       "    <tr>\n",
       "      <th>2</th>\n",
       "      <td>tt2404548</td>\n",
       "      <td>On the Road</td>\n",
       "      <td>On the Road</td>\n",
       "      <td>2011</td>\n",
       "      <td>Drama</td>\n",
       "      <td>On the Road</td>\n",
       "      <td>IFC</td>\n",
       "      <td>744000.0</td>\n",
       "      <td>8000000</td>\n",
       "      <td>2012</td>\n",
       "    </tr>\n",
       "    <tr>\n",
       "      <th>3</th>\n",
       "      <td>tt3872966</td>\n",
       "      <td>On the Road</td>\n",
       "      <td>On the Road</td>\n",
       "      <td>2013</td>\n",
       "      <td>Documentary</td>\n",
       "      <td>On the Road</td>\n",
       "      <td>IFC</td>\n",
       "      <td>744000.0</td>\n",
       "      <td>8000000</td>\n",
       "      <td>2012</td>\n",
       "    </tr>\n",
       "    <tr>\n",
       "      <th>4</th>\n",
       "      <td>tt4339118</td>\n",
       "      <td>On the Road</td>\n",
       "      <td>On the Road</td>\n",
       "      <td>2014</td>\n",
       "      <td>Drama</td>\n",
       "      <td>On the Road</td>\n",
       "      <td>IFC</td>\n",
       "      <td>744000.0</td>\n",
       "      <td>8000000</td>\n",
       "      <td>2012</td>\n",
       "    </tr>\n",
       "  </tbody>\n",
       "</table>\n",
       "</div>"
      ],
      "text/plain": [
       "    movie_id primary_title original_title  start_year  \\\n",
       "0  tt0315642         Wazir          Wazir        2016   \n",
       "1  tt0337692   On the Road    On the Road        2012   \n",
       "2  tt2404548   On the Road    On the Road        2011   \n",
       "3  tt3872966   On the Road    On the Road        2013   \n",
       "4  tt4339118   On the Road    On the Road        2014   \n",
       "\n",
       "                    genres        title   studio  domestic_gross  \\\n",
       "0       Action,Crime,Drama        Wazir  Relbig.       1100000.0   \n",
       "1  Adventure,Drama,Romance  On the Road      IFC        744000.0   \n",
       "2                    Drama  On the Road      IFC        744000.0   \n",
       "3              Documentary  On the Road      IFC        744000.0   \n",
       "4                    Drama  On the Road      IFC        744000.0   \n",
       "\n",
       "  foreign_gross  year  \n",
       "0           NaN  2016  \n",
       "1       8000000  2012  \n",
       "2       8000000  2012  \n",
       "3       8000000  2012  \n",
       "4       8000000  2012  "
      ]
     },
     "execution_count": 16,
     "metadata": {},
     "output_type": "execute_result"
    }
   ],
   "source": [
    "# using the merge method to combine the movie_basics and the movie_gross df's\n",
    "# using the inner merge will give us only movie_titles that have gross amounts listed.\n",
    "# any other merge method will result in a lot of redundant data\n",
    "\n",
    "movie_gross_df = movie_basics.merge(movie_gross, how = 'inner', left_on = 'primary_title', right_on = 'title')\n",
    "movie_gross_df.head()"
   ]
  },
  {
   "cell_type": "markdown",
   "metadata": {},
   "source": [
    "> To look at **total_gross**, need to sum **domestic_gross** and **foreign_gross**. Since, foreign_gross is listed as an **object data type**, I had to convert it into **float64** to be able to compute the sum"
   ]
  },
  {
   "cell_type": "code",
   "execution_count": 18,
   "metadata": {},
   "outputs": [],
   "source": [
    "# removing the ',' from the string\n",
    "movie_gross_df['foreign_gross'] = movie_gross_df['foreign_gross'].str.replace(',','') \n",
    "\n",
    "# converting 'foreign_gross' to float datatype\n",
    "movie_gross_df['foreign_gross'] = movie_gross_df['foreign_gross'].astype('float64')\n"
   ]
  },
  {
   "cell_type": "code",
   "execution_count": 19,
   "metadata": {},
   "outputs": [
    {
     "name": "stdout",
     "output_type": "stream",
     "text": [
      "<class 'pandas.core.frame.DataFrame'>\n",
      "Int64Index: 3366 entries, 0 to 3365\n",
      "Data columns (total 10 columns):\n",
      " #   Column          Non-Null Count  Dtype  \n",
      "---  ------          --------------  -----  \n",
      " 0   movie_id        3366 non-null   object \n",
      " 1   primary_title   3366 non-null   object \n",
      " 2   original_title  3366 non-null   object \n",
      " 3   start_year      3366 non-null   int64  \n",
      " 4   genres          3366 non-null   object \n",
      " 5   title           3366 non-null   object \n",
      " 6   studio          3363 non-null   object \n",
      " 7   domestic_gross  3342 non-null   float64\n",
      " 8   foreign_gross   2043 non-null   float64\n",
      " 9   year            3366 non-null   int64  \n",
      "dtypes: float64(2), int64(2), object(6)\n",
      "memory usage: 289.3+ KB\n"
     ]
    }
   ],
   "source": [
    "movie_gross_df.info()"
   ]
  },
  {
   "cell_type": "markdown",
   "metadata": {},
   "source": [
    "## Filling in missing data - movie_gross"
   ]
  },
  {
   "cell_type": "code",
   "execution_count": 20,
   "metadata": {},
   "outputs": [
    {
     "name": "stdout",
     "output_type": "stream",
     "text": [
      "False    3342\n",
      "True       24\n",
      "Name: domestic_gross, dtype: int64\n",
      "False    2043\n",
      "True     1323\n",
      "Name: foreign_gross, dtype: int64\n"
     ]
    }
   ],
   "source": [
    "print(movie_gross_df['domestic_gross'].isna().value_counts())\n",
    "print(movie_gross_df['foreign_gross'].isna().value_counts())"
   ]
  },
  {
   "cell_type": "markdown",
   "metadata": {},
   "source": [
    "> Getting some stats of the domestic_gross column to see if I can **impute values**:"
   ]
  },
  {
   "cell_type": "code",
   "execution_count": 21,
   "metadata": {},
   "outputs": [],
   "source": [
    "# create a function to compute the stats\n",
    "# just the pass the series name as an argument into the function\n",
    "\n",
    "def stats(column):\n",
    "    \n",
    "    mean_value = round(column.mean())\n",
    "    median_value = round(column.median())\n",
    "    std_dev = round(column.std())\n",
    "    \n",
    "    return mean_value, median_value,std_dev       "
   ]
  },
  {
   "cell_type": "code",
   "execution_count": 22,
   "metadata": {},
   "outputs": [
    {
     "data": {
      "text/plain": [
       "(29865597.0, 1950000.0, 65323288.0)"
      ]
     },
     "execution_count": 22,
     "metadata": {},
     "output_type": "execute_result"
    }
   ],
   "source": [
    "stat_values = stats(movie_gross_df['domestic_gross'])\n",
    "stat_values"
   ]
  },
  {
   "cell_type": "markdown",
   "metadata": {},
   "source": [
    "> I imputed **median value** for the missing data in the **domestic_gross** column and re-computed the stats to see if there was any discernible change"
   ]
  },
  {
   "cell_type": "code",
   "execution_count": 23,
   "metadata": {},
   "outputs": [],
   "source": [
    "# Imputing the median value\n",
    "movie_gross_df['domestic_gross'] = movie_gross_df['domestic_gross'].fillna(stat_values[1])"
   ]
  },
  {
   "cell_type": "code",
   "execution_count": 24,
   "metadata": {},
   "outputs": [
    {
     "name": "stdout",
     "output_type": "stream",
     "text": [
      "<class 'pandas.core.frame.DataFrame'>\n",
      "Int64Index: 3366 entries, 0 to 3365\n",
      "Data columns (total 10 columns):\n",
      " #   Column          Non-Null Count  Dtype  \n",
      "---  ------          --------------  -----  \n",
      " 0   movie_id        3366 non-null   object \n",
      " 1   primary_title   3366 non-null   object \n",
      " 2   original_title  3366 non-null   object \n",
      " 3   start_year      3366 non-null   int64  \n",
      " 4   genres          3366 non-null   object \n",
      " 5   title           3366 non-null   object \n",
      " 6   studio          3363 non-null   object \n",
      " 7   domestic_gross  3366 non-null   float64\n",
      " 8   foreign_gross   2043 non-null   float64\n",
      " 9   year            3366 non-null   int64  \n",
      "dtypes: float64(2), int64(2), object(6)\n",
      "memory usage: 289.3+ KB\n"
     ]
    }
   ],
   "source": [
    "# checking to see if any missing data \n",
    "movie_gross_df.info()"
   ]
  },
  {
   "cell_type": "markdown",
   "metadata": {},
   "source": [
    "> We can see that the domestic_gross has no more null values"
   ]
  },
  {
   "cell_type": "code",
   "execution_count": 25,
   "metadata": {},
   "outputs": [
    {
     "data": {
      "text/plain": [
       "(29666555.0, 1950000.0, 65132297.0)"
      ]
     },
     "execution_count": 25,
     "metadata": {},
     "output_type": "execute_result"
    }
   ],
   "source": [
    "# re-computing the stats\n",
    "new_stat_values = stats(movie_gross_df['domestic_gross'])\n",
    "new_stat_values"
   ]
  },
  {
   "cell_type": "code",
   "execution_count": 26,
   "metadata": {},
   "outputs": [
    {
     "name": "stdout",
     "output_type": "stream",
     "text": [
      "-0.6664591369126155  0.0  -0.2923781178926572\n"
     ]
    }
   ],
   "source": [
    "# Calculating percentage change:\n",
    "\n",
    "mean_change = ((new_stat_values[0]-stat_values[0])/stat_values[0]) * 100\n",
    "median_change = ((new_stat_values[1]-stat_values[1])/stat_values[1]) * 100\n",
    "std_dev_change = ((new_stat_values[2]-stat_values[2])/stat_values[2]) * 100\n",
    "\n",
    "print(mean_change, \"\", median_change, \"\", std_dev_change)"
   ]
  },
  {
   "cell_type": "markdown",
   "metadata": {},
   "source": [
    "> Since there is **less than 1% change** by imputing the median value, I decided to keep this \n",
    "  Next, looking at the foreign gross column"
   ]
  },
  {
   "cell_type": "code",
   "execution_count": 27,
   "metadata": {},
   "outputs": [
    {
     "data": {
      "text/plain": [
       "False    2043\n",
       "True     1323\n",
       "Name: foreign_gross, dtype: int64"
      ]
     },
     "execution_count": 27,
     "metadata": {},
     "output_type": "execute_result"
    }
   ],
   "source": [
    "movie_gross_df['foreign_gross'].isna().value_counts()"
   ]
  },
  {
   "cell_type": "markdown",
   "metadata": {},
   "source": [
    "> Since there are **1323 empty values**, I need to calcuate the stats of the foreign_gross column to see what values I can use to impute."
   ]
  },
  {
   "cell_type": "code",
   "execution_count": 28,
   "metadata": {},
   "outputs": [
    {
     "data": {
      "text/plain": [
       "(74551466.0, 19600000.0, 134783459.0)"
      ]
     },
     "execution_count": 28,
     "metadata": {},
     "output_type": "execute_result"
    }
   ],
   "source": [
    "# compute the stats using the stats function defined earlier\n",
    "fd_stats = stats(movie_gross_df['foreign_gross'])\n",
    "fd_stats"
   ]
  },
  {
   "cell_type": "markdown",
   "metadata": {},
   "source": [
    "> Note about the data : the stats for the foreign gross cannot be considered to be wholly accurate due to large volume of missing data ( ~ 40%). But, this is what I have to work with. I can always exclude the foreign_gross column later, if need be."
   ]
  },
  {
   "cell_type": "code",
   "execution_count": 29,
   "metadata": {},
   "outputs": [],
   "source": [
    "#imputing the median value\n",
    "movie_gross_df['foreign_gross'] = movie_gross_df['foreign_gross'].fillna(fd_stats[1])"
   ]
  },
  {
   "cell_type": "code",
   "execution_count": 30,
   "metadata": {},
   "outputs": [
    {
     "name": "stdout",
     "output_type": "stream",
     "text": [
      "<class 'pandas.core.frame.DataFrame'>\n",
      "Int64Index: 3366 entries, 0 to 3365\n",
      "Data columns (total 10 columns):\n",
      " #   Column          Non-Null Count  Dtype  \n",
      "---  ------          --------------  -----  \n",
      " 0   movie_id        3366 non-null   object \n",
      " 1   primary_title   3366 non-null   object \n",
      " 2   original_title  3366 non-null   object \n",
      " 3   start_year      3366 non-null   int64  \n",
      " 4   genres          3366 non-null   object \n",
      " 5   title           3366 non-null   object \n",
      " 6   studio          3363 non-null   object \n",
      " 7   domestic_gross  3366 non-null   float64\n",
      " 8   foreign_gross   3366 non-null   float64\n",
      " 9   year            3366 non-null   int64  \n",
      "dtypes: float64(2), int64(2), object(6)\n",
      "memory usage: 289.3+ KB\n"
     ]
    }
   ],
   "source": [
    "# check the table\n",
    "movie_gross_df.info()"
   ]
  },
  {
   "cell_type": "markdown",
   "metadata": {},
   "source": [
    "> Adding a new column: **total_gross** to see how much each movie grossed totally: domestic + overseas"
   ]
  },
  {
   "cell_type": "code",
   "execution_count": 31,
   "metadata": {},
   "outputs": [],
   "source": [
    "movie_gross_df['total_gross'] = movie_gross_df['domestic_gross'] + movie_gross_df['foreign_gross']"
   ]
  },
  {
   "cell_type": "code",
   "execution_count": 32,
   "metadata": {
    "scrolled": false
   },
   "outputs": [
    {
     "data": {
      "text/html": [
       "<div>\n",
       "<style scoped>\n",
       "    .dataframe tbody tr th:only-of-type {\n",
       "        vertical-align: middle;\n",
       "    }\n",
       "\n",
       "    .dataframe tbody tr th {\n",
       "        vertical-align: top;\n",
       "    }\n",
       "\n",
       "    .dataframe thead th {\n",
       "        text-align: right;\n",
       "    }\n",
       "</style>\n",
       "<table border=\"1\" class=\"dataframe\">\n",
       "  <thead>\n",
       "    <tr style=\"text-align: right;\">\n",
       "      <th></th>\n",
       "      <th>movie_id</th>\n",
       "      <th>primary_title</th>\n",
       "      <th>original_title</th>\n",
       "      <th>start_year</th>\n",
       "      <th>genres</th>\n",
       "      <th>title</th>\n",
       "      <th>studio</th>\n",
       "      <th>domestic_gross</th>\n",
       "      <th>foreign_gross</th>\n",
       "      <th>year</th>\n",
       "      <th>total_gross</th>\n",
       "    </tr>\n",
       "  </thead>\n",
       "  <tbody>\n",
       "    <tr>\n",
       "      <th>0</th>\n",
       "      <td>tt0315642</td>\n",
       "      <td>Wazir</td>\n",
       "      <td>Wazir</td>\n",
       "      <td>2016</td>\n",
       "      <td>Action,Crime,Drama</td>\n",
       "      <td>Wazir</td>\n",
       "      <td>Relbig.</td>\n",
       "      <td>1100000.0</td>\n",
       "      <td>19600000.0</td>\n",
       "      <td>2016</td>\n",
       "      <td>20700000.0</td>\n",
       "    </tr>\n",
       "    <tr>\n",
       "      <th>1</th>\n",
       "      <td>tt0337692</td>\n",
       "      <td>On the Road</td>\n",
       "      <td>On the Road</td>\n",
       "      <td>2012</td>\n",
       "      <td>Adventure,Drama,Romance</td>\n",
       "      <td>On the Road</td>\n",
       "      <td>IFC</td>\n",
       "      <td>744000.0</td>\n",
       "      <td>8000000.0</td>\n",
       "      <td>2012</td>\n",
       "      <td>8744000.0</td>\n",
       "    </tr>\n",
       "    <tr>\n",
       "      <th>2</th>\n",
       "      <td>tt2404548</td>\n",
       "      <td>On the Road</td>\n",
       "      <td>On the Road</td>\n",
       "      <td>2011</td>\n",
       "      <td>Drama</td>\n",
       "      <td>On the Road</td>\n",
       "      <td>IFC</td>\n",
       "      <td>744000.0</td>\n",
       "      <td>8000000.0</td>\n",
       "      <td>2012</td>\n",
       "      <td>8744000.0</td>\n",
       "    </tr>\n",
       "    <tr>\n",
       "      <th>3</th>\n",
       "      <td>tt3872966</td>\n",
       "      <td>On the Road</td>\n",
       "      <td>On the Road</td>\n",
       "      <td>2013</td>\n",
       "      <td>Documentary</td>\n",
       "      <td>On the Road</td>\n",
       "      <td>IFC</td>\n",
       "      <td>744000.0</td>\n",
       "      <td>8000000.0</td>\n",
       "      <td>2012</td>\n",
       "      <td>8744000.0</td>\n",
       "    </tr>\n",
       "    <tr>\n",
       "      <th>4</th>\n",
       "      <td>tt4339118</td>\n",
       "      <td>On the Road</td>\n",
       "      <td>On the Road</td>\n",
       "      <td>2014</td>\n",
       "      <td>Drama</td>\n",
       "      <td>On the Road</td>\n",
       "      <td>IFC</td>\n",
       "      <td>744000.0</td>\n",
       "      <td>8000000.0</td>\n",
       "      <td>2012</td>\n",
       "      <td>8744000.0</td>\n",
       "    </tr>\n",
       "  </tbody>\n",
       "</table>\n",
       "</div>"
      ],
      "text/plain": [
       "    movie_id primary_title original_title  start_year  \\\n",
       "0  tt0315642         Wazir          Wazir        2016   \n",
       "1  tt0337692   On the Road    On the Road        2012   \n",
       "2  tt2404548   On the Road    On the Road        2011   \n",
       "3  tt3872966   On the Road    On the Road        2013   \n",
       "4  tt4339118   On the Road    On the Road        2014   \n",
       "\n",
       "                    genres        title   studio  domestic_gross  \\\n",
       "0       Action,Crime,Drama        Wazir  Relbig.       1100000.0   \n",
       "1  Adventure,Drama,Romance  On the Road      IFC        744000.0   \n",
       "2                    Drama  On the Road      IFC        744000.0   \n",
       "3              Documentary  On the Road      IFC        744000.0   \n",
       "4                    Drama  On the Road      IFC        744000.0   \n",
       "\n",
       "   foreign_gross  year  total_gross  \n",
       "0     19600000.0  2016   20700000.0  \n",
       "1      8000000.0  2012    8744000.0  \n",
       "2      8000000.0  2012    8744000.0  \n",
       "3      8000000.0  2012    8744000.0  \n",
       "4      8000000.0  2012    8744000.0  "
      ]
     },
     "execution_count": 32,
     "metadata": {},
     "output_type": "execute_result"
    }
   ],
   "source": [
    "# check to see if the total_gross column is created\n",
    "movie_gross_df.head()"
   ]
  },
  {
   "cell_type": "markdown",
   "metadata": {},
   "source": [
    "## Question 1"
   ]
  },
  {
   "cell_type": "markdown",
   "metadata": {},
   "source": [
    "> #### Grouping by genres and plotting against total_gross to see how much each genre has grossed"
   ]
  },
  {
   "cell_type": "code",
   "execution_count": 33,
   "metadata": {},
   "outputs": [
    {
     "data": {
      "text/html": [
       "<div>\n",
       "<style scoped>\n",
       "    .dataframe tbody tr th:only-of-type {\n",
       "        vertical-align: middle;\n",
       "    }\n",
       "\n",
       "    .dataframe tbody tr th {\n",
       "        vertical-align: top;\n",
       "    }\n",
       "\n",
       "    .dataframe thead th {\n",
       "        text-align: right;\n",
       "    }\n",
       "</style>\n",
       "<table border=\"1\" class=\"dataframe\">\n",
       "  <thead>\n",
       "    <tr style=\"text-align: right;\">\n",
       "      <th></th>\n",
       "      <th>genres</th>\n",
       "      <th>start_year</th>\n",
       "      <th>domestic_gross</th>\n",
       "      <th>foreign_gross</th>\n",
       "      <th>year</th>\n",
       "      <th>total_gross</th>\n",
       "    </tr>\n",
       "  </thead>\n",
       "  <tbody>\n",
       "    <tr>\n",
       "      <th>0</th>\n",
       "      <td>Action</td>\n",
       "      <td>44303</td>\n",
       "      <td>3.477635e+08</td>\n",
       "      <td>9.252000e+08</td>\n",
       "      <td>44318</td>\n",
       "      <td>1.272963e+09</td>\n",
       "    </tr>\n",
       "    <tr>\n",
       "      <th>1</th>\n",
       "      <td>Action,Adventure</td>\n",
       "      <td>12076</td>\n",
       "      <td>3.245000e+05</td>\n",
       "      <td>8.244700e+07</td>\n",
       "      <td>12080</td>\n",
       "      <td>8.277150e+07</td>\n",
       "    </tr>\n",
       "    <tr>\n",
       "      <th>2</th>\n",
       "      <td>Action,Adventure,Animation</td>\n",
       "      <td>44311</td>\n",
       "      <td>2.184660e+09</td>\n",
       "      <td>4.367500e+09</td>\n",
       "      <td>44318</td>\n",
       "      <td>6.552160e+09</td>\n",
       "    </tr>\n",
       "    <tr>\n",
       "      <th>3</th>\n",
       "      <td>Action,Adventure,Biography</td>\n",
       "      <td>8062</td>\n",
       "      <td>2.402290e+08</td>\n",
       "      <td>5.881000e+08</td>\n",
       "      <td>8063</td>\n",
       "      <td>8.283290e+08</td>\n",
       "    </tr>\n",
       "    <tr>\n",
       "      <th>4</th>\n",
       "      <td>Action,Adventure,Comedy</td>\n",
       "      <td>64493</td>\n",
       "      <td>3.172472e+09</td>\n",
       "      <td>6.631400e+09</td>\n",
       "      <td>64499</td>\n",
       "      <td>9.803872e+09</td>\n",
       "    </tr>\n",
       "  </tbody>\n",
       "</table>\n",
       "</div>"
      ],
      "text/plain": [
       "                       genres  start_year  domestic_gross  foreign_gross  \\\n",
       "0                      Action       44303    3.477635e+08   9.252000e+08   \n",
       "1            Action,Adventure       12076    3.245000e+05   8.244700e+07   \n",
       "2  Action,Adventure,Animation       44311    2.184660e+09   4.367500e+09   \n",
       "3  Action,Adventure,Biography        8062    2.402290e+08   5.881000e+08   \n",
       "4     Action,Adventure,Comedy       64493    3.172472e+09   6.631400e+09   \n",
       "\n",
       "    year   total_gross  \n",
       "0  44318  1.272963e+09  \n",
       "1  12080  8.277150e+07  \n",
       "2  44318  6.552160e+09  \n",
       "3   8063  8.283290e+08  \n",
       "4  64499  9.803872e+09  "
      ]
     },
     "execution_count": 33,
     "metadata": {},
     "output_type": "execute_result"
    }
   ],
   "source": [
    "# creating a new df and using groupby to get total_gross by genres type\n",
    "df_genres = movie_gross_df.groupby(['genres']).sum()\n",
    "df_genres.reset_index(inplace = True)\n",
    "df_genres.head()"
   ]
  },
  {
   "cell_type": "code",
   "execution_count": 34,
   "metadata": {
    "scrolled": true
   },
   "outputs": [
    {
     "data": {
      "text/html": [
       "<div>\n",
       "<style scoped>\n",
       "    .dataframe tbody tr th:only-of-type {\n",
       "        vertical-align: middle;\n",
       "    }\n",
       "\n",
       "    .dataframe tbody tr th {\n",
       "        vertical-align: top;\n",
       "    }\n",
       "\n",
       "    .dataframe thead th {\n",
       "        text-align: right;\n",
       "    }\n",
       "</style>\n",
       "<table border=\"1\" class=\"dataframe\">\n",
       "  <thead>\n",
       "    <tr style=\"text-align: right;\">\n",
       "      <th></th>\n",
       "      <th>genres</th>\n",
       "      <th>start_year</th>\n",
       "      <th>domestic_gross</th>\n",
       "      <th>foreign_gross</th>\n",
       "      <th>year</th>\n",
       "      <th>total_gross</th>\n",
       "    </tr>\n",
       "  </thead>\n",
       "  <tbody>\n",
       "    <tr>\n",
       "      <th>0</th>\n",
       "      <td>Adventure,Animation,Comedy</td>\n",
       "      <td>151065</td>\n",
       "      <td>9.645133e+09</td>\n",
       "      <td>1.802100e+10</td>\n",
       "      <td>151076</td>\n",
       "      <td>2.766613e+10</td>\n",
       "    </tr>\n",
       "    <tr>\n",
       "      <th>1</th>\n",
       "      <td>Action,Adventure,Sci-Fi</td>\n",
       "      <td>94658</td>\n",
       "      <td>1.102470e+10</td>\n",
       "      <td>1.663100e+10</td>\n",
       "      <td>94662</td>\n",
       "      <td>2.765570e+10</td>\n",
       "    </tr>\n",
       "    <tr>\n",
       "      <th>2</th>\n",
       "      <td>Drama</td>\n",
       "      <td>789516</td>\n",
       "      <td>4.611663e+09</td>\n",
       "      <td>9.435122e+09</td>\n",
       "      <td>789549</td>\n",
       "      <td>1.404679e+10</td>\n",
       "    </tr>\n",
       "    <tr>\n",
       "      <th>3</th>\n",
       "      <td>Action,Adventure,Fantasy</td>\n",
       "      <td>62467</td>\n",
       "      <td>4.378787e+09</td>\n",
       "      <td>8.936100e+09</td>\n",
       "      <td>62470</td>\n",
       "      <td>1.331489e+10</td>\n",
       "    </tr>\n",
       "    <tr>\n",
       "      <th>4</th>\n",
       "      <td>Action,Adventure,Comedy</td>\n",
       "      <td>64493</td>\n",
       "      <td>3.172472e+09</td>\n",
       "      <td>6.631400e+09</td>\n",
       "      <td>64499</td>\n",
       "      <td>9.803872e+09</td>\n",
       "    </tr>\n",
       "  </tbody>\n",
       "</table>\n",
       "</div>"
      ],
      "text/plain": [
       "                       genres  start_year  domestic_gross  foreign_gross  \\\n",
       "0  Adventure,Animation,Comedy      151065    9.645133e+09   1.802100e+10   \n",
       "1     Action,Adventure,Sci-Fi       94658    1.102470e+10   1.663100e+10   \n",
       "2                       Drama      789516    4.611663e+09   9.435122e+09   \n",
       "3    Action,Adventure,Fantasy       62467    4.378787e+09   8.936100e+09   \n",
       "4     Action,Adventure,Comedy       64493    3.172472e+09   6.631400e+09   \n",
       "\n",
       "     year   total_gross  \n",
       "0  151076  2.766613e+10  \n",
       "1   94662  2.765570e+10  \n",
       "2  789549  1.404679e+10  \n",
       "3   62470  1.331489e+10  \n",
       "4   64499  9.803872e+09  "
      ]
     },
     "execution_count": 34,
     "metadata": {},
     "output_type": "execute_result"
    }
   ],
   "source": [
    "# sorting the total_gross column in descending order to get the highest grossing genres\n",
    "df_genres.sort_values(by=['total_gross'], ascending = False, inplace = True, ignore_index=True)\n",
    "df_genres.head()"
   ]
  },
  {
   "cell_type": "code",
   "execution_count": 50,
   "metadata": {},
   "outputs": [
    {
     "data": {
      "image/png": "[encoded data removed]",
      "text/plain": [
       "<Figure size 1440x1800 with 1 Axes>"
      ]
     },
     "metadata": {
      "needs_background": "light"
     },
     "output_type": "display_data"
    }
   ],
   "source": [
    "# creating a plot to look at the top 10 genres that have grossed the most\n",
    "\n",
    "def billions_formatter(x,pos):\n",
    "    return  f'{x/1000000000}'\n",
    "\n",
    "fig,ax = plt.subplots(figsize = (20,25))\n",
    "\n",
    "ax.bar(x=df_genres.loc[0:10, 'genres'], height=df_genres.loc[0:10, 'total_gross'], width=0.8) # specifying only the first 10 rows\n",
    "ax.tick_params(axis = 'x', labelsize = 12, labelrotation = 80) # formatting the x axis labels\n",
    "ax.ticklabel_format(axis = 'y', style = 'plain') # supressing scientific notation on the Y-axis\n",
    "# ax.yaxis.set_major_formatter('${x:1.2f}')\n",
    "ax.yaxis.set_major_formatter(FuncFormatter(billions_formatter))\n",
    "ax.set_title('Top 10 Genres by Gross Amounts', fontdict = {'fontsize' : 25, 'color' :'blue'})\n",
    "ax.set_xlabel('Genres', fontdict = {'fontsize' : 25, 'color' :'blue'})\n",
    "ax.set_ylabel('Total Gross (values in $ billions)', fontdict = {'fontsize' : 25, 'color' :'blue'})\n",
    "\n",
    "plt.show()"
   ]
  },
  {
   "cell_type": "markdown",
   "metadata": {},
   "source": [
    "## Question 2"
   ]
  },
  {
   "cell_type": "code",
   "execution_count": 37,
   "metadata": {},
   "outputs": [
    {
     "data": {
      "text/html": [
       "<div>\n",
       "<style scoped>\n",
       "    .dataframe tbody tr th:only-of-type {\n",
       "        vertical-align: middle;\n",
       "    }\n",
       "\n",
       "    .dataframe tbody tr th {\n",
       "        vertical-align: top;\n",
       "    }\n",
       "\n",
       "    .dataframe thead th {\n",
       "        text-align: right;\n",
       "    }\n",
       "</style>\n",
       "<table border=\"1\" class=\"dataframe\">\n",
       "  <thead>\n",
       "    <tr style=\"text-align: right;\">\n",
       "      <th></th>\n",
       "      <th>movie_id</th>\n",
       "      <th>ordering</th>\n",
       "      <th>title</th>\n",
       "      <th>region</th>\n",
       "      <th>language</th>\n",
       "      <th>types</th>\n",
       "      <th>attributes</th>\n",
       "      <th>is_original_title</th>\n",
       "    </tr>\n",
       "  </thead>\n",
       "  <tbody>\n",
       "    <tr>\n",
       "      <th>0</th>\n",
       "      <td>tt0369610</td>\n",
       "      <td>10</td>\n",
       "      <td>Джурасик свят</td>\n",
       "      <td>BG</td>\n",
       "      <td>bg</td>\n",
       "      <td>None</td>\n",
       "      <td>None</td>\n",
       "      <td>0.0</td>\n",
       "    </tr>\n",
       "    <tr>\n",
       "      <th>1</th>\n",
       "      <td>tt0381957</td>\n",
       "      <td>1</td>\n",
       "      <td>Cloud Cuckoo Land</td>\n",
       "      <td>GB</td>\n",
       "      <td>None</td>\n",
       "      <td>None</td>\n",
       "      <td>None</td>\n",
       "      <td>0.0</td>\n",
       "    </tr>\n",
       "    <tr>\n",
       "      <th>2</th>\n",
       "      <td>tt0401729</td>\n",
       "      <td>10</td>\n",
       "      <td>Джон Картер: Мiж двох свiтiв</td>\n",
       "      <td>UA</td>\n",
       "      <td>None</td>\n",
       "      <td>None</td>\n",
       "      <td>None</td>\n",
       "      <td>0.0</td>\n",
       "    </tr>\n",
       "    <tr>\n",
       "      <th>3</th>\n",
       "      <td>tt10010134</td>\n",
       "      <td>1</td>\n",
       "      <td>Versailles Rediscovered - The Sun King's Vanis...</td>\n",
       "      <td>None</td>\n",
       "      <td>None</td>\n",
       "      <td>original</td>\n",
       "      <td>None</td>\n",
       "      <td>1.0</td>\n",
       "    </tr>\n",
       "    <tr>\n",
       "      <th>4</th>\n",
       "      <td>tt10027708</td>\n",
       "      <td>1</td>\n",
       "      <td>Miguelito - Canto a Borinquen</td>\n",
       "      <td>None</td>\n",
       "      <td>None</td>\n",
       "      <td>original</td>\n",
       "      <td>None</td>\n",
       "      <td>1.0</td>\n",
       "    </tr>\n",
       "  </tbody>\n",
       "</table>\n",
       "</div>"
      ],
      "text/plain": [
       "     movie_id  ordering                                              title  \\\n",
       "0   tt0369610        10                                      Джурасик свят   \n",
       "1   tt0381957         1                                  Cloud Cuckoo Land   \n",
       "2   tt0401729        10                       Джон Картер: Мiж двох свiтiв   \n",
       "3  tt10010134         1  Versailles Rediscovered - The Sun King's Vanis...   \n",
       "4  tt10027708         1                      Miguelito - Canto a Borinquen   \n",
       "\n",
       "  region language     types attributes  is_original_title  \n",
       "0     BG       bg      None       None                0.0  \n",
       "1     GB     None      None       None                0.0  \n",
       "2     UA     None      None       None                0.0  \n",
       "3   None     None  original       None                1.0  \n",
       "4   None     None  original       None                1.0  "
      ]
     },
     "execution_count": 37,
     "metadata": {},
     "output_type": "execute_result"
    }
   ],
   "source": [
    "# creating a new df and removing duplicate movie_id's \n",
    "movie_akas2 = movie_akas.drop_duplicates(subset = ['movie_id'], keep = 'first', ignore_index = True)\n",
    "movie_akas2.head()"
   ]
  },
  {
   "cell_type": "code",
   "execution_count": 38,
   "metadata": {},
   "outputs": [
    {
     "data": {
      "text/html": [
       "<div>\n",
       "<style scoped>\n",
       "    .dataframe tbody tr th:only-of-type {\n",
       "        vertical-align: middle;\n",
       "    }\n",
       "\n",
       "    .dataframe tbody tr th {\n",
       "        vertical-align: top;\n",
       "    }\n",
       "\n",
       "    .dataframe thead th {\n",
       "        text-align: right;\n",
       "    }\n",
       "</style>\n",
       "<table border=\"1\" class=\"dataframe\">\n",
       "  <thead>\n",
       "    <tr style=\"text-align: right;\">\n",
       "      <th></th>\n",
       "      <th>movie_id</th>\n",
       "      <th>primary_title</th>\n",
       "      <th>original_title</th>\n",
       "      <th>start_year</th>\n",
       "      <th>genres</th>\n",
       "      <th>ordering</th>\n",
       "      <th>title</th>\n",
       "      <th>region</th>\n",
       "      <th>language</th>\n",
       "      <th>types</th>\n",
       "      <th>attributes</th>\n",
       "      <th>is_original_title</th>\n",
       "    </tr>\n",
       "  </thead>\n",
       "  <tbody>\n",
       "    <tr>\n",
       "      <th>0</th>\n",
       "      <td>tt0063540</td>\n",
       "      <td>Sunghursh</td>\n",
       "      <td>Sunghursh</td>\n",
       "      <td>2013</td>\n",
       "      <td>Action,Crime,Drama</td>\n",
       "      <td>1</td>\n",
       "      <td>Sangharsh</td>\n",
       "      <td>IN</td>\n",
       "      <td>hi</td>\n",
       "      <td>None</td>\n",
       "      <td>alternative transliteration</td>\n",
       "      <td>0.0</td>\n",
       "    </tr>\n",
       "    <tr>\n",
       "      <th>1</th>\n",
       "      <td>tt0066787</td>\n",
       "      <td>One Day Before the Rainy Season</td>\n",
       "      <td>Ashad Ka Ek Din</td>\n",
       "      <td>2019</td>\n",
       "      <td>Biography,Drama</td>\n",
       "      <td>1</td>\n",
       "      <td>One Day Before the Rainy Season</td>\n",
       "      <td>XWW</td>\n",
       "      <td>en</td>\n",
       "      <td>None</td>\n",
       "      <td>None</td>\n",
       "      <td>0.0</td>\n",
       "    </tr>\n",
       "    <tr>\n",
       "      <th>2</th>\n",
       "      <td>tt0069049</td>\n",
       "      <td>The Other Side of the Wind</td>\n",
       "      <td>The Other Side of the Wind</td>\n",
       "      <td>2018</td>\n",
       "      <td>Drama</td>\n",
       "      <td>10</td>\n",
       "      <td>La otra cara del viento</td>\n",
       "      <td>VE</td>\n",
       "      <td>None</td>\n",
       "      <td>None</td>\n",
       "      <td>None</td>\n",
       "      <td>0.0</td>\n",
       "    </tr>\n",
       "    <tr>\n",
       "      <th>3</th>\n",
       "      <td>tt0069204</td>\n",
       "      <td>Sabse Bada Sukh</td>\n",
       "      <td>Sabse Bada Sukh</td>\n",
       "      <td>2018</td>\n",
       "      <td>Comedy,Drama</td>\n",
       "      <td>1</td>\n",
       "      <td>Subse Bada Sukh</td>\n",
       "      <td>IN</td>\n",
       "      <td>bn</td>\n",
       "      <td>None</td>\n",
       "      <td>None</td>\n",
       "      <td>0.0</td>\n",
       "    </tr>\n",
       "    <tr>\n",
       "      <th>4</th>\n",
       "      <td>tt0100275</td>\n",
       "      <td>The Wandering Soap Opera</td>\n",
       "      <td>La Telenovela Errante</td>\n",
       "      <td>2017</td>\n",
       "      <td>Comedy,Drama,Fantasy</td>\n",
       "      <td>1</td>\n",
       "      <td>La Telenovela Errante</td>\n",
       "      <td>None</td>\n",
       "      <td>None</td>\n",
       "      <td>original</td>\n",
       "      <td>None</td>\n",
       "      <td>1.0</td>\n",
       "    </tr>\n",
       "  </tbody>\n",
       "</table>\n",
       "</div>"
      ],
      "text/plain": [
       "    movie_id                    primary_title              original_title  \\\n",
       "0  tt0063540                        Sunghursh                   Sunghursh   \n",
       "1  tt0066787  One Day Before the Rainy Season             Ashad Ka Ek Din   \n",
       "2  tt0069049       The Other Side of the Wind  The Other Side of the Wind   \n",
       "3  tt0069204                  Sabse Bada Sukh             Sabse Bada Sukh   \n",
       "4  tt0100275         The Wandering Soap Opera       La Telenovela Errante   \n",
       "\n",
       "   start_year                genres  ordering  \\\n",
       "0        2013    Action,Crime,Drama         1   \n",
       "1        2019       Biography,Drama         1   \n",
       "2        2018                 Drama        10   \n",
       "3        2018          Comedy,Drama         1   \n",
       "4        2017  Comedy,Drama,Fantasy         1   \n",
       "\n",
       "                             title region language     types  \\\n",
       "0                        Sangharsh     IN       hi      None   \n",
       "1  One Day Before the Rainy Season    XWW       en      None   \n",
       "2          La otra cara del viento     VE     None      None   \n",
       "3                  Subse Bada Sukh     IN       bn      None   \n",
       "4            La Telenovela Errante   None     None  original   \n",
       "\n",
       "                    attributes  is_original_title  \n",
       "0  alternative transliteration                0.0  \n",
       "1                         None                0.0  \n",
       "2                         None                0.0  \n",
       "3                         None                0.0  \n",
       "4                         None                1.0  "
      ]
     },
     "execution_count": 38,
     "metadata": {},
     "output_type": "execute_result"
    }
   ],
   "source": [
    "# Let's join the movie_basics and movie_akas2 table \n",
    "movie_markets = movie_basics.merge(movie_akas2, how = 'inner', on = 'movie_id')\n",
    "movie_markets.head()"
   ]
  },
  {
   "cell_type": "code",
   "execution_count": 39,
   "metadata": {},
   "outputs": [
    {
     "data": {
      "text/plain": [
       "False    122300\n",
       "Name: movie_id, dtype: int64"
      ]
     },
     "execution_count": 39,
     "metadata": {},
     "output_type": "execute_result"
    }
   ],
   "source": [
    "# checking to see if there are any duplicate values in movie_id's\n",
    "movie_markets['movie_id'].duplicated().value_counts()"
   ]
  },
  {
   "cell_type": "code",
   "execution_count": 40,
   "metadata": {
    "scrolled": true
   },
   "outputs": [
    {
     "data": {
      "text/html": [
       "<div>\n",
       "<style scoped>\n",
       "    .dataframe tbody tr th:only-of-type {\n",
       "        vertical-align: middle;\n",
       "    }\n",
       "\n",
       "    .dataframe tbody tr th {\n",
       "        vertical-align: top;\n",
       "    }\n",
       "\n",
       "    .dataframe thead th {\n",
       "        text-align: right;\n",
       "    }\n",
       "</style>\n",
       "<table border=\"1\" class=\"dataframe\">\n",
       "  <thead>\n",
       "    <tr style=\"text-align: right;\">\n",
       "      <th></th>\n",
       "      <th>movie_id</th>\n",
       "      <th>primary_title_x</th>\n",
       "      <th>original_title_x</th>\n",
       "      <th>start_year_x</th>\n",
       "      <th>genres_x</th>\n",
       "      <th>title_x</th>\n",
       "      <th>studio</th>\n",
       "      <th>domestic_gross</th>\n",
       "      <th>foreign_gross</th>\n",
       "      <th>year</th>\n",
       "      <th>...</th>\n",
       "      <th>original_title_y</th>\n",
       "      <th>start_year_y</th>\n",
       "      <th>genres_y</th>\n",
       "      <th>ordering</th>\n",
       "      <th>title_y</th>\n",
       "      <th>region</th>\n",
       "      <th>language</th>\n",
       "      <th>types</th>\n",
       "      <th>attributes</th>\n",
       "      <th>is_original_title</th>\n",
       "    </tr>\n",
       "  </thead>\n",
       "  <tbody>\n",
       "    <tr>\n",
       "      <th>0</th>\n",
       "      <td>tt0315642</td>\n",
       "      <td>Wazir</td>\n",
       "      <td>Wazir</td>\n",
       "      <td>2016</td>\n",
       "      <td>Action,Crime,Drama</td>\n",
       "      <td>Wazir</td>\n",
       "      <td>Relbig.</td>\n",
       "      <td>1100000.0</td>\n",
       "      <td>19600000.0</td>\n",
       "      <td>2016</td>\n",
       "      <td>...</td>\n",
       "      <td>Wazir</td>\n",
       "      <td>2016</td>\n",
       "      <td>Action,Crime,Drama</td>\n",
       "      <td>1</td>\n",
       "      <td>Wazir</td>\n",
       "      <td>None</td>\n",
       "      <td>None</td>\n",
       "      <td>original</td>\n",
       "      <td>None</td>\n",
       "      <td>1.0</td>\n",
       "    </tr>\n",
       "    <tr>\n",
       "      <th>1</th>\n",
       "      <td>tt0337692</td>\n",
       "      <td>On the Road</td>\n",
       "      <td>On the Road</td>\n",
       "      <td>2012</td>\n",
       "      <td>Adventure,Drama,Romance</td>\n",
       "      <td>On the Road</td>\n",
       "      <td>IFC</td>\n",
       "      <td>744000.0</td>\n",
       "      <td>8000000.0</td>\n",
       "      <td>2012</td>\n",
       "      <td>...</td>\n",
       "      <td>On the Road</td>\n",
       "      <td>2012</td>\n",
       "      <td>Adventure,Drama,Romance</td>\n",
       "      <td>10</td>\n",
       "      <td>En el camino</td>\n",
       "      <td>AR</td>\n",
       "      <td>None</td>\n",
       "      <td>imdbDisplay</td>\n",
       "      <td>None</td>\n",
       "      <td>0.0</td>\n",
       "    </tr>\n",
       "    <tr>\n",
       "      <th>2</th>\n",
       "      <td>tt2404548</td>\n",
       "      <td>On the Road</td>\n",
       "      <td>On the Road</td>\n",
       "      <td>2011</td>\n",
       "      <td>Drama</td>\n",
       "      <td>On the Road</td>\n",
       "      <td>IFC</td>\n",
       "      <td>744000.0</td>\n",
       "      <td>8000000.0</td>\n",
       "      <td>2012</td>\n",
       "      <td>...</td>\n",
       "      <td>On the Road</td>\n",
       "      <td>2011</td>\n",
       "      <td>Drama</td>\n",
       "      <td>1</td>\n",
       "      <td>On the Road</td>\n",
       "      <td>AM</td>\n",
       "      <td>None</td>\n",
       "      <td>None</td>\n",
       "      <td>None</td>\n",
       "      <td>0.0</td>\n",
       "    </tr>\n",
       "    <tr>\n",
       "      <th>3</th>\n",
       "      <td>tt3872966</td>\n",
       "      <td>On the Road</td>\n",
       "      <td>On the Road</td>\n",
       "      <td>2013</td>\n",
       "      <td>Documentary</td>\n",
       "      <td>On the Road</td>\n",
       "      <td>IFC</td>\n",
       "      <td>744000.0</td>\n",
       "      <td>8000000.0</td>\n",
       "      <td>2012</td>\n",
       "      <td>...</td>\n",
       "      <td>On the Road</td>\n",
       "      <td>2013</td>\n",
       "      <td>Documentary</td>\n",
       "      <td>1</td>\n",
       "      <td>On the Road</td>\n",
       "      <td>DE</td>\n",
       "      <td>None</td>\n",
       "      <td>None</td>\n",
       "      <td>None</td>\n",
       "      <td>0.0</td>\n",
       "    </tr>\n",
       "    <tr>\n",
       "      <th>4</th>\n",
       "      <td>tt4339118</td>\n",
       "      <td>On the Road</td>\n",
       "      <td>On the Road</td>\n",
       "      <td>2014</td>\n",
       "      <td>Drama</td>\n",
       "      <td>On the Road</td>\n",
       "      <td>IFC</td>\n",
       "      <td>744000.0</td>\n",
       "      <td>8000000.0</td>\n",
       "      <td>2012</td>\n",
       "      <td>...</td>\n",
       "      <td>On the Road</td>\n",
       "      <td>2014</td>\n",
       "      <td>Drama</td>\n",
       "      <td>1</td>\n",
       "      <td>Wo zai lu shang zui ai ni</td>\n",
       "      <td>CN</td>\n",
       "      <td>cmn</td>\n",
       "      <td>imdbDisplay</td>\n",
       "      <td>None</td>\n",
       "      <td>0.0</td>\n",
       "    </tr>\n",
       "  </tbody>\n",
       "</table>\n",
       "<p>5 rows × 22 columns</p>\n",
       "</div>"
      ],
      "text/plain": [
       "    movie_id primary_title_x original_title_x  start_year_x  \\\n",
       "0  tt0315642           Wazir            Wazir          2016   \n",
       "1  tt0337692     On the Road      On the Road          2012   \n",
       "2  tt2404548     On the Road      On the Road          2011   \n",
       "3  tt3872966     On the Road      On the Road          2013   \n",
       "4  tt4339118     On the Road      On the Road          2014   \n",
       "\n",
       "                  genres_x      title_x   studio  domestic_gross  \\\n",
       "0       Action,Crime,Drama        Wazir  Relbig.       1100000.0   \n",
       "1  Adventure,Drama,Romance  On the Road      IFC        744000.0   \n",
       "2                    Drama  On the Road      IFC        744000.0   \n",
       "3              Documentary  On the Road      IFC        744000.0   \n",
       "4                    Drama  On the Road      IFC        744000.0   \n",
       "\n",
       "   foreign_gross  year  ...  original_title_y start_year_y  \\\n",
       "0     19600000.0  2016  ...             Wazir         2016   \n",
       "1      8000000.0  2012  ...       On the Road         2012   \n",
       "2      8000000.0  2012  ...       On the Road         2011   \n",
       "3      8000000.0  2012  ...       On the Road         2013   \n",
       "4      8000000.0  2012  ...       On the Road         2014   \n",
       "\n",
       "                  genres_y  ordering                    title_y  region  \\\n",
       "0       Action,Crime,Drama         1                      Wazir    None   \n",
       "1  Adventure,Drama,Romance        10               En el camino      AR   \n",
       "2                    Drama         1                On the Road      AM   \n",
       "3              Documentary         1                On the Road      DE   \n",
       "4                    Drama         1  Wo zai lu shang zui ai ni      CN   \n",
       "\n",
       "  language        types attributes is_original_title  \n",
       "0     None     original       None               1.0  \n",
       "1     None  imdbDisplay       None               0.0  \n",
       "2     None         None       None               0.0  \n",
       "3     None         None       None               0.0  \n",
       "4      cmn  imdbDisplay       None               0.0  \n",
       "\n",
       "[5 rows x 22 columns]"
      ]
     },
     "execution_count": 40,
     "metadata": {},
     "output_type": "execute_result"
    }
   ],
   "source": [
    "# merging the movie_gross_df and the movie_markets df's \n",
    "movie_markets_gross = movie_gross_df.merge(movie_markets, how = 'inner', on ='movie_id')\n",
    "movie_markets_gross.head()"
   ]
  },
  {
   "cell_type": "markdown",
   "metadata": {},
   "source": [
    "> #### Grouping by markets and plotting against total_gross to see how much each market has grossed"
   ]
  },
  {
   "cell_type": "code",
   "execution_count": 41,
   "metadata": {},
   "outputs": [
    {
     "data": {
      "text/html": [
       "<div>\n",
       "<style scoped>\n",
       "    .dataframe tbody tr th:only-of-type {\n",
       "        vertical-align: middle;\n",
       "    }\n",
       "\n",
       "    .dataframe tbody tr th {\n",
       "        vertical-align: top;\n",
       "    }\n",
       "\n",
       "    .dataframe thead th {\n",
       "        text-align: right;\n",
       "    }\n",
       "</style>\n",
       "<table border=\"1\" class=\"dataframe\">\n",
       "  <thead>\n",
       "    <tr style=\"text-align: right;\">\n",
       "      <th></th>\n",
       "      <th>region</th>\n",
       "      <th>start_year_x</th>\n",
       "      <th>domestic_gross</th>\n",
       "      <th>foreign_gross</th>\n",
       "      <th>year</th>\n",
       "      <th>total_gross</th>\n",
       "      <th>start_year_y</th>\n",
       "      <th>ordering</th>\n",
       "      <th>is_original_title</th>\n",
       "    </tr>\n",
       "  </thead>\n",
       "  <tbody>\n",
       "    <tr>\n",
       "      <th>0</th>\n",
       "      <td>AL</td>\n",
       "      <td>2010</td>\n",
       "      <td>2.590000e+07</td>\n",
       "      <td>6.700000e+06</td>\n",
       "      <td>2010</td>\n",
       "      <td>3.260000e+07</td>\n",
       "      <td>2010</td>\n",
       "      <td>10</td>\n",
       "      <td>0.0</td>\n",
       "    </tr>\n",
       "    <tr>\n",
       "      <th>1</th>\n",
       "      <td>AM</td>\n",
       "      <td>2011</td>\n",
       "      <td>7.440000e+05</td>\n",
       "      <td>8.000000e+06</td>\n",
       "      <td>2012</td>\n",
       "      <td>8.744000e+06</td>\n",
       "      <td>2011</td>\n",
       "      <td>1</td>\n",
       "      <td>0.0</td>\n",
       "    </tr>\n",
       "    <tr>\n",
       "      <th>2</th>\n",
       "      <td>AR</td>\n",
       "      <td>114754</td>\n",
       "      <td>2.436009e+09</td>\n",
       "      <td>3.049356e+09</td>\n",
       "      <td>114769</td>\n",
       "      <td>5.485365e+09</td>\n",
       "      <td>114754</td>\n",
       "      <td>516</td>\n",
       "      <td>0.0</td>\n",
       "    </tr>\n",
       "    <tr>\n",
       "      <th>3</th>\n",
       "      <td>AT</td>\n",
       "      <td>16115</td>\n",
       "      <td>7.253020e+07</td>\n",
       "      <td>4.051000e+08</td>\n",
       "      <td>16113</td>\n",
       "      <td>4.776302e+08</td>\n",
       "      <td>16115</td>\n",
       "      <td>53</td>\n",
       "      <td>0.0</td>\n",
       "    </tr>\n",
       "    <tr>\n",
       "      <th>4</th>\n",
       "      <td>AU</td>\n",
       "      <td>40278</td>\n",
       "      <td>4.080374e+08</td>\n",
       "      <td>8.655000e+08</td>\n",
       "      <td>40269</td>\n",
       "      <td>1.273537e+09</td>\n",
       "      <td>40278</td>\n",
       "      <td>74</td>\n",
       "      <td>0.0</td>\n",
       "    </tr>\n",
       "  </tbody>\n",
       "</table>\n",
       "</div>"
      ],
      "text/plain": [
       "  region  start_year_x  domestic_gross  foreign_gross    year   total_gross  \\\n",
       "0     AL          2010    2.590000e+07   6.700000e+06    2010  3.260000e+07   \n",
       "1     AM          2011    7.440000e+05   8.000000e+06    2012  8.744000e+06   \n",
       "2     AR        114754    2.436009e+09   3.049356e+09  114769  5.485365e+09   \n",
       "3     AT         16115    7.253020e+07   4.051000e+08   16113  4.776302e+08   \n",
       "4     AU         40278    4.080374e+08   8.655000e+08   40269  1.273537e+09   \n",
       "\n",
       "   start_year_y  ordering  is_original_title  \n",
       "0          2010        10                0.0  \n",
       "1          2011         1                0.0  \n",
       "2        114754       516                0.0  \n",
       "3         16115        53                0.0  \n",
       "4         40278        74                0.0  "
      ]
     },
     "execution_count": 41,
     "metadata": {},
     "output_type": "execute_result"
    }
   ],
   "source": [
    "# creating a new df by grouping markets\n",
    "\n",
    "df_markets = movie_markets_gross.groupby(['region']).sum()\n",
    "df_markets.reset_index(inplace = True)\n",
    "df_markets.head()"
   ]
  },
  {
   "cell_type": "code",
   "execution_count": 42,
   "metadata": {
    "scrolled": true
   },
   "outputs": [
    {
     "data": {
      "text/html": [
       "<div>\n",
       "<style scoped>\n",
       "    .dataframe tbody tr th:only-of-type {\n",
       "        vertical-align: middle;\n",
       "    }\n",
       "\n",
       "    .dataframe tbody tr th {\n",
       "        vertical-align: top;\n",
       "    }\n",
       "\n",
       "    .dataframe thead th {\n",
       "        text-align: right;\n",
       "    }\n",
       "</style>\n",
       "<table border=\"1\" class=\"dataframe\">\n",
       "  <thead>\n",
       "    <tr style=\"text-align: right;\">\n",
       "      <th></th>\n",
       "      <th>region</th>\n",
       "      <th>start_year_x</th>\n",
       "      <th>domestic_gross</th>\n",
       "      <th>foreign_gross</th>\n",
       "      <th>year</th>\n",
       "      <th>total_gross</th>\n",
       "      <th>start_year_y</th>\n",
       "      <th>ordering</th>\n",
       "      <th>is_original_title</th>\n",
       "    </tr>\n",
       "  </thead>\n",
       "  <tbody>\n",
       "    <tr>\n",
       "      <th>0</th>\n",
       "      <td>US</td>\n",
       "      <td>690752</td>\n",
       "      <td>1.035034e+10</td>\n",
       "      <td>1.661247e+10</td>\n",
       "      <td>690813</td>\n",
       "      <td>2.696282e+10</td>\n",
       "      <td>690752</td>\n",
       "      <td>1090</td>\n",
       "      <td>0.0</td>\n",
       "    </tr>\n",
       "    <tr>\n",
       "      <th>1</th>\n",
       "      <td>RS</td>\n",
       "      <td>132910</td>\n",
       "      <td>3.764871e+09</td>\n",
       "      <td>7.003512e+09</td>\n",
       "      <td>132932</td>\n",
       "      <td>1.076838e+10</td>\n",
       "      <td>132910</td>\n",
       "      <td>624</td>\n",
       "      <td>0.0</td>\n",
       "    </tr>\n",
       "    <tr>\n",
       "      <th>2</th>\n",
       "      <td>UA</td>\n",
       "      <td>104719</td>\n",
       "      <td>3.830018e+09</td>\n",
       "      <td>5.819570e+09</td>\n",
       "      <td>104724</td>\n",
       "      <td>9.649588e+09</td>\n",
       "      <td>104719</td>\n",
       "      <td>484</td>\n",
       "      <td>0.0</td>\n",
       "    </tr>\n",
       "    <tr>\n",
       "      <th>3</th>\n",
       "      <td>BR</td>\n",
       "      <td>235642</td>\n",
       "      <td>3.614321e+09</td>\n",
       "      <td>5.709875e+09</td>\n",
       "      <td>235658</td>\n",
       "      <td>9.324196e+09</td>\n",
       "      <td>235642</td>\n",
       "      <td>927</td>\n",
       "      <td>0.0</td>\n",
       "    </tr>\n",
       "    <tr>\n",
       "      <th>4</th>\n",
       "      <td>IT</td>\n",
       "      <td>149033</td>\n",
       "      <td>3.567004e+09</td>\n",
       "      <td>5.757067e+09</td>\n",
       "      <td>149044</td>\n",
       "      <td>9.324071e+09</td>\n",
       "      <td>149033</td>\n",
       "      <td>677</td>\n",
       "      <td>0.0</td>\n",
       "    </tr>\n",
       "  </tbody>\n",
       "</table>\n",
       "</div>"
      ],
      "text/plain": [
       "  region  start_year_x  domestic_gross  foreign_gross    year   total_gross  \\\n",
       "0     US        690752    1.035034e+10   1.661247e+10  690813  2.696282e+10   \n",
       "1     RS        132910    3.764871e+09   7.003512e+09  132932  1.076838e+10   \n",
       "2     UA        104719    3.830018e+09   5.819570e+09  104724  9.649588e+09   \n",
       "3     BR        235642    3.614321e+09   5.709875e+09  235658  9.324196e+09   \n",
       "4     IT        149033    3.567004e+09   5.757067e+09  149044  9.324071e+09   \n",
       "\n",
       "   start_year_y  ordering  is_original_title  \n",
       "0        690752      1090                0.0  \n",
       "1        132910       624                0.0  \n",
       "2        104719       484                0.0  \n",
       "3        235642       927                0.0  \n",
       "4        149033       677                0.0  "
      ]
     },
     "execution_count": 42,
     "metadata": {},
     "output_type": "execute_result"
    }
   ],
   "source": [
    "# sorting total_gross in descending order\n",
    "df_markets.sort_values(by = ['total_gross'], ascending = False, inplace = True, ignore_index = True)\n",
    "df_markets.head()"
   ]
  },
  {
   "cell_type": "code",
   "execution_count": 42,
   "metadata": {
    "scrolled": true
   },
   "outputs": [
    {
     "data": {
      "text/html": [
       "<div>\n",
       "<style scoped>\n",
       "    .dataframe tbody tr th:only-of-type {\n",
       "        vertical-align: middle;\n",
       "    }\n",
       "\n",
       "    .dataframe tbody tr th {\n",
       "        vertical-align: top;\n",
       "    }\n",
       "\n",
       "    .dataframe thead th {\n",
       "        text-align: right;\n",
       "    }\n",
       "</style>\n",
       "<table border=\"1\" class=\"dataframe\">\n",
       "  <thead>\n",
       "    <tr style=\"text-align: right;\">\n",
       "      <th></th>\n",
       "      <th>region</th>\n",
       "      <th>start_year_x</th>\n",
       "      <th>domestic_gross</th>\n",
       "      <th>foreign_gross</th>\n",
       "      <th>year</th>\n",
       "      <th>total_gross</th>\n",
       "      <th>start_year_y</th>\n",
       "      <th>ordering</th>\n",
       "      <th>is_original_title</th>\n",
       "    </tr>\n",
       "  </thead>\n",
       "  <tbody>\n",
       "    <tr>\n",
       "      <th>0</th>\n",
       "      <td>US</td>\n",
       "      <td>690752</td>\n",
       "      <td>1.035034e+10</td>\n",
       "      <td>1.661247e+10</td>\n",
       "      <td>690813</td>\n",
       "      <td>2.696282e+10</td>\n",
       "      <td>690752</td>\n",
       "      <td>1090</td>\n",
       "      <td>0.0</td>\n",
       "    </tr>\n",
       "    <tr>\n",
       "      <th>1</th>\n",
       "      <td>RS</td>\n",
       "      <td>132910</td>\n",
       "      <td>3.764871e+09</td>\n",
       "      <td>7.003512e+09</td>\n",
       "      <td>132932</td>\n",
       "      <td>1.076838e+10</td>\n",
       "      <td>132910</td>\n",
       "      <td>624</td>\n",
       "      <td>0.0</td>\n",
       "    </tr>\n",
       "    <tr>\n",
       "      <th>2</th>\n",
       "      <td>UA</td>\n",
       "      <td>104719</td>\n",
       "      <td>3.830018e+09</td>\n",
       "      <td>5.819570e+09</td>\n",
       "      <td>104724</td>\n",
       "      <td>9.649588e+09</td>\n",
       "      <td>104719</td>\n",
       "      <td>484</td>\n",
       "      <td>0.0</td>\n",
       "    </tr>\n",
       "    <tr>\n",
       "      <th>3</th>\n",
       "      <td>BR</td>\n",
       "      <td>235642</td>\n",
       "      <td>3.614321e+09</td>\n",
       "      <td>5.709875e+09</td>\n",
       "      <td>235658</td>\n",
       "      <td>9.324196e+09</td>\n",
       "      <td>235642</td>\n",
       "      <td>927</td>\n",
       "      <td>0.0</td>\n",
       "    </tr>\n",
       "    <tr>\n",
       "      <th>4</th>\n",
       "      <td>IT</td>\n",
       "      <td>149033</td>\n",
       "      <td>3.567004e+09</td>\n",
       "      <td>5.757067e+09</td>\n",
       "      <td>149044</td>\n",
       "      <td>9.324071e+09</td>\n",
       "      <td>149033</td>\n",
       "      <td>677</td>\n",
       "      <td>0.0</td>\n",
       "    </tr>\n",
       "  </tbody>\n",
       "</table>\n",
       "</div>"
      ],
      "text/plain": [
       "  region  start_year_x  domestic_gross  foreign_gross    year   total_gross  \\\n",
       "0     US        690752    1.035034e+10   1.661247e+10  690813  2.696282e+10   \n",
       "1     RS        132910    3.764871e+09   7.003512e+09  132932  1.076838e+10   \n",
       "2     UA        104719    3.830018e+09   5.819570e+09  104724  9.649588e+09   \n",
       "3     BR        235642    3.614321e+09   5.709875e+09  235658  9.324196e+09   \n",
       "4     IT        149033    3.567004e+09   5.757067e+09  149044  9.324071e+09   \n",
       "\n",
       "   start_year_y  ordering  is_original_title  \n",
       "0        690752      1090                0.0  \n",
       "1        132910       624                0.0  \n",
       "2        104719       484                0.0  \n",
       "3        235642       927                0.0  \n",
       "4        149033       677                0.0  "
      ]
     },
     "execution_count": 42,
     "metadata": {},
     "output_type": "execute_result"
    }
   ],
   "source": [
    "# sorting total_gross in descending order\n",
    "df_markets.sort_values(by = ['total_gross'], ascending = False, inplace = True, ignore_index = True)\n",
    "df_markets.head()"
   ]
  },
  {
   "cell_type": "code",
   "execution_count": 52,
   "metadata": {},
   "outputs": [
    {
     "data": {
      "image/png": "[encoded data removed]",
      "text/plain": [
       "<Figure size 1440x1440 with 1 Axes>"
      ]
     },
     "metadata": {
      "needs_background": "light"
     },
     "output_type": "display_data"
    }
   ],
   "source": [
    "# plotting the markets vs total_gross to see which markets generate the most revenue\n",
    "\n",
    "\n",
    "fig1, ax1 = plt.subplots(figsize = (20,20))\n",
    "\n",
    "ax1.bar(x = df_markets.loc[:10, 'region'], height = df_markets.loc[:10, 'total_gross'])# specifying only the first 10 rows\n",
    "ax1.tick_params(axis = 'x', labelsize = 15)# formatting the x axis labels\n",
    "ax.yaxis.set_major_formatter(FuncFormatter(billions_formatter))\n",
    "ax1.set_title('Top Grossing Markets', fontdict = {'fontsize' : 25, 'color' :'blue'})\n",
    "ax1.set_xlabel('Markets', fontdict = {'fontsize' : 25, 'color' :'blue'} )\n",
    "ax1.set_ylabel('Total Gross (value in $ billions)', fontdict = {'fontsize' : 25, 'color' :'blue'})\n",
    "plt.show()"
   ]
  },
  {
   "cell_type": "markdown",
   "metadata": {},
   "source": [
    "> From the analysis so far,we have gained the following insights :\n",
    "  - The top grossing genre overall i.e. including all regions is 'Adventure,Animation,Comedy'\n",
    "  - The top grossing market is the USA"
   ]
  },
  {
   "cell_type": "markdown",
   "metadata": {},
   "source": [
    "## Question 3"
   ]
  },
  {
   "cell_type": "markdown",
   "metadata": {},
   "source": [
    "> ### Analyzing the US market by genre"
   ]
  },
  {
   "cell_type": "code",
   "execution_count": 44,
   "metadata": {},
   "outputs": [
    {
     "data": {
      "text/html": [
       "<div>\n",
       "<style scoped>\n",
       "    .dataframe tbody tr th:only-of-type {\n",
       "        vertical-align: middle;\n",
       "    }\n",
       "\n",
       "    .dataframe tbody tr th {\n",
       "        vertical-align: top;\n",
       "    }\n",
       "\n",
       "    .dataframe thead th {\n",
       "        text-align: right;\n",
       "    }\n",
       "</style>\n",
       "<table border=\"1\" class=\"dataframe\">\n",
       "  <thead>\n",
       "    <tr style=\"text-align: right;\">\n",
       "      <th></th>\n",
       "      <th>movie_id</th>\n",
       "      <th>primary_title_x</th>\n",
       "      <th>original_title_x</th>\n",
       "      <th>start_year_x</th>\n",
       "      <th>genres_x</th>\n",
       "      <th>title_x</th>\n",
       "      <th>studio</th>\n",
       "      <th>domestic_gross</th>\n",
       "      <th>foreign_gross</th>\n",
       "      <th>year</th>\n",
       "      <th>...</th>\n",
       "      <th>original_title_y</th>\n",
       "      <th>start_year_y</th>\n",
       "      <th>genres_y</th>\n",
       "      <th>ordering</th>\n",
       "      <th>title_y</th>\n",
       "      <th>region</th>\n",
       "      <th>language</th>\n",
       "      <th>types</th>\n",
       "      <th>attributes</th>\n",
       "      <th>is_original_title</th>\n",
       "    </tr>\n",
       "  </thead>\n",
       "  <tbody>\n",
       "    <tr>\n",
       "      <th>10</th>\n",
       "      <td>tt0372538</td>\n",
       "      <td>Spy</td>\n",
       "      <td>Spy</td>\n",
       "      <td>2011</td>\n",
       "      <td>Action,Crime,Drama</td>\n",
       "      <td>Spy</td>\n",
       "      <td>Fox</td>\n",
       "      <td>110800000.0</td>\n",
       "      <td>124800000.0</td>\n",
       "      <td>2015</td>\n",
       "      <td>...</td>\n",
       "      <td>Spy</td>\n",
       "      <td>2011</td>\n",
       "      <td>Action,Crime,Drama</td>\n",
       "      <td>1</td>\n",
       "      <td>Spy: The Movie</td>\n",
       "      <td>US</td>\n",
       "      <td>None</td>\n",
       "      <td>working</td>\n",
       "      <td>None</td>\n",
       "      <td>0.0</td>\n",
       "    </tr>\n",
       "    <tr>\n",
       "      <th>18</th>\n",
       "      <td>tt0402887</td>\n",
       "      <td>Capture the Flag</td>\n",
       "      <td>Capture the Flag</td>\n",
       "      <td>2010</td>\n",
       "      <td>Drama</td>\n",
       "      <td>Capture the Flag</td>\n",
       "      <td>Par.</td>\n",
       "      <td>6700.0</td>\n",
       "      <td>24600000.0</td>\n",
       "      <td>2015</td>\n",
       "      <td>...</td>\n",
       "      <td>Capture the Flag</td>\n",
       "      <td>2010</td>\n",
       "      <td>Drama</td>\n",
       "      <td>1</td>\n",
       "      <td>Capture the Flag</td>\n",
       "      <td>US</td>\n",
       "      <td>None</td>\n",
       "      <td>None</td>\n",
       "      <td>None</td>\n",
       "      <td>0.0</td>\n",
       "    </tr>\n",
       "    <tr>\n",
       "      <th>22</th>\n",
       "      <td>tt0419692</td>\n",
       "      <td>Disconnect</td>\n",
       "      <td>Disconnect</td>\n",
       "      <td>2010</td>\n",
       "      <td>Drama,Mystery,Sci-Fi</td>\n",
       "      <td>Disconnect</td>\n",
       "      <td>LD</td>\n",
       "      <td>1400000.0</td>\n",
       "      <td>19600000.0</td>\n",
       "      <td>2013</td>\n",
       "      <td>...</td>\n",
       "      <td>Disconnect</td>\n",
       "      <td>2010</td>\n",
       "      <td>Drama,Mystery,Sci-Fi</td>\n",
       "      <td>1</td>\n",
       "      <td>Disconnect</td>\n",
       "      <td>US</td>\n",
       "      <td>None</td>\n",
       "      <td>None</td>\n",
       "      <td>None</td>\n",
       "      <td>0.0</td>\n",
       "    </tr>\n",
       "    <tr>\n",
       "      <th>38</th>\n",
       "      <td>tt4028068</td>\n",
       "      <td>Wonder Woman</td>\n",
       "      <td>Wonder Woman</td>\n",
       "      <td>2014</td>\n",
       "      <td>Sci-Fi</td>\n",
       "      <td>Wonder Woman</td>\n",
       "      <td>WB</td>\n",
       "      <td>412600000.0</td>\n",
       "      <td>409300000.0</td>\n",
       "      <td>2017</td>\n",
       "      <td>...</td>\n",
       "      <td>Wonder Woman</td>\n",
       "      <td>2014</td>\n",
       "      <td>Sci-Fi</td>\n",
       "      <td>1</td>\n",
       "      <td>Wonder Woman</td>\n",
       "      <td>US</td>\n",
       "      <td>None</td>\n",
       "      <td>None</td>\n",
       "      <td>None</td>\n",
       "      <td>0.0</td>\n",
       "    </tr>\n",
       "    <tr>\n",
       "      <th>58</th>\n",
       "      <td>tt2951338</td>\n",
       "      <td>Unstoppable</td>\n",
       "      <td>Unstoppable</td>\n",
       "      <td>2015</td>\n",
       "      <td>Biography,Documentary,History</td>\n",
       "      <td>Unstoppable</td>\n",
       "      <td>Fox</td>\n",
       "      <td>81600000.0</td>\n",
       "      <td>86200000.0</td>\n",
       "      <td>2010</td>\n",
       "      <td>...</td>\n",
       "      <td>Unstoppable</td>\n",
       "      <td>2015</td>\n",
       "      <td>Biography,Documentary,History</td>\n",
       "      <td>1</td>\n",
       "      <td>Unstoppable</td>\n",
       "      <td>US</td>\n",
       "      <td>None</td>\n",
       "      <td>None</td>\n",
       "      <td>None</td>\n",
       "      <td>0.0</td>\n",
       "    </tr>\n",
       "  </tbody>\n",
       "</table>\n",
       "<p>5 rows × 22 columns</p>\n",
       "</div>"
      ],
      "text/plain": [
       "     movie_id   primary_title_x  original_title_x  start_year_x  \\\n",
       "10  tt0372538               Spy               Spy          2011   \n",
       "18  tt0402887  Capture the Flag  Capture the Flag          2010   \n",
       "22  tt0419692        Disconnect        Disconnect          2010   \n",
       "38  tt4028068      Wonder Woman      Wonder Woman          2014   \n",
       "58  tt2951338       Unstoppable       Unstoppable          2015   \n",
       "\n",
       "                         genres_x           title_x studio  domestic_gross  \\\n",
       "10             Action,Crime,Drama               Spy    Fox     110800000.0   \n",
       "18                          Drama  Capture the Flag   Par.          6700.0   \n",
       "22           Drama,Mystery,Sci-Fi        Disconnect     LD       1400000.0   \n",
       "38                         Sci-Fi      Wonder Woman     WB     412600000.0   \n",
       "58  Biography,Documentary,History       Unstoppable    Fox      81600000.0   \n",
       "\n",
       "    foreign_gross  year  ...  original_title_y start_year_y  \\\n",
       "10    124800000.0  2015  ...               Spy         2011   \n",
       "18     24600000.0  2015  ...  Capture the Flag         2010   \n",
       "22     19600000.0  2013  ...        Disconnect         2010   \n",
       "38    409300000.0  2017  ...      Wonder Woman         2014   \n",
       "58     86200000.0  2010  ...       Unstoppable         2015   \n",
       "\n",
       "                         genres_y  ordering           title_y  region  \\\n",
       "10             Action,Crime,Drama         1    Spy: The Movie      US   \n",
       "18                          Drama         1  Capture the Flag      US   \n",
       "22           Drama,Mystery,Sci-Fi         1        Disconnect      US   \n",
       "38                         Sci-Fi         1      Wonder Woman      US   \n",
       "58  Biography,Documentary,History         1       Unstoppable      US   \n",
       "\n",
       "   language    types attributes is_original_title  \n",
       "10     None  working       None               0.0  \n",
       "18     None     None       None               0.0  \n",
       "22     None     None       None               0.0  \n",
       "38     None     None       None               0.0  \n",
       "58     None     None       None               0.0  \n",
       "\n",
       "[5 rows x 22 columns]"
      ]
     },
     "execution_count": 44,
     "metadata": {},
     "output_type": "execute_result"
    }
   ],
   "source": [
    "# creating a new slice of from the movie_markets_gross df by filtering out only the US market\n",
    "us_market = movie_markets_gross.loc[movie_markets_gross['region'] == 'US']\n",
    "us_market.head()"
   ]
  },
  {
   "cell_type": "code",
   "execution_count": 45,
   "metadata": {},
   "outputs": [
    {
     "data": {
      "text/plain": [
       "0"
      ]
     },
     "execution_count": 45,
     "metadata": {},
     "output_type": "execute_result"
    }
   ],
   "source": [
    "#checking to see if there are any duplicate movie_id's\n",
    "us_market.duplicated(subset = ['movie_id']).sum()"
   ]
  },
  {
   "cell_type": "code",
   "execution_count": 46,
   "metadata": {},
   "outputs": [
    {
     "data": {
      "text/html": [
       "<div>\n",
       "<style scoped>\n",
       "    .dataframe tbody tr th:only-of-type {\n",
       "        vertical-align: middle;\n",
       "    }\n",
       "\n",
       "    .dataframe tbody tr th {\n",
       "        vertical-align: top;\n",
       "    }\n",
       "\n",
       "    .dataframe thead th {\n",
       "        text-align: right;\n",
       "    }\n",
       "</style>\n",
       "<table border=\"1\" class=\"dataframe\">\n",
       "  <thead>\n",
       "    <tr style=\"text-align: right;\">\n",
       "      <th></th>\n",
       "      <th>genres_x</th>\n",
       "      <th>start_year_x</th>\n",
       "      <th>domestic_gross</th>\n",
       "      <th>foreign_gross</th>\n",
       "      <th>year</th>\n",
       "      <th>total_gross</th>\n",
       "      <th>start_year_y</th>\n",
       "      <th>ordering</th>\n",
       "      <th>is_original_title</th>\n",
       "    </tr>\n",
       "  </thead>\n",
       "  <tbody>\n",
       "    <tr>\n",
       "      <th>0</th>\n",
       "      <td>Action</td>\n",
       "      <td>6033</td>\n",
       "      <td>171600000.0</td>\n",
       "      <td>133000000.0</td>\n",
       "      <td>6048</td>\n",
       "      <td>304600000.0</td>\n",
       "      <td>6033</td>\n",
       "      <td>3</td>\n",
       "      <td>0.0</td>\n",
       "    </tr>\n",
       "    <tr>\n",
       "      <th>1</th>\n",
       "      <td>Action,Adventure,Animation</td>\n",
       "      <td>2013</td>\n",
       "      <td>187200000.0</td>\n",
       "      <td>400000000.0</td>\n",
       "      <td>2013</td>\n",
       "      <td>587200000.0</td>\n",
       "      <td>2013</td>\n",
       "      <td>10</td>\n",
       "      <td>0.0</td>\n",
       "    </tr>\n",
       "    <tr>\n",
       "      <th>2</th>\n",
       "      <td>Action,Adventure,Comedy</td>\n",
       "      <td>8067</td>\n",
       "      <td>4972800.0</td>\n",
       "      <td>813200000.0</td>\n",
       "      <td>8069</td>\n",
       "      <td>818172800.0</td>\n",
       "      <td>8067</td>\n",
       "      <td>31</td>\n",
       "      <td>0.0</td>\n",
       "    </tr>\n",
       "    <tr>\n",
       "      <th>3</th>\n",
       "      <td>Action,Adventure,Crime</td>\n",
       "      <td>2018</td>\n",
       "      <td>6100000.0</td>\n",
       "      <td>19600000.0</td>\n",
       "      <td>2018</td>\n",
       "      <td>25700000.0</td>\n",
       "      <td>2018</td>\n",
       "      <td>10</td>\n",
       "      <td>0.0</td>\n",
       "    </tr>\n",
       "    <tr>\n",
       "      <th>4</th>\n",
       "      <td>Action,Adventure,Drama</td>\n",
       "      <td>4029</td>\n",
       "      <td>49904200.0</td>\n",
       "      <td>20089000.0</td>\n",
       "      <td>4029</td>\n",
       "      <td>69993200.0</td>\n",
       "      <td>4029</td>\n",
       "      <td>11</td>\n",
       "      <td>0.0</td>\n",
       "    </tr>\n",
       "  </tbody>\n",
       "</table>\n",
       "</div>"
      ],
      "text/plain": [
       "                     genres_x  start_year_x  domestic_gross  foreign_gross  \\\n",
       "0                      Action          6033     171600000.0    133000000.0   \n",
       "1  Action,Adventure,Animation          2013     187200000.0    400000000.0   \n",
       "2     Action,Adventure,Comedy          8067       4972800.0    813200000.0   \n",
       "3      Action,Adventure,Crime          2018       6100000.0     19600000.0   \n",
       "4      Action,Adventure,Drama          4029      49904200.0     20089000.0   \n",
       "\n",
       "   year  total_gross  start_year_y  ordering  is_original_title  \n",
       "0  6048  304600000.0          6033         3                0.0  \n",
       "1  2013  587200000.0          2013        10                0.0  \n",
       "2  8069  818172800.0          8067        31                0.0  \n",
       "3  2018   25700000.0          2018        10                0.0  \n",
       "4  4029   69993200.0          4029        11                0.0  "
      ]
     },
     "execution_count": 46,
     "metadata": {},
     "output_type": "execute_result"
    }
   ],
   "source": [
    "# creating a new df and using group by to get the total_gross amounts by genres\n",
    "us_market_genres =us_market.groupby(['genres_x']).sum()\n",
    "us_market_genres.reset_index(inplace = True)\n",
    "us_market_genres.head()"
   ]
  },
  {
   "cell_type": "code",
   "execution_count": 47,
   "metadata": {
    "scrolled": true
   },
   "outputs": [
    {
     "data": {
      "text/html": [
       "<div>\n",
       "<style scoped>\n",
       "    .dataframe tbody tr th:only-of-type {\n",
       "        vertical-align: middle;\n",
       "    }\n",
       "\n",
       "    .dataframe tbody tr th {\n",
       "        vertical-align: top;\n",
       "    }\n",
       "\n",
       "    .dataframe thead th {\n",
       "        text-align: right;\n",
       "    }\n",
       "</style>\n",
       "<table border=\"1\" class=\"dataframe\">\n",
       "  <thead>\n",
       "    <tr style=\"text-align: right;\">\n",
       "      <th></th>\n",
       "      <th>genres_x</th>\n",
       "      <th>start_year_x</th>\n",
       "      <th>domestic_gross</th>\n",
       "      <th>foreign_gross</th>\n",
       "      <th>year</th>\n",
       "      <th>total_gross</th>\n",
       "      <th>start_year_y</th>\n",
       "      <th>ordering</th>\n",
       "      <th>is_original_title</th>\n",
       "    </tr>\n",
       "  </thead>\n",
       "  <tbody>\n",
       "    <tr>\n",
       "      <th>0</th>\n",
       "      <td>Drama</td>\n",
       "      <td>124856</td>\n",
       "      <td>1.444754e+09</td>\n",
       "      <td>2.310895e+09</td>\n",
       "      <td>124849</td>\n",
       "      <td>3.755649e+09</td>\n",
       "      <td>124856</td>\n",
       "      <td>107</td>\n",
       "      <td>0.0</td>\n",
       "    </tr>\n",
       "    <tr>\n",
       "      <th>1</th>\n",
       "      <td>Action,Adventure,Sci-Fi</td>\n",
       "      <td>8060</td>\n",
       "      <td>9.480000e+08</td>\n",
       "      <td>2.051700e+09</td>\n",
       "      <td>8060</td>\n",
       "      <td>2.999700e+09</td>\n",
       "      <td>8060</td>\n",
       "      <td>40</td>\n",
       "      <td>0.0</td>\n",
       "    </tr>\n",
       "    <tr>\n",
       "      <th>2</th>\n",
       "      <td>Documentary</td>\n",
       "      <td>56384</td>\n",
       "      <td>5.370563e+08</td>\n",
       "      <td>8.642324e+08</td>\n",
       "      <td>56395</td>\n",
       "      <td>1.401289e+09</td>\n",
       "      <td>56384</td>\n",
       "      <td>28</td>\n",
       "      <td>0.0</td>\n",
       "    </tr>\n",
       "    <tr>\n",
       "      <th>3</th>\n",
       "      <td>Comedy</td>\n",
       "      <td>48324</td>\n",
       "      <td>6.606406e+08</td>\n",
       "      <td>7.151000e+08</td>\n",
       "      <td>48336</td>\n",
       "      <td>1.375741e+09</td>\n",
       "      <td>48324</td>\n",
       "      <td>96</td>\n",
       "      <td>0.0</td>\n",
       "    </tr>\n",
       "    <tr>\n",
       "      <th>4</th>\n",
       "      <td>Horror</td>\n",
       "      <td>22156</td>\n",
       "      <td>5.144916e+08</td>\n",
       "      <td>6.364000e+08</td>\n",
       "      <td>22157</td>\n",
       "      <td>1.150892e+09</td>\n",
       "      <td>22156</td>\n",
       "      <td>11</td>\n",
       "      <td>0.0</td>\n",
       "    </tr>\n",
       "    <tr>\n",
       "      <th>...</th>\n",
       "      <td>...</td>\n",
       "      <td>...</td>\n",
       "      <td>...</td>\n",
       "      <td>...</td>\n",
       "      <td>...</td>\n",
       "      <td>...</td>\n",
       "      <td>...</td>\n",
       "      <td>...</td>\n",
       "      <td>...</td>\n",
       "    </tr>\n",
       "    <tr>\n",
       "      <th>101</th>\n",
       "      <td>Family,Sport</td>\n",
       "      <td>2019</td>\n",
       "      <td>1.840000e+05</td>\n",
       "      <td>2.400000e+06</td>\n",
       "      <td>2010</td>\n",
       "      <td>2.584000e+06</td>\n",
       "      <td>2019</td>\n",
       "      <td>1</td>\n",
       "      <td>0.0</td>\n",
       "    </tr>\n",
       "    <tr>\n",
       "      <th>102</th>\n",
       "      <td>Documentary,History,News</td>\n",
       "      <td>2010</td>\n",
       "      <td>1.020000e+05</td>\n",
       "      <td>2.400000e+06</td>\n",
       "      <td>2013</td>\n",
       "      <td>2.502000e+06</td>\n",
       "      <td>2010</td>\n",
       "      <td>1</td>\n",
       "      <td>0.0</td>\n",
       "    </tr>\n",
       "    <tr>\n",
       "      <th>103</th>\n",
       "      <td>Fantasy</td>\n",
       "      <td>2012</td>\n",
       "      <td>1.460000e+05</td>\n",
       "      <td>1.400000e+06</td>\n",
       "      <td>2012</td>\n",
       "      <td>1.546000e+06</td>\n",
       "      <td>2012</td>\n",
       "      <td>1</td>\n",
       "      <td>0.0</td>\n",
       "    </tr>\n",
       "    <tr>\n",
       "      <th>104</th>\n",
       "      <td>Biography,Drama,War</td>\n",
       "      <td>2018</td>\n",
       "      <td>7.250000e+05</td>\n",
       "      <td>2.290000e+05</td>\n",
       "      <td>2018</td>\n",
       "      <td>9.540000e+05</td>\n",
       "      <td>2018</td>\n",
       "      <td>1</td>\n",
       "      <td>0.0</td>\n",
       "    </tr>\n",
       "    <tr>\n",
       "      <th>105</th>\n",
       "      <td>Comedy,Drama,Fantasy</td>\n",
       "      <td>2010</td>\n",
       "      <td>2.780000e+05</td>\n",
       "      <td>6.870000e+04</td>\n",
       "      <td>2010</td>\n",
       "      <td>3.467000e+05</td>\n",
       "      <td>2010</td>\n",
       "      <td>10</td>\n",
       "      <td>0.0</td>\n",
       "    </tr>\n",
       "  </tbody>\n",
       "</table>\n",
       "<p>106 rows × 9 columns</p>\n",
       "</div>"
      ],
      "text/plain": [
       "                     genres_x  start_year_x  domestic_gross  foreign_gross  \\\n",
       "0                       Drama        124856    1.444754e+09   2.310895e+09   \n",
       "1     Action,Adventure,Sci-Fi          8060    9.480000e+08   2.051700e+09   \n",
       "2                 Documentary         56384    5.370563e+08   8.642324e+08   \n",
       "3                      Comedy         48324    6.606406e+08   7.151000e+08   \n",
       "4                      Horror         22156    5.144916e+08   6.364000e+08   \n",
       "..                        ...           ...             ...            ...   \n",
       "101              Family,Sport          2019    1.840000e+05   2.400000e+06   \n",
       "102  Documentary,History,News          2010    1.020000e+05   2.400000e+06   \n",
       "103                   Fantasy          2012    1.460000e+05   1.400000e+06   \n",
       "104       Biography,Drama,War          2018    7.250000e+05   2.290000e+05   \n",
       "105      Comedy,Drama,Fantasy          2010    2.780000e+05   6.870000e+04   \n",
       "\n",
       "       year   total_gross  start_year_y  ordering  is_original_title  \n",
       "0    124849  3.755649e+09        124856       107                0.0  \n",
       "1      8060  2.999700e+09          8060        40                0.0  \n",
       "2     56395  1.401289e+09         56384        28                0.0  \n",
       "3     48336  1.375741e+09         48324        96                0.0  \n",
       "4     22157  1.150892e+09         22156        11                0.0  \n",
       "..      ...           ...           ...       ...                ...  \n",
       "101    2010  2.584000e+06          2019         1                0.0  \n",
       "102    2013  2.502000e+06          2010         1                0.0  \n",
       "103    2012  1.546000e+06          2012         1                0.0  \n",
       "104    2018  9.540000e+05          2018         1                0.0  \n",
       "105    2010  3.467000e+05          2010        10                0.0  \n",
       "\n",
       "[106 rows x 9 columns]"
      ]
     },
     "execution_count": 47,
     "metadata": {},
     "output_type": "execute_result"
    }
   ],
   "source": [
    "# sorting by the total_gross in descending order \n",
    "us_market_genres.sort_values(by = ['total_gross'], ascending = False, inplace = True, ignore_index = True)\n",
    "us_market_genres"
   ]
  },
  {
   "cell_type": "code",
   "execution_count": 53,
   "metadata": {
    "scrolled": true
   },
   "outputs": [
    {
     "data": {
      "image/png": "[encoded data removed]",
      "text/plain": [
       "<Figure size 1440x1440 with 1 Axes>"
      ]
     },
     "metadata": {
      "needs_background": "light"
     },
     "output_type": "display_data"
    }
   ],
   "source": [
    "fig2, ax2 = plt.subplots(figsize = (20,20))\n",
    "\n",
    "ax2.bar(x = us_market_genres.loc[:10, 'genres_x'], height = us_market_genres.loc[:10, 'total_gross'])\n",
    "ax2.tick_params(axis = 'x', labelsize = 15, labelrotation = 80)\n",
    "ax.yaxis.set_major_formatter(FuncFormatter(billions_formatter))\n",
    "ax2.set_title('Top Grossing Genres in the US', fontdict = {'fontsize' : 25, 'color' :'blue'})\n",
    "ax2.set_xlabel('Genres', fontdict = {'fontsize' : 25, 'color' :'blue'} )\n",
    "ax2.set_ylabel('Total Gross (value in $ billions)', fontdict = {'fontsize' : 25, 'color' :'blue'})\n",
    "\n",
    "plt.show()"
   ]
  }
 ],
 "metadata": {
  "kernelspec": {
   "display_name": "Python (learn-env)",
   "language": "python",
   "name": "learn-env"
  },
  "language_info": {
   "codemirror_mode": {
    "name": "ipython",
    "version": 3
   },
   "file_extension": ".py",
   "mimetype": "text/x-python",
   "name": "python",
   "nbconvert_exporter": "python",
   "pygments_lexer": "ipython3",
   "version": "3.8.5"
  }
 },
 "nbformat": 4,
 "nbformat_minor": 4
}
