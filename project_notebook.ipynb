{
 "cells": [
  {
   "cell_type": "markdown",
   "metadata": {},
   "source": [
    "# Phase1_Project"
   ]
  },
  {
   "cell_type": "markdown",
   "metadata": {},
   "source": [
    "> #### Objective : To provide to Microsoft Studio information on the kinds of movies that are doing well at the box office"
   ]
  },
  {
   "cell_type": "code",
   "execution_count": 1,
   "metadata": {},
   "outputs": [],
   "source": [
    "# Importing relevant libraries\n",
    "\n",
    "import pandas as pd\n",
    "import numpy as np\n",
    "import sqlite3\n",
    "import matplotlib.pyplot as plt\n",
    "%matplotlib inline\n",
    "conn = sqlite3.connect('im.db')"
   ]
  },
  {
   "cell_type": "code",
   "execution_count": 2,
   "metadata": {},
   "outputs": [
    {
     "data": {
      "text/html": [
       "<div>\n",
       "<style scoped>\n",
       "    .dataframe tbody tr th:only-of-type {\n",
       "        vertical-align: middle;\n",
       "    }\n",
       "\n",
       "    .dataframe tbody tr th {\n",
       "        vertical-align: top;\n",
       "    }\n",
       "\n",
       "    .dataframe thead th {\n",
       "        text-align: right;\n",
       "    }\n",
       "</style>\n",
       "<table border=\"1\" class=\"dataframe\">\n",
       "  <thead>\n",
       "    <tr style=\"text-align: right;\">\n",
       "      <th></th>\n",
       "      <th>movie_id</th>\n",
       "      <th>primary_title</th>\n",
       "      <th>original_title</th>\n",
       "      <th>start_year</th>\n",
       "      <th>runtime_minutes</th>\n",
       "      <th>genres</th>\n",
       "    </tr>\n",
       "  </thead>\n",
       "  <tbody>\n",
       "    <tr>\n",
       "      <th>0</th>\n",
       "      <td>tt0063540</td>\n",
       "      <td>Sunghursh</td>\n",
       "      <td>Sunghursh</td>\n",
       "      <td>2013</td>\n",
       "      <td>175.0</td>\n",
       "      <td>Action,Crime,Drama</td>\n",
       "    </tr>\n",
       "    <tr>\n",
       "      <th>1</th>\n",
       "      <td>tt0066787</td>\n",
       "      <td>One Day Before the Rainy Season</td>\n",
       "      <td>Ashad Ka Ek Din</td>\n",
       "      <td>2019</td>\n",
       "      <td>114.0</td>\n",
       "      <td>Biography,Drama</td>\n",
       "    </tr>\n",
       "    <tr>\n",
       "      <th>2</th>\n",
       "      <td>tt0069049</td>\n",
       "      <td>The Other Side of the Wind</td>\n",
       "      <td>The Other Side of the Wind</td>\n",
       "      <td>2018</td>\n",
       "      <td>122.0</td>\n",
       "      <td>Drama</td>\n",
       "    </tr>\n",
       "    <tr>\n",
       "      <th>3</th>\n",
       "      <td>tt0069204</td>\n",
       "      <td>Sabse Bada Sukh</td>\n",
       "      <td>Sabse Bada Sukh</td>\n",
       "      <td>2018</td>\n",
       "      <td>NaN</td>\n",
       "      <td>Comedy,Drama</td>\n",
       "    </tr>\n",
       "    <tr>\n",
       "      <th>4</th>\n",
       "      <td>tt0100275</td>\n",
       "      <td>The Wandering Soap Opera</td>\n",
       "      <td>La Telenovela Errante</td>\n",
       "      <td>2017</td>\n",
       "      <td>80.0</td>\n",
       "      <td>Comedy,Drama,Fantasy</td>\n",
       "    </tr>\n",
       "  </tbody>\n",
       "</table>\n",
       "</div>"
      ],
      "text/plain": [
       "    movie_id                    primary_title              original_title  \\\n",
       "0  tt0063540                        Sunghursh                   Sunghursh   \n",
       "1  tt0066787  One Day Before the Rainy Season             Ashad Ka Ek Din   \n",
       "2  tt0069049       The Other Side of the Wind  The Other Side of the Wind   \n",
       "3  tt0069204                  Sabse Bada Sukh             Sabse Bada Sukh   \n",
       "4  tt0100275         The Wandering Soap Opera       La Telenovela Errante   \n",
       "\n",
       "   start_year  runtime_minutes                genres  \n",
       "0        2013            175.0    Action,Crime,Drama  \n",
       "1        2019            114.0       Biography,Drama  \n",
       "2        2018            122.0                 Drama  \n",
       "3        2018              NaN          Comedy,Drama  \n",
       "4        2017             80.0  Comedy,Drama,Fantasy  "
      ]
     },
     "execution_count": 2,
     "metadata": {},
     "output_type": "execute_result"
    }
   ],
   "source": [
    "# initial look at the different tables\n",
    "# converting all the tables into a df using the dataframe constructor \n",
    "\n",
    "movie_basics = pd.DataFrame(pd.read_sql('SELECT * FROM movie_basics',conn))\n",
    "movie_basics.head()\n"
   ]
  },
  {
   "cell_type": "code",
   "execution_count": 3,
   "metadata": {},
   "outputs": [
    {
     "data": {
      "text/html": [
       "<div>\n",
       "<style scoped>\n",
       "    .dataframe tbody tr th:only-of-type {\n",
       "        vertical-align: middle;\n",
       "    }\n",
       "\n",
       "    .dataframe tbody tr th {\n",
       "        vertical-align: top;\n",
       "    }\n",
       "\n",
       "    .dataframe thead th {\n",
       "        text-align: right;\n",
       "    }\n",
       "</style>\n",
       "<table border=\"1\" class=\"dataframe\">\n",
       "  <thead>\n",
       "    <tr style=\"text-align: right;\">\n",
       "      <th></th>\n",
       "      <th>movie_id</th>\n",
       "      <th>averagerating</th>\n",
       "      <th>numvotes</th>\n",
       "    </tr>\n",
       "  </thead>\n",
       "  <tbody>\n",
       "    <tr>\n",
       "      <th>0</th>\n",
       "      <td>tt10356526</td>\n",
       "      <td>8.3</td>\n",
       "      <td>31</td>\n",
       "    </tr>\n",
       "    <tr>\n",
       "      <th>1</th>\n",
       "      <td>tt10384606</td>\n",
       "      <td>8.9</td>\n",
       "      <td>559</td>\n",
       "    </tr>\n",
       "    <tr>\n",
       "      <th>2</th>\n",
       "      <td>tt1042974</td>\n",
       "      <td>6.4</td>\n",
       "      <td>20</td>\n",
       "    </tr>\n",
       "    <tr>\n",
       "      <th>3</th>\n",
       "      <td>tt1043726</td>\n",
       "      <td>4.2</td>\n",
       "      <td>50352</td>\n",
       "    </tr>\n",
       "    <tr>\n",
       "      <th>4</th>\n",
       "      <td>tt1060240</td>\n",
       "      <td>6.5</td>\n",
       "      <td>21</td>\n",
       "    </tr>\n",
       "  </tbody>\n",
       "</table>\n",
       "</div>"
      ],
      "text/plain": [
       "     movie_id  averagerating  numvotes\n",
       "0  tt10356526            8.3        31\n",
       "1  tt10384606            8.9       559\n",
       "2   tt1042974            6.4        20\n",
       "3   tt1043726            4.2     50352\n",
       "4   tt1060240            6.5        21"
      ]
     },
     "execution_count": 3,
     "metadata": {},
     "output_type": "execute_result"
    }
   ],
   "source": [
    "movie_ratings = pd.DataFrame(pd.read_sql('SELECT * FROM movie_ratings',conn))\n",
    "movie_ratings.head()"
   ]
  },
  {
   "cell_type": "code",
   "execution_count": 4,
   "metadata": {},
   "outputs": [
    {
     "data": {
      "text/html": [
       "<div>\n",
       "<style scoped>\n",
       "    .dataframe tbody tr th:only-of-type {\n",
       "        vertical-align: middle;\n",
       "    }\n",
       "\n",
       "    .dataframe tbody tr th {\n",
       "        vertical-align: top;\n",
       "    }\n",
       "\n",
       "    .dataframe thead th {\n",
       "        text-align: right;\n",
       "    }\n",
       "</style>\n",
       "<table border=\"1\" class=\"dataframe\">\n",
       "  <thead>\n",
       "    <tr style=\"text-align: right;\">\n",
       "      <th></th>\n",
       "      <th>movie_id</th>\n",
       "      <th>ordering</th>\n",
       "      <th>title</th>\n",
       "      <th>region</th>\n",
       "      <th>language</th>\n",
       "      <th>types</th>\n",
       "      <th>attributes</th>\n",
       "      <th>is_original_title</th>\n",
       "    </tr>\n",
       "  </thead>\n",
       "  <tbody>\n",
       "    <tr>\n",
       "      <th>0</th>\n",
       "      <td>tt0369610</td>\n",
       "      <td>10</td>\n",
       "      <td>Джурасик свят</td>\n",
       "      <td>BG</td>\n",
       "      <td>bg</td>\n",
       "      <td>None</td>\n",
       "      <td>None</td>\n",
       "      <td>0.0</td>\n",
       "    </tr>\n",
       "    <tr>\n",
       "      <th>1</th>\n",
       "      <td>tt0369610</td>\n",
       "      <td>11</td>\n",
       "      <td>Jurashikku warudo</td>\n",
       "      <td>JP</td>\n",
       "      <td>None</td>\n",
       "      <td>imdbDisplay</td>\n",
       "      <td>None</td>\n",
       "      <td>0.0</td>\n",
       "    </tr>\n",
       "    <tr>\n",
       "      <th>2</th>\n",
       "      <td>tt0369610</td>\n",
       "      <td>12</td>\n",
       "      <td>Jurassic World: O Mundo dos Dinossauros</td>\n",
       "      <td>BR</td>\n",
       "      <td>None</td>\n",
       "      <td>imdbDisplay</td>\n",
       "      <td>None</td>\n",
       "      <td>0.0</td>\n",
       "    </tr>\n",
       "    <tr>\n",
       "      <th>3</th>\n",
       "      <td>tt0369610</td>\n",
       "      <td>13</td>\n",
       "      <td>O Mundo dos Dinossauros</td>\n",
       "      <td>BR</td>\n",
       "      <td>None</td>\n",
       "      <td>None</td>\n",
       "      <td>short title</td>\n",
       "      <td>0.0</td>\n",
       "    </tr>\n",
       "    <tr>\n",
       "      <th>4</th>\n",
       "      <td>tt0369610</td>\n",
       "      <td>14</td>\n",
       "      <td>Jurassic World</td>\n",
       "      <td>FR</td>\n",
       "      <td>None</td>\n",
       "      <td>imdbDisplay</td>\n",
       "      <td>None</td>\n",
       "      <td>0.0</td>\n",
       "    </tr>\n",
       "  </tbody>\n",
       "</table>\n",
       "</div>"
      ],
      "text/plain": [
       "    movie_id  ordering                                    title region  \\\n",
       "0  tt0369610        10                            Джурасик свят     BG   \n",
       "1  tt0369610        11                        Jurashikku warudo     JP   \n",
       "2  tt0369610        12  Jurassic World: O Mundo dos Dinossauros     BR   \n",
       "3  tt0369610        13                  O Mundo dos Dinossauros     BR   \n",
       "4  tt0369610        14                           Jurassic World     FR   \n",
       "\n",
       "  language        types   attributes  is_original_title  \n",
       "0       bg         None         None                0.0  \n",
       "1     None  imdbDisplay         None                0.0  \n",
       "2     None  imdbDisplay         None                0.0  \n",
       "3     None         None  short title                0.0  \n",
       "4     None  imdbDisplay         None                0.0  "
      ]
     },
     "execution_count": 4,
     "metadata": {},
     "output_type": "execute_result"
    }
   ],
   "source": [
    "movie_akas = pd.DataFrame(pd.read_sql('SELECT * FROM movie_akas',conn))\n",
    "movie_akas.head()"
   ]
  },
  {
   "cell_type": "code",
   "execution_count": 5,
   "metadata": {},
   "outputs": [
    {
     "name": "stdout",
     "output_type": "stream",
     "text": [
      "Shape of movie_basics table : (146144, 6)\n",
      "Shape of movie_ratings table : (73856, 3)\n",
      "Shape of movie_akas table :  (331703, 8)\n"
     ]
    }
   ],
   "source": [
    "# Getting an idea of the size of the tables\n",
    "\n",
    "print('Shape of movie_basics table :',movie_basics.shape)\n",
    "print('Shape of movie_ratings table :',movie_ratings.shape)\n",
    "print('Shape of movie_akas table : ',movie_akas.shape)\n"
   ]
  },
  {
   "cell_type": "markdown",
   "metadata": {},
   "source": [
    "> **From the shapes of the tables, we can see that there is a** ***disparity in the amount of data between the tables.***\n",
    "**Let's start by analyzing the movie_basics table**"
   ]
  },
  {
   "cell_type": "code",
   "execution_count": 6,
   "metadata": {},
   "outputs": [
    {
     "name": "stdout",
     "output_type": "stream",
     "text": [
      "<class 'pandas.core.frame.DataFrame'>\n",
      "RangeIndex: 146144 entries, 0 to 146143\n",
      "Data columns (total 6 columns):\n",
      " #   Column           Non-Null Count   Dtype  \n",
      "---  ------           --------------   -----  \n",
      " 0   movie_id         146144 non-null  object \n",
      " 1   primary_title    146144 non-null  object \n",
      " 2   original_title   146123 non-null  object \n",
      " 3   start_year       146144 non-null  int64  \n",
      " 4   runtime_minutes  114405 non-null  float64\n",
      " 5   genres           140736 non-null  object \n",
      "dtypes: float64(1), int64(1), object(4)\n",
      "memory usage: 6.7+ MB\n"
     ]
    }
   ],
   "source": [
    "movie_basics.info()"
   ]
  },
  {
   "cell_type": "markdown",
   "metadata": {},
   "source": [
    ">We can see that ***original_title, runtime_minutes and genres have missing values.***\n",
    " Getting an idea of the amount of missing data:"
   ]
  },
  {
   "cell_type": "code",
   "execution_count": 7,
   "metadata": {},
   "outputs": [
    {
     "name": "stdout",
     "output_type": "stream",
     "text": [
      "Number of rows missing in the original_title column : 21\n",
      "Number of rows missing in the runtime_miutes column : 31739\n",
      "Number of rows missing in the genres column : 5408\n"
     ]
    }
   ],
   "source": [
    "print('Number of rows missing in the original_title column :',len(movie_basics[movie_basics['original_title'].isna()]))\n",
    "print('Number of rows missing in the runtime_miutes column :',len(movie_basics[movie_basics['runtime_minutes'].isna()]))\n",
    "print('Number of rows missing in the genres column :',len(movie_basics[movie_basics['genres'].isna()]))\n"
   ]
  },
  {
   "cell_type": "markdown",
   "metadata": {},
   "source": [
    "> ***Since the missing data in the 'original_title' is < 1%, we can delete those rows without suffering any consequences.***\n"
   ]
  },
  {
   "cell_type": "code",
   "execution_count": 8,
   "metadata": {},
   "outputs": [],
   "source": [
    "# using .dropna to remove rows with NaN values in the 'original_title' columns\n",
    "\n",
    "movie_basics.dropna(subset=['original_title'], inplace = True)"
   ]
  },
  {
   "cell_type": "code",
   "execution_count": 9,
   "metadata": {},
   "outputs": [
    {
     "name": "stdout",
     "output_type": "stream",
     "text": [
      "<class 'pandas.core.frame.DataFrame'>\n",
      "Int64Index: 146123 entries, 0 to 146143\n",
      "Data columns (total 6 columns):\n",
      " #   Column           Non-Null Count   Dtype  \n",
      "---  ------           --------------   -----  \n",
      " 0   movie_id         146123 non-null  object \n",
      " 1   primary_title    146123 non-null  object \n",
      " 2   original_title   146123 non-null  object \n",
      " 3   start_year       146123 non-null  int64  \n",
      " 4   runtime_minutes  114401 non-null  float64\n",
      " 5   genres           140734 non-null  object \n",
      "dtypes: float64(1), int64(1), object(4)\n",
      "memory usage: 7.8+ MB\n"
     ]
    }
   ],
   "source": [
    "# check to the see the if the numbers have changed\n",
    "\n",
    "movie_basics.info()\n",
    "\n",
    "# can see the number of rows have reduced from 146144 to 146123"
   ]
  },
  {
   "cell_type": "markdown",
   "metadata": {},
   "source": [
    "> ***Since we will not be examining the runtime_minutes for our analysis, we can remove the column from the dataset.***"
   ]
  },
  {
   "cell_type": "code",
   "execution_count": 10,
   "metadata": {},
   "outputs": [
    {
     "name": "stdout",
     "output_type": "stream",
     "text": [
      "<class 'pandas.core.frame.DataFrame'>\n",
      "Int64Index: 146123 entries, 0 to 146143\n",
      "Data columns (total 5 columns):\n",
      " #   Column          Non-Null Count   Dtype \n",
      "---  ------          --------------   ----- \n",
      " 0   movie_id        146123 non-null  object\n",
      " 1   primary_title   146123 non-null  object\n",
      " 2   original_title  146123 non-null  object\n",
      " 3   start_year      146123 non-null  int64 \n",
      " 4   genres          140734 non-null  object\n",
      "dtypes: int64(1), object(4)\n",
      "memory usage: 6.7+ MB\n"
     ]
    }
   ],
   "source": [
    "movie_basics.drop('runtime_minutes', axis=1, inplace = True)\n",
    "movie_basics.info()"
   ]
  },
  {
   "cell_type": "markdown",
   "metadata": {},
   "source": [
    "> ***Examining the 'genres' column:***"
   ]
  },
  {
   "cell_type": "code",
   "execution_count": 11,
   "metadata": {},
   "outputs": [
    {
     "data": {
      "text/plain": [
       "Documentary                32185\n",
       "Drama                      21486\n",
       "Comedy                      9177\n",
       "Horror                      4372\n",
       "Comedy,Drama                3519\n",
       "                           ...  \n",
       "History,News,War               1\n",
       "Crime,Family,Thriller          1\n",
       "Mystery,News,Thriller          1\n",
       "Horror,Sport,Thriller          1\n",
       "Fantasy,History,Musical        1\n",
       "Name: genres, Length: 1085, dtype: int64"
      ]
     },
     "execution_count": 11,
     "metadata": {},
     "output_type": "execute_result"
    }
   ],
   "source": [
    "movie_basics['genres'].value_counts()"
   ]
  },
  {
   "cell_type": "code",
   "execution_count": 12,
   "metadata": {},
   "outputs": [
    {
     "data": {
      "text/html": [
       "<div>\n",
       "<style scoped>\n",
       "    .dataframe tbody tr th:only-of-type {\n",
       "        vertical-align: middle;\n",
       "    }\n",
       "\n",
       "    .dataframe tbody tr th {\n",
       "        vertical-align: top;\n",
       "    }\n",
       "\n",
       "    .dataframe thead th {\n",
       "        text-align: right;\n",
       "    }\n",
       "</style>\n",
       "<table border=\"1\" class=\"dataframe\">\n",
       "  <thead>\n",
       "    <tr style=\"text-align: right;\">\n",
       "      <th></th>\n",
       "      <th>movie_id</th>\n",
       "      <th>primary_title</th>\n",
       "      <th>original_title</th>\n",
       "      <th>start_year</th>\n",
       "      <th>genres</th>\n",
       "      <th>genres_split</th>\n",
       "    </tr>\n",
       "  </thead>\n",
       "  <tbody>\n",
       "    <tr>\n",
       "      <th>0</th>\n",
       "      <td>tt0063540</td>\n",
       "      <td>Sunghursh</td>\n",
       "      <td>Sunghursh</td>\n",
       "      <td>2013</td>\n",
       "      <td>Action,Crime,Drama</td>\n",
       "      <td>[Action, Crime, Drama]</td>\n",
       "    </tr>\n",
       "    <tr>\n",
       "      <th>1</th>\n",
       "      <td>tt0066787</td>\n",
       "      <td>One Day Before the Rainy Season</td>\n",
       "      <td>Ashad Ka Ek Din</td>\n",
       "      <td>2019</td>\n",
       "      <td>Biography,Drama</td>\n",
       "      <td>[Biography, Drama]</td>\n",
       "    </tr>\n",
       "    <tr>\n",
       "      <th>2</th>\n",
       "      <td>tt0069049</td>\n",
       "      <td>The Other Side of the Wind</td>\n",
       "      <td>The Other Side of the Wind</td>\n",
       "      <td>2018</td>\n",
       "      <td>Drama</td>\n",
       "      <td>[Drama]</td>\n",
       "    </tr>\n",
       "    <tr>\n",
       "      <th>3</th>\n",
       "      <td>tt0069204</td>\n",
       "      <td>Sabse Bada Sukh</td>\n",
       "      <td>Sabse Bada Sukh</td>\n",
       "      <td>2018</td>\n",
       "      <td>Comedy,Drama</td>\n",
       "      <td>[Comedy, Drama]</td>\n",
       "    </tr>\n",
       "    <tr>\n",
       "      <th>4</th>\n",
       "      <td>tt0100275</td>\n",
       "      <td>The Wandering Soap Opera</td>\n",
       "      <td>La Telenovela Errante</td>\n",
       "      <td>2017</td>\n",
       "      <td>Comedy,Drama,Fantasy</td>\n",
       "      <td>[Comedy, Drama, Fantasy]</td>\n",
       "    </tr>\n",
       "  </tbody>\n",
       "</table>\n",
       "</div>"
      ],
      "text/plain": [
       "    movie_id                    primary_title              original_title  \\\n",
       "0  tt0063540                        Sunghursh                   Sunghursh   \n",
       "1  tt0066787  One Day Before the Rainy Season             Ashad Ka Ek Din   \n",
       "2  tt0069049       The Other Side of the Wind  The Other Side of the Wind   \n",
       "3  tt0069204                  Sabse Bada Sukh             Sabse Bada Sukh   \n",
       "4  tt0100275         The Wandering Soap Opera       La Telenovela Errante   \n",
       "\n",
       "   start_year                genres              genres_split  \n",
       "0        2013    Action,Crime,Drama    [Action, Crime, Drama]  \n",
       "1        2019       Biography,Drama        [Biography, Drama]  \n",
       "2        2018                 Drama                   [Drama]  \n",
       "3        2018          Comedy,Drama           [Comedy, Drama]  \n",
       "4        2017  Comedy,Drama,Fantasy  [Comedy, Drama, Fantasy]  "
      ]
     },
     "execution_count": 12,
     "metadata": {},
     "output_type": "execute_result"
    }
   ],
   "source": [
    "#creating a new column that splits the genres\n",
    "\n",
    "movie_basics[\"genres_split\"] = movie_basics['genres'].str.split(\",\")\n",
    "movie_basics.head()"
   ]
  },
  {
   "cell_type": "code",
   "execution_count": 13,
   "metadata": {},
   "outputs": [
    {
     "data": {
      "text/html": [
       "<div>\n",
       "<style scoped>\n",
       "    .dataframe tbody tr th:only-of-type {\n",
       "        vertical-align: middle;\n",
       "    }\n",
       "\n",
       "    .dataframe tbody tr th {\n",
       "        vertical-align: top;\n",
       "    }\n",
       "\n",
       "    .dataframe thead th {\n",
       "        text-align: right;\n",
       "    }\n",
       "</style>\n",
       "<table border=\"1\" class=\"dataframe\">\n",
       "  <thead>\n",
       "    <tr style=\"text-align: right;\">\n",
       "      <th></th>\n",
       "      <th>movie_id</th>\n",
       "      <th>primary_title</th>\n",
       "      <th>original_title</th>\n",
       "      <th>start_year</th>\n",
       "      <th>genres</th>\n",
       "      <th>genres_split</th>\n",
       "    </tr>\n",
       "  </thead>\n",
       "  <tbody>\n",
       "    <tr>\n",
       "      <th>0</th>\n",
       "      <td>tt0063540</td>\n",
       "      <td>Sunghursh</td>\n",
       "      <td>Sunghursh</td>\n",
       "      <td>2013</td>\n",
       "      <td>Action,Crime,Drama</td>\n",
       "      <td>Action</td>\n",
       "    </tr>\n",
       "    <tr>\n",
       "      <th>0</th>\n",
       "      <td>tt0063540</td>\n",
       "      <td>Sunghursh</td>\n",
       "      <td>Sunghursh</td>\n",
       "      <td>2013</td>\n",
       "      <td>Action,Crime,Drama</td>\n",
       "      <td>Crime</td>\n",
       "    </tr>\n",
       "    <tr>\n",
       "      <th>0</th>\n",
       "      <td>tt0063540</td>\n",
       "      <td>Sunghursh</td>\n",
       "      <td>Sunghursh</td>\n",
       "      <td>2013</td>\n",
       "      <td>Action,Crime,Drama</td>\n",
       "      <td>Drama</td>\n",
       "    </tr>\n",
       "    <tr>\n",
       "      <th>1</th>\n",
       "      <td>tt0066787</td>\n",
       "      <td>One Day Before the Rainy Season</td>\n",
       "      <td>Ashad Ka Ek Din</td>\n",
       "      <td>2019</td>\n",
       "      <td>Biography,Drama</td>\n",
       "      <td>Biography</td>\n",
       "    </tr>\n",
       "    <tr>\n",
       "      <th>1</th>\n",
       "      <td>tt0066787</td>\n",
       "      <td>One Day Before the Rainy Season</td>\n",
       "      <td>Ashad Ka Ek Din</td>\n",
       "      <td>2019</td>\n",
       "      <td>Biography,Drama</td>\n",
       "      <td>Drama</td>\n",
       "    </tr>\n",
       "  </tbody>\n",
       "</table>\n",
       "</div>"
      ],
      "text/plain": [
       "    movie_id                    primary_title   original_title  start_year  \\\n",
       "0  tt0063540                        Sunghursh        Sunghursh        2013   \n",
       "0  tt0063540                        Sunghursh        Sunghursh        2013   \n",
       "0  tt0063540                        Sunghursh        Sunghursh        2013   \n",
       "1  tt0066787  One Day Before the Rainy Season  Ashad Ka Ek Din        2019   \n",
       "1  tt0066787  One Day Before the Rainy Season  Ashad Ka Ek Din        2019   \n",
       "\n",
       "               genres genres_split  \n",
       "0  Action,Crime,Drama       Action  \n",
       "0  Action,Crime,Drama        Crime  \n",
       "0  Action,Crime,Drama        Drama  \n",
       "1     Biography,Drama    Biography  \n",
       "1     Biography,Drama        Drama  "
      ]
     },
     "execution_count": 13,
     "metadata": {},
     "output_type": "execute_result"
    }
   ],
   "source": [
    "# with the exolode method you have to create a new df for it to take effect\n",
    "\n",
    "movie_basics2 = movie_basics.explode(\"genres_split\")\n",
    "movie_basics2.head()"
   ]
  },
  {
   "cell_type": "markdown",
   "metadata": {},
   "source": [
    "> ***We can see that the values are varied(1085). Also, some movies are classified under 2-3 genres making it difficult for us to predict what the missing genres might be. \n",
    "Since the amount of missing data for the genres is also quite large i.e 5389 rows, filling in missing values with guesswork can skew the analysis in any number of ways. So the best way would be to just classify the data as 'missing'***\n"
   ]
  },
  {
   "cell_type": "code",
   "execution_count": 14,
   "metadata": {},
   "outputs": [],
   "source": [
    "movie_basics['genres'].fillna('missing',inplace = True)"
   ]
  },
  {
   "cell_type": "code",
   "execution_count": 15,
   "metadata": {},
   "outputs": [
    {
     "name": "stdout",
     "output_type": "stream",
     "text": [
      "<class 'pandas.core.frame.DataFrame'>\n",
      "Int64Index: 146123 entries, 0 to 146143\n",
      "Data columns (total 6 columns):\n",
      " #   Column          Non-Null Count   Dtype \n",
      "---  ------          --------------   ----- \n",
      " 0   movie_id        146123 non-null  object\n",
      " 1   primary_title   146123 non-null  object\n",
      " 2   original_title  146123 non-null  object\n",
      " 3   start_year      146123 non-null  int64 \n",
      " 4   genres          146123 non-null  object\n",
      " 5   genres_split    140734 non-null  object\n",
      "dtypes: int64(1), object(5)\n",
      "memory usage: 7.8+ MB\n"
     ]
    }
   ],
   "source": [
    "movie_basics.info()"
   ]
  },
  {
   "cell_type": "markdown",
   "metadata": {},
   "source": [
    "> ***Since the 'movie_id' is the primary key in the movie_basics table and the foreign key in the movie_ratings and movie_akas table, let's check to see if there are any duplicate values in the movie_basics table.***"
   ]
  },
  {
   "cell_type": "code",
   "execution_count": 16,
   "metadata": {},
   "outputs": [
    {
     "data": {
      "text/plain": [
       "False    146123\n",
       "dtype: int64"
      ]
     },
     "execution_count": 16,
     "metadata": {},
     "output_type": "execute_result"
    }
   ],
   "source": [
    "movie_basics.duplicated(subset = ['movie_id']).value_counts()"
   ]
  },
  {
   "cell_type": "code",
   "execution_count": 17,
   "metadata": {},
   "outputs": [
    {
     "data": {
      "text/plain": [
       "False    136056\n",
       "True      10067\n",
       "dtype: int64"
      ]
     },
     "execution_count": 17,
     "metadata": {},
     "output_type": "execute_result"
    }
   ],
   "source": [
    "movie_basics.duplicated(subset = ['primary_title']).value_counts()"
   ]
  },
  {
   "cell_type": "markdown",
   "metadata": {},
   "source": [
    ">***We have now cleaned up the movie_basics table by:***\n",
    "- ***Removing null values from the original_title columns***\n",
    "- ***Removing the runtime_minutes column entirely***\n",
    "- ***Classifying null values in the 'genres' column as 'missing***"
   ]
  },
  {
   "cell_type": "markdown",
   "metadata": {},
   "source": [
    "> ***Next up is the movie_ratings table:***"
   ]
  },
  {
   "cell_type": "code",
   "execution_count": 18,
   "metadata": {},
   "outputs": [
    {
     "name": "stdout",
     "output_type": "stream",
     "text": [
      "<class 'pandas.core.frame.DataFrame'>\n",
      "RangeIndex: 73856 entries, 0 to 73855\n",
      "Data columns (total 3 columns):\n",
      " #   Column         Non-Null Count  Dtype  \n",
      "---  ------         --------------  -----  \n",
      " 0   movie_id       73856 non-null  object \n",
      " 1   averagerating  73856 non-null  float64\n",
      " 2   numvotes       73856 non-null  int64  \n",
      "dtypes: float64(1), int64(1), object(1)\n",
      "memory usage: 1.7+ MB\n"
     ]
    }
   ],
   "source": [
    "# Getting info about the movie_ratings table\n",
    "movie_ratings.info()"
   ]
  },
  {
   "cell_type": "markdown",
   "metadata": {},
   "source": [
    "> ***From the above we can see that there no null values.\n",
    "But there is a difference in the number of rows: The movie_ratings table has 73,856 rows while the movie_basics has 146,123 rows indicating that not all movies listed in the movie_basics table are listed in the ratings table as well.***"
   ]
  },
  {
   "cell_type": "code",
   "execution_count": 19,
   "metadata": {},
   "outputs": [
    {
     "data": {
      "text/plain": [
       "movie_id         False\n",
       "averagerating    False\n",
       "numvotes         False\n",
       "dtype: bool"
      ]
     },
     "execution_count": 19,
     "metadata": {},
     "output_type": "execute_result"
    }
   ],
   "source": [
    "# Checking to see if there are any missing values\n",
    "movie_ratings.isna().any()\n",
    "\n",
    "# from the results, we can see that movie_ratings table has no missing values"
   ]
  },
  {
   "cell_type": "code",
   "execution_count": 20,
   "metadata": {},
   "outputs": [
    {
     "data": {
      "text/html": [
       "<div>\n",
       "<style scoped>\n",
       "    .dataframe tbody tr th:only-of-type {\n",
       "        vertical-align: middle;\n",
       "    }\n",
       "\n",
       "    .dataframe tbody tr th {\n",
       "        vertical-align: top;\n",
       "    }\n",
       "\n",
       "    .dataframe thead th {\n",
       "        text-align: right;\n",
       "    }\n",
       "</style>\n",
       "<table border=\"1\" class=\"dataframe\">\n",
       "  <thead>\n",
       "    <tr style=\"text-align: right;\">\n",
       "      <th></th>\n",
       "      <th>movie_id</th>\n",
       "      <th>averagerating</th>\n",
       "      <th>numvotes</th>\n",
       "    </tr>\n",
       "  </thead>\n",
       "  <tbody>\n",
       "    <tr>\n",
       "      <th>0</th>\n",
       "      <td>tt10356526</td>\n",
       "      <td>8.3</td>\n",
       "      <td>31</td>\n",
       "    </tr>\n",
       "    <tr>\n",
       "      <th>1</th>\n",
       "      <td>tt10384606</td>\n",
       "      <td>8.9</td>\n",
       "      <td>559</td>\n",
       "    </tr>\n",
       "    <tr>\n",
       "      <th>2</th>\n",
       "      <td>tt1042974</td>\n",
       "      <td>6.4</td>\n",
       "      <td>20</td>\n",
       "    </tr>\n",
       "    <tr>\n",
       "      <th>3</th>\n",
       "      <td>tt1043726</td>\n",
       "      <td>4.2</td>\n",
       "      <td>50352</td>\n",
       "    </tr>\n",
       "    <tr>\n",
       "      <th>4</th>\n",
       "      <td>tt1060240</td>\n",
       "      <td>6.5</td>\n",
       "      <td>21</td>\n",
       "    </tr>\n",
       "  </tbody>\n",
       "</table>\n",
       "</div>"
      ],
      "text/plain": [
       "     movie_id  averagerating  numvotes\n",
       "0  tt10356526            8.3        31\n",
       "1  tt10384606            8.9       559\n",
       "2   tt1042974            6.4        20\n",
       "3   tt1043726            4.2     50352\n",
       "4   tt1060240            6.5        21"
      ]
     },
     "execution_count": 20,
     "metadata": {},
     "output_type": "execute_result"
    }
   ],
   "source": [
    "# Let's check the contents of the movie_ratings table\n",
    "movie_ratings.head()"
   ]
  },
  {
   "cell_type": "markdown",
   "metadata": {},
   "source": [
    "> ***Since ratings are not a focus of the analysis, let's ignore the movie_ratings table. The rating is an avergae value derived from the numvotes. Since the numvotes are not consistent, one cannot conclude that the ratings are a true reflection of audience approval/disapproval.***"
   ]
  },
  {
   "cell_type": "markdown",
   "metadata": {},
   "source": [
    ">***Since the ultimate goal is to make money, the info from the movie_gross is table is paramount for the analysis.***"
   ]
  },
  {
   "cell_type": "code",
   "execution_count": 21,
   "metadata": {},
   "outputs": [
    {
     "data": {
      "text/html": [
       "<div>\n",
       "<style scoped>\n",
       "    .dataframe tbody tr th:only-of-type {\n",
       "        vertical-align: middle;\n",
       "    }\n",
       "\n",
       "    .dataframe tbody tr th {\n",
       "        vertical-align: top;\n",
       "    }\n",
       "\n",
       "    .dataframe thead th {\n",
       "        text-align: right;\n",
       "    }\n",
       "</style>\n",
       "<table border=\"1\" class=\"dataframe\">\n",
       "  <thead>\n",
       "    <tr style=\"text-align: right;\">\n",
       "      <th></th>\n",
       "      <th>title</th>\n",
       "      <th>studio</th>\n",
       "      <th>domestic_gross</th>\n",
       "      <th>foreign_gross</th>\n",
       "      <th>year</th>\n",
       "    </tr>\n",
       "  </thead>\n",
       "  <tbody>\n",
       "    <tr>\n",
       "      <th>0</th>\n",
       "      <td>Toy Story 3</td>\n",
       "      <td>BV</td>\n",
       "      <td>415000000.0</td>\n",
       "      <td>652000000</td>\n",
       "      <td>2010</td>\n",
       "    </tr>\n",
       "    <tr>\n",
       "      <th>1</th>\n",
       "      <td>Alice in Wonderland (2010)</td>\n",
       "      <td>BV</td>\n",
       "      <td>334200000.0</td>\n",
       "      <td>691300000</td>\n",
       "      <td>2010</td>\n",
       "    </tr>\n",
       "    <tr>\n",
       "      <th>2</th>\n",
       "      <td>Harry Potter and the Deathly Hallows Part 1</td>\n",
       "      <td>WB</td>\n",
       "      <td>296000000.0</td>\n",
       "      <td>664300000</td>\n",
       "      <td>2010</td>\n",
       "    </tr>\n",
       "    <tr>\n",
       "      <th>3</th>\n",
       "      <td>Inception</td>\n",
       "      <td>WB</td>\n",
       "      <td>292600000.0</td>\n",
       "      <td>535700000</td>\n",
       "      <td>2010</td>\n",
       "    </tr>\n",
       "    <tr>\n",
       "      <th>4</th>\n",
       "      <td>Shrek Forever After</td>\n",
       "      <td>P/DW</td>\n",
       "      <td>238700000.0</td>\n",
       "      <td>513900000</td>\n",
       "      <td>2010</td>\n",
       "    </tr>\n",
       "  </tbody>\n",
       "</table>\n",
       "</div>"
      ],
      "text/plain": [
       "                                         title studio  domestic_gross  \\\n",
       "0                                  Toy Story 3     BV     415000000.0   \n",
       "1                   Alice in Wonderland (2010)     BV     334200000.0   \n",
       "2  Harry Potter and the Deathly Hallows Part 1     WB     296000000.0   \n",
       "3                                    Inception     WB     292600000.0   \n",
       "4                          Shrek Forever After   P/DW     238700000.0   \n",
       "\n",
       "  foreign_gross  year  \n",
       "0     652000000  2010  \n",
       "1     691300000  2010  \n",
       "2     664300000  2010  \n",
       "3     535700000  2010  \n",
       "4     513900000  2010  "
      ]
     },
     "execution_count": 21,
     "metadata": {},
     "output_type": "execute_result"
    }
   ],
   "source": [
    "# converting the movie_gross table into a dataframe\n",
    "\n",
    "movie_gross = pd.DataFrame(pd.read_csv('bom.movie_gross.csv'))\n",
    "movie_gross.head()"
   ]
  },
  {
   "cell_type": "markdown",
   "metadata": {},
   "source": [
    ">***Let's combine movie_basics and the movie_gross tables to get information on how much money each movie has made***"
   ]
  },
  {
   "cell_type": "code",
   "execution_count": 22,
   "metadata": {},
   "outputs": [
    {
     "data": {
      "text/html": [
       "<div>\n",
       "<style scoped>\n",
       "    .dataframe tbody tr th:only-of-type {\n",
       "        vertical-align: middle;\n",
       "    }\n",
       "\n",
       "    .dataframe tbody tr th {\n",
       "        vertical-align: top;\n",
       "    }\n",
       "\n",
       "    .dataframe thead th {\n",
       "        text-align: right;\n",
       "    }\n",
       "</style>\n",
       "<table border=\"1\" class=\"dataframe\">\n",
       "  <thead>\n",
       "    <tr style=\"text-align: right;\">\n",
       "      <th></th>\n",
       "      <th>movie_id</th>\n",
       "      <th>primary_title</th>\n",
       "      <th>original_title</th>\n",
       "      <th>start_year</th>\n",
       "      <th>genres</th>\n",
       "      <th>genres_split</th>\n",
       "      <th>title</th>\n",
       "      <th>studio</th>\n",
       "      <th>domestic_gross</th>\n",
       "      <th>foreign_gross</th>\n",
       "      <th>year</th>\n",
       "    </tr>\n",
       "  </thead>\n",
       "  <tbody>\n",
       "    <tr>\n",
       "      <th>0</th>\n",
       "      <td>tt0315642</td>\n",
       "      <td>Wazir</td>\n",
       "      <td>Wazir</td>\n",
       "      <td>2016</td>\n",
       "      <td>Action,Crime,Drama</td>\n",
       "      <td>[Action, Crime, Drama]</td>\n",
       "      <td>Wazir</td>\n",
       "      <td>Relbig.</td>\n",
       "      <td>1100000.0</td>\n",
       "      <td>NaN</td>\n",
       "      <td>2016</td>\n",
       "    </tr>\n",
       "    <tr>\n",
       "      <th>1</th>\n",
       "      <td>tt0337692</td>\n",
       "      <td>On the Road</td>\n",
       "      <td>On the Road</td>\n",
       "      <td>2012</td>\n",
       "      <td>Adventure,Drama,Romance</td>\n",
       "      <td>[Adventure, Drama, Romance]</td>\n",
       "      <td>On the Road</td>\n",
       "      <td>IFC</td>\n",
       "      <td>744000.0</td>\n",
       "      <td>8000000</td>\n",
       "      <td>2012</td>\n",
       "    </tr>\n",
       "    <tr>\n",
       "      <th>2</th>\n",
       "      <td>tt2404548</td>\n",
       "      <td>On the Road</td>\n",
       "      <td>On the Road</td>\n",
       "      <td>2011</td>\n",
       "      <td>Drama</td>\n",
       "      <td>[Drama]</td>\n",
       "      <td>On the Road</td>\n",
       "      <td>IFC</td>\n",
       "      <td>744000.0</td>\n",
       "      <td>8000000</td>\n",
       "      <td>2012</td>\n",
       "    </tr>\n",
       "    <tr>\n",
       "      <th>3</th>\n",
       "      <td>tt3872966</td>\n",
       "      <td>On the Road</td>\n",
       "      <td>On the Road</td>\n",
       "      <td>2013</td>\n",
       "      <td>Documentary</td>\n",
       "      <td>[Documentary]</td>\n",
       "      <td>On the Road</td>\n",
       "      <td>IFC</td>\n",
       "      <td>744000.0</td>\n",
       "      <td>8000000</td>\n",
       "      <td>2012</td>\n",
       "    </tr>\n",
       "    <tr>\n",
       "      <th>4</th>\n",
       "      <td>tt4339118</td>\n",
       "      <td>On the Road</td>\n",
       "      <td>On the Road</td>\n",
       "      <td>2014</td>\n",
       "      <td>Drama</td>\n",
       "      <td>[Drama]</td>\n",
       "      <td>On the Road</td>\n",
       "      <td>IFC</td>\n",
       "      <td>744000.0</td>\n",
       "      <td>8000000</td>\n",
       "      <td>2012</td>\n",
       "    </tr>\n",
       "  </tbody>\n",
       "</table>\n",
       "</div>"
      ],
      "text/plain": [
       "    movie_id primary_title original_title  start_year  \\\n",
       "0  tt0315642         Wazir          Wazir        2016   \n",
       "1  tt0337692   On the Road    On the Road        2012   \n",
       "2  tt2404548   On the Road    On the Road        2011   \n",
       "3  tt3872966   On the Road    On the Road        2013   \n",
       "4  tt4339118   On the Road    On the Road        2014   \n",
       "\n",
       "                    genres                 genres_split        title   studio  \\\n",
       "0       Action,Crime,Drama       [Action, Crime, Drama]        Wazir  Relbig.   \n",
       "1  Adventure,Drama,Romance  [Adventure, Drama, Romance]  On the Road      IFC   \n",
       "2                    Drama                      [Drama]  On the Road      IFC   \n",
       "3              Documentary                [Documentary]  On the Road      IFC   \n",
       "4                    Drama                      [Drama]  On the Road      IFC   \n",
       "\n",
       "   domestic_gross foreign_gross  year  \n",
       "0       1100000.0           NaN  2016  \n",
       "1        744000.0       8000000  2012  \n",
       "2        744000.0       8000000  2012  \n",
       "3        744000.0       8000000  2012  \n",
       "4        744000.0       8000000  2012  "
      ]
     },
     "execution_count": 22,
     "metadata": {},
     "output_type": "execute_result"
    }
   ],
   "source": [
    "# using the merge method to combine the movie_basics and the movie_gross df's\n",
    "# using the inner merge will give us only movie_titles that have gross amounts listed.\n",
    "# any other merge method will result in a lot of redundant data\n",
    "\n",
    "movie_gross_df = movie_basics.merge(movie_gross, how = 'inner', left_on = 'primary_title', right_on = 'title')\n",
    "movie_gross_df.head()"
   ]
  },
  {
   "cell_type": "code",
   "execution_count": 23,
   "metadata": {},
   "outputs": [
    {
     "name": "stdout",
     "output_type": "stream",
     "text": [
      "<class 'pandas.core.frame.DataFrame'>\n",
      "Int64Index: 3366 entries, 0 to 3365\n",
      "Data columns (total 11 columns):\n",
      " #   Column          Non-Null Count  Dtype  \n",
      "---  ------          --------------  -----  \n",
      " 0   movie_id        3366 non-null   object \n",
      " 1   primary_title   3366 non-null   object \n",
      " 2   original_title  3366 non-null   object \n",
      " 3   start_year      3366 non-null   int64  \n",
      " 4   genres          3366 non-null   object \n",
      " 5   genres_split    3326 non-null   object \n",
      " 6   title           3366 non-null   object \n",
      " 7   studio          3363 non-null   object \n",
      " 8   domestic_gross  3342 non-null   float64\n",
      " 9   foreign_gross   2043 non-null   object \n",
      " 10  year            3366 non-null   int64  \n",
      "dtypes: float64(1), int64(2), object(8)\n",
      "memory usage: 315.6+ KB\n"
     ]
    }
   ],
   "source": [
    "movie_gross_df.info()"
   ]
  },
  {
   "cell_type": "markdown",
   "metadata": {},
   "source": [
    "> ***To look at total_gross, need to sum domestic_gross and foreign_gross. From the above we can see that foreign_gross is listed as an object data type. Need to convert this to float64 to be able to compute the sum***"
   ]
  },
  {
   "cell_type": "code",
   "execution_count": 24,
   "metadata": {},
   "outputs": [],
   "source": [
    "# removing the ',' from the string\n",
    "movie_gross_df['foreign_gross'] = movie_gross_df['foreign_gross'].str.replace(',','') \n",
    "\n",
    "# converting 'foreign_gross' to float datatype\n",
    "movie_gross_df['foreign_gross'] = movie_gross_df['foreign_gross'].astype('float64')\n"
   ]
  },
  {
   "cell_type": "code",
   "execution_count": 25,
   "metadata": {},
   "outputs": [
    {
     "name": "stdout",
     "output_type": "stream",
     "text": [
      "<class 'pandas.core.frame.DataFrame'>\n",
      "Int64Index: 3366 entries, 0 to 3365\n",
      "Data columns (total 11 columns):\n",
      " #   Column          Non-Null Count  Dtype  \n",
      "---  ------          --------------  -----  \n",
      " 0   movie_id        3366 non-null   object \n",
      " 1   primary_title   3366 non-null   object \n",
      " 2   original_title  3366 non-null   object \n",
      " 3   start_year      3366 non-null   int64  \n",
      " 4   genres          3366 non-null   object \n",
      " 5   genres_split    3326 non-null   object \n",
      " 6   title           3366 non-null   object \n",
      " 7   studio          3363 non-null   object \n",
      " 8   domestic_gross  3342 non-null   float64\n",
      " 9   foreign_gross   2043 non-null   float64\n",
      " 10  year            3366 non-null   int64  \n",
      "dtypes: float64(2), int64(2), object(7)\n",
      "memory usage: 315.6+ KB\n"
     ]
    }
   ],
   "source": [
    "movie_gross_df.info()"
   ]
  },
  {
   "cell_type": "markdown",
   "metadata": {},
   "source": [
    "> ***We can also see that there are some missing values in the domestic and foreign gross columns. Let's examine them:***"
   ]
  },
  {
   "cell_type": "code",
   "execution_count": 26,
   "metadata": {},
   "outputs": [
    {
     "name": "stdout",
     "output_type": "stream",
     "text": [
      "False    3342\n",
      "True       24\n",
      "Name: domestic_gross, dtype: int64\n",
      "False    2043\n",
      "True     1323\n",
      "Name: foreign_gross, dtype: int64\n"
     ]
    }
   ],
   "source": [
    "# going back to the movie_gross table\n",
    "\n",
    "print(movie_gross_df['domestic_gross'].isna().value_counts())\n",
    "print(movie_gross_df['foreign_gross'].isna().value_counts())"
   ]
  },
  {
   "cell_type": "markdown",
   "metadata": {},
   "source": [
    "> ***Getting some stats of the domestic_gross column to see if we can impute values:***"
   ]
  },
  {
   "cell_type": "code",
   "execution_count": 27,
   "metadata": {},
   "outputs": [],
   "source": [
    "# we can create a function to compute the stats of any a pandas series\n",
    "# we can just have the pass the series name as an argument into the function\n",
    "\n",
    "def stats(column):\n",
    "    \n",
    "    mean_value = round(column.mean())\n",
    "    median_value = round(column.median())\n",
    "    std_dev = round(column.std())\n",
    "    \n",
    "    return mean_value, median_value,std_dev       "
   ]
  },
  {
   "cell_type": "code",
   "execution_count": 28,
   "metadata": {},
   "outputs": [
    {
     "data": {
      "text/plain": [
       "(29865597.0, 1950000.0, 65323288.0)"
      ]
     },
     "execution_count": 28,
     "metadata": {},
     "output_type": "execute_result"
    }
   ],
   "source": [
    "stat_values = stats(movie_gross_df['domestic_gross'])\n",
    "stat_values"
   ]
  },
  {
   "cell_type": "markdown",
   "metadata": {},
   "source": [
    "> ***Let's impute the median value for the missing data in the domestic_gross column and re-compute the stats to see if there is any discernible change***"
   ]
  },
  {
   "cell_type": "code",
   "execution_count": 29,
   "metadata": {},
   "outputs": [],
   "source": [
    "# Imputing the median value\n",
    "movie_gross_df['domestic_gross'] = movie_gross_df['domestic_gross'].fillna(stat_values[1])"
   ]
  },
  {
   "cell_type": "code",
   "execution_count": 30,
   "metadata": {},
   "outputs": [
    {
     "name": "stdout",
     "output_type": "stream",
     "text": [
      "<class 'pandas.core.frame.DataFrame'>\n",
      "Int64Index: 3366 entries, 0 to 3365\n",
      "Data columns (total 11 columns):\n",
      " #   Column          Non-Null Count  Dtype  \n",
      "---  ------          --------------  -----  \n",
      " 0   movie_id        3366 non-null   object \n",
      " 1   primary_title   3366 non-null   object \n",
      " 2   original_title  3366 non-null   object \n",
      " 3   start_year      3366 non-null   int64  \n",
      " 4   genres          3366 non-null   object \n",
      " 5   genres_split    3326 non-null   object \n",
      " 6   title           3366 non-null   object \n",
      " 7   studio          3363 non-null   object \n",
      " 8   domestic_gross  3366 non-null   float64\n",
      " 9   foreign_gross   2043 non-null   float64\n",
      " 10  year            3366 non-null   int64  \n",
      "dtypes: float64(2), int64(2), object(7)\n",
      "memory usage: 315.6+ KB\n"
     ]
    }
   ],
   "source": [
    "# checking to see if any missing data \n",
    "movie_gross_df.info()"
   ]
  },
  {
   "cell_type": "markdown",
   "metadata": {},
   "source": [
    "> ***We can see that the domestic_gross has no more null values***"
   ]
  },
  {
   "cell_type": "code",
   "execution_count": 31,
   "metadata": {},
   "outputs": [
    {
     "data": {
      "text/plain": [
       "(29666555.0, 1950000.0, 65132297.0)"
      ]
     },
     "execution_count": 31,
     "metadata": {},
     "output_type": "execute_result"
    }
   ],
   "source": [
    "# re-computing the stats\n",
    "new_stat_values = stats(movie_gross_df['domestic_gross'])\n",
    "new_stat_values"
   ]
  },
  {
   "cell_type": "code",
   "execution_count": 32,
   "metadata": {},
   "outputs": [
    {
     "name": "stdout",
     "output_type": "stream",
     "text": [
      "-0.6664591369126155  0.0  -0.2923781178926572\n"
     ]
    }
   ],
   "source": [
    "# Calculating percentage change:\n",
    "\n",
    "mean_change = ((new_stat_values[0]-stat_values[0])/stat_values[0]) * 100\n",
    "median_change = ((new_stat_values[1]-stat_values[1])/stat_values[1]) * 100\n",
    "std_dev_change = ((new_stat_values[2]-stat_values[2])/stat_values[2]) * 100\n",
    "\n",
    "print(mean_change, \"\", median_change, \"\", std_dev_change)"
   ]
  },
  {
   "cell_type": "markdown",
   "metadata": {},
   "source": [
    "> ***We can see that there is less than 1% change if we impute the median value. So, let's keep this***"
   ]
  },
  {
   "cell_type": "markdown",
   "metadata": {},
   "source": [
    "Let's examine the foreign gross column"
   ]
  },
  {
   "cell_type": "code",
   "execution_count": 33,
   "metadata": {},
   "outputs": [
    {
     "data": {
      "text/plain": [
       "False    2043\n",
       "True     1323\n",
       "Name: foreign_gross, dtype: int64"
      ]
     },
     "execution_count": 33,
     "metadata": {},
     "output_type": "execute_result"
    }
   ],
   "source": [
    "movie_gross_df['foreign_gross'].isna().value_counts()"
   ]
  },
  {
   "cell_type": "markdown",
   "metadata": {},
   "source": [
    "> ***We can that there are 1323 empty values. Let's compute the stats again to get an idea of what we can impute.\n",
    "First, we need to convert it to the float data type***"
   ]
  },
  {
   "cell_type": "code",
   "execution_count": 34,
   "metadata": {},
   "outputs": [],
   "source": [
    "# converting 'foreign_gross' to float datatype\n",
    "movie_gross_df['foreign_gross'] = movie_gross_df['foreign_gross'].astype('float64')\n"
   ]
  },
  {
   "cell_type": "code",
   "execution_count": 35,
   "metadata": {},
   "outputs": [
    {
     "data": {
      "text/plain": [
       "(74551466.0, 19600000.0, 134783459.0)"
      ]
     },
     "execution_count": 35,
     "metadata": {},
     "output_type": "execute_result"
    }
   ],
   "source": [
    "# compute the stats \n",
    "fd_stats = stats(movie_gross_df['foreign_gross'])\n",
    "fd_stats"
   ]
  },
  {
   "cell_type": "markdown",
   "metadata": {},
   "source": [
    "> ***Note about the data : None of the stats can be considered to be accurate due to large volume of missing data ( ~ 40%). But, this is what we have to work with. We can exclude the foreign_gross data if we choose to do so later***"
   ]
  },
  {
   "cell_type": "code",
   "execution_count": 36,
   "metadata": {},
   "outputs": [],
   "source": [
    "#imputing the median value\n",
    "movie_gross_df['foreign_gross'] = movie_gross_df['foreign_gross'].fillna(fd_stats[1])"
   ]
  },
  {
   "cell_type": "code",
   "execution_count": 37,
   "metadata": {},
   "outputs": [
    {
     "name": "stdout",
     "output_type": "stream",
     "text": [
      "<class 'pandas.core.frame.DataFrame'>\n",
      "Int64Index: 3366 entries, 0 to 3365\n",
      "Data columns (total 11 columns):\n",
      " #   Column          Non-Null Count  Dtype  \n",
      "---  ------          --------------  -----  \n",
      " 0   movie_id        3366 non-null   object \n",
      " 1   primary_title   3366 non-null   object \n",
      " 2   original_title  3366 non-null   object \n",
      " 3   start_year      3366 non-null   int64  \n",
      " 4   genres          3366 non-null   object \n",
      " 5   genres_split    3326 non-null   object \n",
      " 6   title           3366 non-null   object \n",
      " 7   studio          3363 non-null   object \n",
      " 8   domestic_gross  3366 non-null   float64\n",
      " 9   foreign_gross   3366 non-null   float64\n",
      " 10  year            3366 non-null   int64  \n",
      "dtypes: float64(2), int64(2), object(7)\n",
      "memory usage: 315.6+ KB\n"
     ]
    }
   ],
   "source": [
    "# check the table\n",
    "movie_gross_df.info()"
   ]
  },
  {
   "cell_type": "code",
   "execution_count": 38,
   "metadata": {},
   "outputs": [
    {
     "data": {
      "text/plain": [
       "(52952895.0, 19600000.0, 108373000.0)"
      ]
     },
     "execution_count": 38,
     "metadata": {},
     "output_type": "execute_result"
    }
   ],
   "source": [
    "#re-compute stats\n",
    "fd_new_stats = stats(movie_gross_df['foreign_gross'])\n",
    "fd_new_stats"
   ]
  },
  {
   "cell_type": "markdown",
   "metadata": {},
   "source": [
    "> ***Let's add a new column to see how much each movie grossed totally: domestic + overseas***"
   ]
  },
  {
   "cell_type": "code",
   "execution_count": 39,
   "metadata": {},
   "outputs": [],
   "source": [
    "movie_gross_df['total_gross'] = movie_gross_df['domestic_gross'] + movie_gross_df['foreign_gross']"
   ]
  },
  {
   "cell_type": "code",
   "execution_count": 40,
   "metadata": {},
   "outputs": [
    {
     "name": "stdout",
     "output_type": "stream",
     "text": [
      "<class 'pandas.core.frame.DataFrame'>\n",
      "Int64Index: 3366 entries, 0 to 3365\n",
      "Data columns (total 12 columns):\n",
      " #   Column          Non-Null Count  Dtype  \n",
      "---  ------          --------------  -----  \n",
      " 0   movie_id        3366 non-null   object \n",
      " 1   primary_title   3366 non-null   object \n",
      " 2   original_title  3366 non-null   object \n",
      " 3   start_year      3366 non-null   int64  \n",
      " 4   genres          3366 non-null   object \n",
      " 5   genres_split    3326 non-null   object \n",
      " 6   title           3366 non-null   object \n",
      " 7   studio          3363 non-null   object \n",
      " 8   domestic_gross  3366 non-null   float64\n",
      " 9   foreign_gross   3366 non-null   float64\n",
      " 10  year            3366 non-null   int64  \n",
      " 11  total_gross     3366 non-null   float64\n",
      "dtypes: float64(3), int64(2), object(7)\n",
      "memory usage: 341.9+ KB\n"
     ]
    }
   ],
   "source": [
    "# check to see if the total_gross column is created\n",
    "movie_gross_df.info()"
   ]
  },
  {
   "cell_type": "code",
   "execution_count": 41,
   "metadata": {},
   "outputs": [
    {
     "data": {
      "text/plain": [
       "movie_id          False\n",
       "primary_title     False\n",
       "original_title    False\n",
       "start_year        False\n",
       "genres            False\n",
       "genres_split       True\n",
       "title             False\n",
       "studio             True\n",
       "domestic_gross    False\n",
       "foreign_gross     False\n",
       "year              False\n",
       "total_gross       False\n",
       "dtype: bool"
      ]
     },
     "execution_count": 41,
     "metadata": {},
     "output_type": "execute_result"
    }
   ],
   "source": [
    "# check to see if there are any more missing values\n",
    "movie_gross_df.isna().any()"
   ]
  },
  {
   "cell_type": "markdown",
   "metadata": {},
   "source": [
    "> ***Let's plot to see how much genres grossed***"
   ]
  },
  {
   "cell_type": "code",
   "execution_count": 42,
   "metadata": {},
   "outputs": [
    {
     "data": {
      "text/plain": [
       "Drama                          392\n",
       "Documentary                    168\n",
       "Comedy,Drama,Romance           138\n",
       "Comedy,Drama                   137\n",
       "Drama,Romance                  115\n",
       "                              ... \n",
       "Adventure,Biography,Comedy       1\n",
       "Comedy,Crime,Documentary         1\n",
       "Animation,Drama,History          1\n",
       "Action,Family,Fantasy            1\n",
       "Adventure,Documentary,Sport      1\n",
       "Name: genres, Length: 332, dtype: int64"
      ]
     },
     "execution_count": 42,
     "metadata": {},
     "output_type": "execute_result"
    }
   ],
   "source": [
    "# looking at the genres columns\n",
    "movie_gross_df['genres'].value_counts()"
   ]
  },
  {
   "cell_type": "markdown",
   "metadata": {},
   "source": [
    "> ***Since, there is a lot of ambiguity, i.e. multiple genres classifications, let's try and see if we can get some calrity from the genres columns***"
   ]
  },
  {
   "cell_type": "code",
   "execution_count": 43,
   "metadata": {},
   "outputs": [
    {
     "data": {
      "text/plain": [
       "{'Drama': 392,\n",
       " 'Documentary': 168,\n",
       " 'Comedy,Drama,Romance': 138,\n",
       " 'Comedy,Drama': 137,\n",
       " 'Drama,Romance': 115,\n",
       " 'Comedy': 112,\n",
       " 'Adventure,Animation,Comedy': 75,\n",
       " 'Comedy,Romance': 73,\n",
       " 'Drama,Thriller': 55,\n",
       " 'Action,Adventure,Sci-Fi': 47,\n",
       " 'Action,Crime,Drama': 47,\n",
       " 'Biography,Drama,History': 44,\n",
       " 'Horror': 42,\n",
       " 'missing': 40,\n",
       " 'Action,Comedy,Crime': 40,\n",
       " 'Action,Adventure,Drama': 39,\n",
       " 'Crime,Drama,Thriller': 39,\n",
       " 'Biography,Drama': 38,\n",
       " 'Thriller': 38,\n",
       " 'Horror,Mystery,Thriller': 37,\n",
       " 'Action,Crime,Thriller': 36,\n",
       " 'Crime,Drama': 34,\n",
       " 'Action,Thriller': 33,\n",
       " 'Horror,Thriller': 33,\n",
       " 'Action,Adventure,Comedy': 32,\n",
       " 'Action,Adventure,Fantasy': 31,\n",
       " 'Action,Drama,Thriller': 30,\n",
       " 'Biography,Comedy,Drama': 27,\n",
       " 'Comedy,Crime,Drama': 25,\n",
       " 'Crime,Drama,Mystery': 25,\n",
       " 'Biography,Documentary': 25,\n",
       " 'Drama,Mystery,Thriller': 24,\n",
       " 'Action,Adventure,Animation': 22,\n",
       " 'Action': 22,\n",
       " 'Action,Drama': 21,\n",
       " 'Biography,Drama,Romance': 20,\n",
       " 'Adventure,Comedy,Drama': 19,\n",
       " 'Biography,Crime,Drama': 19,\n",
       " 'Drama,Family': 19,\n",
       " 'Drama,War': 19,\n",
       " 'Action,Comedy': 19,\n",
       " 'Drama,Horror,Thriller': 17,\n",
       " 'Action,Adventure,Thriller': 17,\n",
       " 'Comedy,Drama,Music': 16,\n",
       " 'Drama,Horror,Mystery': 16,\n",
       " 'Documentary,Music': 16,\n",
       " 'Comedy,Drama,Fantasy': 15,\n",
       " 'Action,Drama,History': 15,\n",
       " 'Comedy,Drama,Family': 15,\n",
       " 'Drama,Fantasy,Horror': 15,\n",
       " 'Biography,Drama,Music': 14,\n",
       " 'Biography,Drama,Sport': 14,\n",
       " 'Drama,Music': 14,\n",
       " 'Action,Adventure,Crime': 13,\n",
       " 'Drama,Romance,Thriller': 13,\n",
       " 'Drama,Fantasy': 13,\n",
       " 'Action,Crime': 12,\n",
       " 'Comedy,Crime': 12,\n",
       " 'Biography,Documentary,Music': 11,\n",
       " 'Drama,History,Romance': 11,\n",
       " 'Drama,Mystery,Romance': 11,\n",
       " 'Adventure,Comedy,Family': 11,\n",
       " 'Action,Biography,Drama': 11,\n",
       " 'Drama,History': 11,\n",
       " 'Comedy,Family': 11,\n",
       " 'Action,Comedy,Drama': 11,\n",
       " 'Romance': 10,\n",
       " 'Drama,Mystery': 10,\n",
       " 'Documentary,History': 10,\n",
       " 'Biography,Documentary,History': 10,\n",
       " 'Biography,Documentary,Drama': 10,\n",
       " 'Action,Comedy,Romance': 9,\n",
       " 'Action,Mystery,Thriller': 9,\n",
       " 'Drama,Mystery,Sci-Fi': 9,\n",
       " 'Drama,Sport': 9,\n",
       " 'Biography,Drama,Thriller': 9,\n",
       " 'Action,Sci-Fi,Thriller': 8,\n",
       " 'Comedy,Drama,Mystery': 8,\n",
       " 'Adventure,Family,Fantasy': 8,\n",
       " 'Animation': 8,\n",
       " 'Action,Fantasy,Horror': 8,\n",
       " 'Drama,History,War': 8,\n",
       " 'Adventure,Biography,Drama': 8,\n",
       " 'Drama,Music,Romance': 8,\n",
       " 'Drama,Fantasy,Romance': 8,\n",
       " 'Drama,Fantasy,Mystery': 8,\n",
       " 'Crime,Drama,Horror': 7,\n",
       " 'Family': 7,\n",
       " 'Drama,Western': 7,\n",
       " 'Action,Horror,Sci-Fi': 7,\n",
       " 'Drama,Romance,Sci-Fi': 7,\n",
       " 'Drama,Horror': 7,\n",
       " 'Action,Drama,Sci-Fi': 7,\n",
       " 'Adventure,Comedy': 7,\n",
       " 'Documentary,Drama': 7,\n",
       " 'Adventure,Comedy,Crime': 7,\n",
       " 'Animation,Comedy,Family': 7,\n",
       " 'Crime,Thriller': 6,\n",
       " 'Action,Comedy,Sci-Fi': 6,\n",
       " 'Comedy,Fantasy': 6,\n",
       " 'Comedy,Romance,Sport': 6,\n",
       " 'Adventure,Drama,Thriller': 6,\n",
       " 'Action,Drama,Romance': 6,\n",
       " 'Action,Adventure': 6,\n",
       " 'Adventure,Animation,Family': 6,\n",
       " 'Action,Adventure,Horror': 6,\n",
       " 'Documentary,Family': 5,\n",
       " 'Crime,Drama,History': 5,\n",
       " 'Drama,History,Thriller': 5,\n",
       " 'Horror,Mystery': 5,\n",
       " 'Sci-Fi': 5,\n",
       " 'Action,Adventure,Family': 5,\n",
       " 'Adventure,Drama,Fantasy': 5,\n",
       " 'Adventure,Documentary': 5,\n",
       " 'Drama,Horror,Sci-Fi': 5,\n",
       " 'Adventure,Animation,Drama': 5,\n",
       " 'Drama,Romance,War': 5,\n",
       " 'Action,Comedy,Horror': 5,\n",
       " 'Comedy,Crime,Thriller': 5,\n",
       " 'Action,Drama,Fantasy': 5,\n",
       " 'Crime': 5,\n",
       " 'Documentary,Musical': 4,\n",
       " 'Crime,Mystery,Thriller': 4,\n",
       " 'Crime,Horror,Mystery': 4,\n",
       " 'Comedy,Horror': 4,\n",
       " 'Comedy,Fantasy,Horror': 4,\n",
       " 'Drama,Sci-Fi,Thriller': 4,\n",
       " 'Biography,Comedy,Crime': 4,\n",
       " 'Action,Drama,Mystery': 4,\n",
       " 'Comedy,Drama,Musical': 4,\n",
       " 'Biography,Drama,Family': 4,\n",
       " 'Action,Crime,Sci-Fi': 4,\n",
       " 'Action,Horror,Thriller': 4,\n",
       " 'Biography,Documentary,Sport': 4,\n",
       " 'Adventure,Comedy,Fantasy': 4,\n",
       " 'Mystery,Thriller': 4,\n",
       " 'Fantasy': 4,\n",
       " 'Crime,Drama,Romance': 4,\n",
       " 'Adventure,Drama,Mystery': 4,\n",
       " 'Adventure,Drama': 4,\n",
       " 'Mystery': 4,\n",
       " 'Action,Adventure,Biography': 4,\n",
       " 'Comedy,Music': 4,\n",
       " 'Comedy,Family,Fantasy': 4,\n",
       " 'Adventure,Drama,History': 4,\n",
       " 'Comedy,Mystery': 4,\n",
       " 'Drama,Thriller,War': 4,\n",
       " 'Comedy,Documentary,Drama': 4,\n",
       " 'Horror,Mystery,Sci-Fi': 3,\n",
       " 'Comedy,Drama,Horror': 3,\n",
       " 'Documentary,War': 3,\n",
       " 'Crime,Documentary': 3,\n",
       " 'Adventure,Drama,Romance': 3,\n",
       " 'Comedy,Sci-Fi': 3,\n",
       " 'Action,Animation,Comedy': 3,\n",
       " 'Fantasy,Horror,Mystery': 3,\n",
       " 'Crime,Horror,Thriller': 3,\n",
       " 'Adventure,Fantasy': 3,\n",
       " 'Biography,Documentary,Family': 3,\n",
       " 'Biography': 3,\n",
       " 'Comedy,Music,Romance': 3,\n",
       " 'Action,Biography,Crime': 3,\n",
       " 'Documentary,Drama,Family': 3,\n",
       " 'Action,Drama,Sport': 3,\n",
       " 'Drama,Sci-Fi': 3,\n",
       " 'Adventure,Drama,Family': 3,\n",
       " 'Animation,Fantasy': 3,\n",
       " 'Drama,Music,Musical': 3,\n",
       " 'Documentary,Sport': 3,\n",
       " 'Action,Sci-Fi': 3,\n",
       " 'Animation,Drama,Family': 3,\n",
       " 'Documentary,News': 3,\n",
       " 'Adventure,Drama,Western': 3,\n",
       " 'Comedy,Drama,Sport': 3,\n",
       " 'Horror,Sci-Fi,Thriller': 3,\n",
       " 'Documentary,Drama,History': 3,\n",
       " 'Biography,Drama,War': 3,\n",
       " 'Comedy,Family,Romance': 3,\n",
       " 'Animation,Drama': 3,\n",
       " 'Action,Drama,War': 3,\n",
       " 'Crime,Documentary,History': 2,\n",
       " 'Documentary,Drama,Sport': 2,\n",
       " 'Biography,Drama,Fantasy': 2,\n",
       " 'Action,Horror,Mystery': 2,\n",
       " 'Comedy,Drama,War': 2,\n",
       " 'Adventure,Biography,Documentary': 2,\n",
       " 'Adventure,Comedy,Sci-Fi': 2,\n",
       " 'Horror,Romance,Thriller': 2,\n",
       " 'Adventure,Crime,Drama': 2,\n",
       " 'Comedy,Fantasy,Romance': 2,\n",
       " 'Action,Fantasy,Thriller': 2,\n",
       " 'Romance,Thriller': 2,\n",
       " 'Comedy,Documentary': 2,\n",
       " 'Animation,Drama,Fantasy': 2,\n",
       " 'Documentary,Mystery': 2,\n",
       " 'Action,Comedy,Family': 2,\n",
       " 'Fantasy,Thriller': 2,\n",
       " 'Animation,Documentary': 2,\n",
       " 'Mystery,Romance,Thriller': 2,\n",
       " 'Fantasy,Romance': 2,\n",
       " 'Music': 2,\n",
       " 'Action,Drama,Family': 2,\n",
       " 'Action,Crime,Mystery': 2,\n",
       " 'Fantasy,Horror,Thriller': 2,\n",
       " 'Animation,Biography,Drama': 2,\n",
       " 'Documentary,History,News': 2,\n",
       " 'Comedy,Musical,Romance': 2,\n",
       " 'Comedy,History': 2,\n",
       " 'Comedy,Drama,History': 2,\n",
       " 'Fantasy,Horror': 2,\n",
       " 'Action,Animation,Drama': 2,\n",
       " 'Documentary,History,War': 2,\n",
       " 'Animation,Comedy,Drama': 2,\n",
       " 'Comedy,Thriller': 2,\n",
       " 'Drama,Musical,Romance': 2,\n",
       " 'Biography,Comedy,Documentary': 2,\n",
       " 'Action,Adventure,Western': 2,\n",
       " 'Comedy,Crime,Romance': 2,\n",
       " 'Adventure,Drama,Sci-Fi': 2,\n",
       " 'Adventure': 2,\n",
       " 'Action,Comedy,Mystery': 2,\n",
       " 'Mystery,Sci-Fi,Thriller': 2,\n",
       " 'Crime,Drama,Fantasy': 2,\n",
       " 'Romance,Sci-Fi,Thriller': 1,\n",
       " 'Family,Sport': 1,\n",
       " 'Comedy,Musical': 1,\n",
       " 'Horror,Romance': 1,\n",
       " 'Drama,War,Western': 1,\n",
       " 'Documentary,Drama,Mystery': 1,\n",
       " 'Action,Biography,Comedy': 1,\n",
       " 'Comedy,Mystery,Romance': 1,\n",
       " 'Horror,Music,Thriller': 1,\n",
       " 'Biography,Comedy': 1,\n",
       " 'Drama,History,Sport': 1,\n",
       " 'Animation,Comedy,Music': 1,\n",
       " 'Biography,History,Thriller': 1,\n",
       " 'Drama,Fantasy,Thriller': 1,\n",
       " 'Action,History': 1,\n",
       " 'Action,Romance,Thriller': 1,\n",
       " 'Drama,Fantasy,Sci-Fi': 1,\n",
       " 'Adventure,Drama,Sport': 1,\n",
       " 'Comedy,Mystery,Thriller': 1,\n",
       " 'Action,Adventure,Documentary': 1,\n",
       " 'Action,Horror': 1,\n",
       " 'Adventure,Family,Sci-Fi': 1,\n",
       " 'Biography,Documentary,Thriller': 1,\n",
       " 'Comedy,Family,Sci-Fi': 1,\n",
       " 'Crime,Drama,War': 1,\n",
       " 'Action,Documentary,Sport': 1,\n",
       " 'Comedy,Crime,Mystery': 1,\n",
       " 'Adventure,Documentary,Mystery': 1,\n",
       " 'Action,Adventure,History': 1,\n",
       " 'Adventure,Comedy,Romance': 1,\n",
       " 'Drama,Family,Music': 1,\n",
       " 'Animation,Family': 1,\n",
       " 'Biography,Crime,Documentary': 1,\n",
       " 'Western': 1,\n",
       " 'Adventure,Family': 1,\n",
       " 'Action,Documentary,History': 1,\n",
       " 'Adventure,Mystery,Sci-Fi': 1,\n",
       " 'Biography,Documentary,Mystery': 1,\n",
       " 'Drama,Mystery,Western': 1,\n",
       " 'Action,Mystery,Sci-Fi': 1,\n",
       " 'Action,Fantasy,Western': 1,\n",
       " 'Action,Romance': 1,\n",
       " 'Comedy,Crime,Horror': 1,\n",
       " 'Documentary,Drama,Music': 1,\n",
       " 'Action,Comedy,Western': 1,\n",
       " 'Action,Animation,Sci-Fi': 1,\n",
       " 'Comedy,Horror,Romance': 1,\n",
       " 'Animation,Drama,Sci-Fi': 1,\n",
       " 'Adventure,Thriller': 1,\n",
       " 'Adventure,Comedy,Western': 1,\n",
       " 'Sport': 1,\n",
       " 'Adventure,Comedy,Horror': 1,\n",
       " 'Action,Adventure,Mystery': 1,\n",
       " 'Action,Fantasy,Romance': 1,\n",
       " 'Action,Comedy,Thriller': 1,\n",
       " 'Action,Comedy,Sport': 1,\n",
       " 'Comedy,Horror,Thriller': 1,\n",
       " 'Animation,Comedy,Fantasy': 1,\n",
       " 'Animation,Drama,Romance': 1,\n",
       " 'Crime,Documentary,Drama': 1,\n",
       " 'Comedy,Drama,Thriller': 1,\n",
       " 'Fantasy,Mystery,Romance': 1,\n",
       " 'Action,Fantasy': 1,\n",
       " 'Drama,Family,Sport': 1,\n",
       " 'Adventure,Comedy,History': 1,\n",
       " 'Animation,Crime,Drama': 1,\n",
       " 'Action,Animation': 1,\n",
       " 'Animation,Comedy,Crime': 1,\n",
       " 'Action,Biography,History': 1,\n",
       " 'Crime,Mystery': 1,\n",
       " 'Action,Sport,War': 1,\n",
       " 'Documentary,Drama,News': 1,\n",
       " 'History': 1,\n",
       " 'Action,Comedy,Fantasy': 1,\n",
       " 'Crime,Romance,Thriller': 1,\n",
       " 'Thriller,Western': 1,\n",
       " 'Adventure,Horror': 1,\n",
       " 'Action,Animation,Crime': 1,\n",
       " 'Drama,Sport,Thriller': 1,\n",
       " 'Documentary,History,Thriller': 1,\n",
       " 'Adventure,History': 1,\n",
       " 'Action,Comedy,War': 1,\n",
       " 'Action,Comedy,Musical': 1,\n",
       " 'Comedy,Crime,History': 1,\n",
       " 'Animation,Biography,Crime': 1,\n",
       " 'Action,Sport': 1,\n",
       " 'Fantasy,Romance,Thriller': 1,\n",
       " 'Action,Crime,Horror': 1,\n",
       " 'Adventure,Drama,Horror': 1,\n",
       " 'Action,Drama,Music': 1,\n",
       " 'Drama,Fantasy,Music': 1,\n",
       " 'Adventure,Musical': 1,\n",
       " 'Comedy,Sport': 1,\n",
       " 'Documentary,Romance,Sport': 1,\n",
       " 'Action,History,Thriller': 1,\n",
       " 'Adventure,Fantasy,Horror': 1,\n",
       " 'Action,Drama,Western': 1,\n",
       " 'Comedy,Western': 1,\n",
       " 'Adventure,Comedy,Music': 1,\n",
       " 'Biography,Drama,Musical': 1,\n",
       " 'Comedy,Mystery,Sci-Fi': 1,\n",
       " 'Action,Drama,Horror': 1,\n",
       " 'Adventure,Western': 1,\n",
       " 'Documentary,Drama,Romance': 1,\n",
       " 'Adventure,Biography,Comedy': 1,\n",
       " 'Comedy,Crime,Documentary': 1,\n",
       " 'Animation,Drama,History': 1,\n",
       " 'Action,Family,Fantasy': 1,\n",
       " 'Adventure,Documentary,Sport': 1}"
      ]
     },
     "execution_count": 43,
     "metadata": {},
     "output_type": "execute_result"
    }
   ],
   "source": [
    "# creating a dict of the genres column with the name and the number of movies as the key,value pair\n",
    "\n",
    "genres_dict = dict(movie_gross_df['genres'].value_counts())\n",
    "genres_dict"
   ]
  },
  {
   "cell_type": "code",
   "execution_count": 44,
   "metadata": {},
   "outputs": [
    {
     "data": {
      "text/html": [
       "<div>\n",
       "<style scoped>\n",
       "    .dataframe tbody tr th:only-of-type {\n",
       "        vertical-align: middle;\n",
       "    }\n",
       "\n",
       "    .dataframe tbody tr th {\n",
       "        vertical-align: top;\n",
       "    }\n",
       "\n",
       "    .dataframe thead th {\n",
       "        text-align: right;\n",
       "    }\n",
       "</style>\n",
       "<table border=\"1\" class=\"dataframe\">\n",
       "  <thead>\n",
       "    <tr style=\"text-align: right;\">\n",
       "      <th></th>\n",
       "      <th>genres</th>\n",
       "      <th>start_year</th>\n",
       "      <th>domestic_gross</th>\n",
       "      <th>foreign_gross</th>\n",
       "      <th>year</th>\n",
       "      <th>total_gross</th>\n",
       "    </tr>\n",
       "  </thead>\n",
       "  <tbody>\n",
       "    <tr>\n",
       "      <th>0</th>\n",
       "      <td>Action</td>\n",
       "      <td>44303</td>\n",
       "      <td>3.477635e+08</td>\n",
       "      <td>9.252000e+08</td>\n",
       "      <td>44318</td>\n",
       "      <td>1.272963e+09</td>\n",
       "    </tr>\n",
       "    <tr>\n",
       "      <th>1</th>\n",
       "      <td>Action,Adventure</td>\n",
       "      <td>12076</td>\n",
       "      <td>3.245000e+05</td>\n",
       "      <td>8.244700e+07</td>\n",
       "      <td>12080</td>\n",
       "      <td>8.277150e+07</td>\n",
       "    </tr>\n",
       "    <tr>\n",
       "      <th>2</th>\n",
       "      <td>Action,Adventure,Animation</td>\n",
       "      <td>44311</td>\n",
       "      <td>2.184660e+09</td>\n",
       "      <td>4.367500e+09</td>\n",
       "      <td>44318</td>\n",
       "      <td>6.552160e+09</td>\n",
       "    </tr>\n",
       "    <tr>\n",
       "      <th>3</th>\n",
       "      <td>Action,Adventure,Biography</td>\n",
       "      <td>8062</td>\n",
       "      <td>2.402290e+08</td>\n",
       "      <td>5.881000e+08</td>\n",
       "      <td>8063</td>\n",
       "      <td>8.283290e+08</td>\n",
       "    </tr>\n",
       "    <tr>\n",
       "      <th>4</th>\n",
       "      <td>Action,Adventure,Comedy</td>\n",
       "      <td>64493</td>\n",
       "      <td>3.172472e+09</td>\n",
       "      <td>6.631400e+09</td>\n",
       "      <td>64499</td>\n",
       "      <td>9.803872e+09</td>\n",
       "    </tr>\n",
       "  </tbody>\n",
       "</table>\n",
       "</div>"
      ],
      "text/plain": [
       "                       genres  start_year  domestic_gross  foreign_gross  \\\n",
       "0                      Action       44303    3.477635e+08   9.252000e+08   \n",
       "1            Action,Adventure       12076    3.245000e+05   8.244700e+07   \n",
       "2  Action,Adventure,Animation       44311    2.184660e+09   4.367500e+09   \n",
       "3  Action,Adventure,Biography        8062    2.402290e+08   5.881000e+08   \n",
       "4     Action,Adventure,Comedy       64493    3.172472e+09   6.631400e+09   \n",
       "\n",
       "    year   total_gross  \n",
       "0  44318  1.272963e+09  \n",
       "1  12080  8.277150e+07  \n",
       "2  44318  6.552160e+09  \n",
       "3   8063  8.283290e+08  \n",
       "4  64499  9.803872e+09  "
      ]
     },
     "execution_count": 44,
     "metadata": {},
     "output_type": "execute_result"
    }
   ],
   "source": [
    "# using groupby to get data by genres\n",
    "df_genres = movie_gross_df.groupby(['genres']).sum()\n",
    "df_genres.reset_index(inplace = True)\n",
    "df_genres.head()"
   ]
  },
  {
   "cell_type": "code",
   "execution_count": 45,
   "metadata": {},
   "outputs": [
    {
     "data": {
      "text/html": [
       "<div>\n",
       "<style scoped>\n",
       "    .dataframe tbody tr th:only-of-type {\n",
       "        vertical-align: middle;\n",
       "    }\n",
       "\n",
       "    .dataframe tbody tr th {\n",
       "        vertical-align: top;\n",
       "    }\n",
       "\n",
       "    .dataframe thead th {\n",
       "        text-align: right;\n",
       "    }\n",
       "</style>\n",
       "<table border=\"1\" class=\"dataframe\">\n",
       "  <thead>\n",
       "    <tr style=\"text-align: right;\">\n",
       "      <th></th>\n",
       "      <th>genres</th>\n",
       "      <th>start_year</th>\n",
       "      <th>domestic_gross</th>\n",
       "      <th>foreign_gross</th>\n",
       "      <th>year</th>\n",
       "      <th>total_gross</th>\n",
       "    </tr>\n",
       "  </thead>\n",
       "  <tbody>\n",
       "    <tr>\n",
       "      <th>82</th>\n",
       "      <td>Adventure,Animation,Comedy</td>\n",
       "      <td>151065</td>\n",
       "      <td>9.645133e+09</td>\n",
       "      <td>1.802100e+10</td>\n",
       "      <td>151076</td>\n",
       "      <td>2.766613e+10</td>\n",
       "    </tr>\n",
       "    <tr>\n",
       "      <th>13</th>\n",
       "      <td>Action,Adventure,Sci-Fi</td>\n",
       "      <td>94658</td>\n",
       "      <td>1.102470e+10</td>\n",
       "      <td>1.663100e+10</td>\n",
       "      <td>94662</td>\n",
       "      <td>2.765570e+10</td>\n",
       "    </tr>\n",
       "    <tr>\n",
       "      <th>256</th>\n",
       "      <td>Drama</td>\n",
       "      <td>789516</td>\n",
       "      <td>4.611663e+09</td>\n",
       "      <td>9.435122e+09</td>\n",
       "      <td>789549</td>\n",
       "      <td>1.404679e+10</td>\n",
       "    </tr>\n",
       "    <tr>\n",
       "      <th>9</th>\n",
       "      <td>Action,Adventure,Fantasy</td>\n",
       "      <td>62467</td>\n",
       "      <td>4.378787e+09</td>\n",
       "      <td>8.936100e+09</td>\n",
       "      <td>62470</td>\n",
       "      <td>1.331489e+10</td>\n",
       "    </tr>\n",
       "    <tr>\n",
       "      <th>4</th>\n",
       "      <td>Action,Adventure,Comedy</td>\n",
       "      <td>64493</td>\n",
       "      <td>3.172472e+09</td>\n",
       "      <td>6.631400e+09</td>\n",
       "      <td>64499</td>\n",
       "      <td>9.803872e+09</td>\n",
       "    </tr>\n",
       "  </tbody>\n",
       "</table>\n",
       "</div>"
      ],
      "text/plain": [
       "                         genres  start_year  domestic_gross  foreign_gross  \\\n",
       "82   Adventure,Animation,Comedy      151065    9.645133e+09   1.802100e+10   \n",
       "13      Action,Adventure,Sci-Fi       94658    1.102470e+10   1.663100e+10   \n",
       "256                       Drama      789516    4.611663e+09   9.435122e+09   \n",
       "9      Action,Adventure,Fantasy       62467    4.378787e+09   8.936100e+09   \n",
       "4       Action,Adventure,Comedy       64493    3.172472e+09   6.631400e+09   \n",
       "\n",
       "       year   total_gross  \n",
       "82   151076  2.766613e+10  \n",
       "13    94662  2.765570e+10  \n",
       "256  789549  1.404679e+10  \n",
       "9     62470  1.331489e+10  \n",
       "4     64499  9.803872e+09  "
      ]
     },
     "execution_count": 45,
     "metadata": {},
     "output_type": "execute_result"
    }
   ],
   "source": [
    "# sorting the total_gross column in descending order to get the highest grossing genres\n",
    "df_genres.sort_values(by=['total_gross'], ascending = False, inplace = True)\n",
    "df_genres.head()"
   ]
  },
  {
   "cell_type": "code",
   "execution_count": 46,
   "metadata": {
    "scrolled": true
   },
   "outputs": [
    {
     "name": "stdout",
     "output_type": "stream",
     "text": [
      "<class 'pandas.core.frame.DataFrame'>\n",
      "Int64Index: 332 entries, 82 to 329\n",
      "Data columns (total 6 columns):\n",
      " #   Column          Non-Null Count  Dtype  \n",
      "---  ------          --------------  -----  \n",
      " 0   genres          332 non-null    object \n",
      " 1   start_year      332 non-null    int64  \n",
      " 2   domestic_gross  332 non-null    float64\n",
      " 3   foreign_gross   332 non-null    float64\n",
      " 4   year            332 non-null    int64  \n",
      " 5   total_gross     332 non-null    float64\n",
      "dtypes: float64(3), int64(2), object(1)\n",
      "memory usage: 18.2+ KB\n"
     ]
    }
   ],
   "source": [
    "df_genres.info()"
   ]
  },
  {
   "cell_type": "code",
   "execution_count": 79,
   "metadata": {},
   "outputs": [
    {
     "data": {
      "text/plain": [
       "82     2.766613e+10\n",
       "13     2.765570e+10\n",
       "256    1.404679e+10\n",
       "9      1.331489e+10\n",
       "4      9.803872e+09\n",
       "235    8.208522e+09\n",
       "14     6.619698e+09\n",
       "2      6.552160e+09\n",
       "169    6.323046e+09\n",
       "7      5.499287e+09\n",
       "Name: total_gross, dtype: float64"
      ]
     },
     "execution_count": 79,
     "metadata": {},
     "output_type": "execute_result"
    }
   ],
   "source": [
    "df_genres.iloc[0:10, 5]"
   ]
  },
  {
   "cell_type": "code",
   "execution_count": 80,
   "metadata": {},
   "outputs": [
    {
     "data": {
      "image/png": "[encoded data removed]",
      "text/plain": [
       "<Figure size 1080x1080 with 1 Axes>"
      ]
     },
     "metadata": {
      "needs_background": "light"
     },
     "output_type": "display_data"
    }
   ],
   "source": [
    "fig,ax = plt.subplots(figsize = (15,15))\n",
    "\n",
    "ax.bar(x=df_genres.loc[0:10, 'genres'], height=df_genres.loc[0:10, 'total_gross'])\n",
    "plt.show()"
   ]
  },
  {
   "cell_type": "code",
   "execution_count": null,
   "metadata": {},
   "outputs": [],
   "source": []
  }
 ],
 "metadata": {
  "kernelspec": {
   "display_name": "Python (learn-env)",
   "language": "python",
   "name": "learn-env"
  },
  "language_info": {
   "codemirror_mode": {
    "name": "ipython",
    "version": 3
   },
   "file_extension": ".py",
   "mimetype": "text/x-python",
   "name": "python",
   "nbconvert_exporter": "python",
   "pygments_lexer": "ipython3",
   "version": "3.8.5"
  }
 },
 "nbformat": 4,
 "nbformat_minor": 4
}
